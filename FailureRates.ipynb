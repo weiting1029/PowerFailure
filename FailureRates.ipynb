{
 "cells": [
  {
   "cell_type": "code",
   "execution_count": 1,
   "metadata": {},
   "outputs": [
    {
     "name": "stdout",
     "output_type": "stream",
     "text": [
      "Requirement already satisfied: import_ipynb in /opt/anaconda3/lib/python3.7/site-packages (0.1.3)\n",
      "\u001b[33mWARNING: You are using pip version 20.2.2; however, version 20.2.4 is available.\n",
      "You should consider upgrading via the '/opt/anaconda3/bin/python -m pip install --upgrade pip' command.\u001b[0m\n",
      "Note: you may need to restart the kernel to use updated packages.\n"
     ]
    }
   ],
   "source": [
    "pip install import_ipynb"
   ]
  },
  {
   "cell_type": "code",
   "execution_count": 7,
   "metadata": {},
   "outputs": [],
   "source": [
    "import import_ipynb\n",
    "import numpy as np\n",
    "import scipy as sp\n",
    "from scipy.integrate import odeint\n",
    "import math \n",
    "import matplotlib.pyplot as plt\n",
    "import math \n",
    "import time\n",
    "from numpy.random import multivariate_normal"
   ]
  },
  {
   "cell_type": "markdown",
   "metadata": {},
   "source": [
    "# Part I Preparation \n",
    "## 1.1 Define the Kuramoto solver"
   ]
  },
  {
   "cell_type": "code",
   "execution_count": 8,
   "metadata": {},
   "outputs": [],
   "source": [
    "def kuramoto2nd(X,t):\n",
    "    theta = X[0:n]\n",
    "    theta = theta-Omee*t\n",
    "    omega = X[n:2*n]\n",
    "    dtheta = omega \n",
    "    matrix1 = np.repeat(np.reshape(theta,(1,n)),n,axis=0)\n",
    "    matrix2 = np.transpose(matrix1)-matrix1\n",
    "    sinmatrix  = np.sin(matrix2)\n",
    "    domega = (1/M)*(-D*omega+Ome0-K*np.sum(np.multiply(sinmatrix, A),axis=1))\n",
    "    return np.append(dtheta,domega)\n",
    "    \n",
    "                 \n",
    "def solkuramoto(sol0,dt):\n",
    "    return odeint(kuramoto2nd,sol0,dt)\n"
   ]
  },
  {
   "cell_type": "markdown",
   "metadata": {},
   "source": [
    "## 1.2 Define the global violation check function\n",
    "### Type 1: ReCof Violation(ReCoF)\n",
    "### Type 2: Absolute Frequency Violation(AFV)\n",
    "### Type 3: Any Violation(AV)"
   ]
  },
  {
   "cell_type": "code",
   "execution_count": 9,
   "metadata": {},
   "outputs": [],
   "source": [
    "def globalcheck(xx,checktimes,thres,n,tt):\n",
    "    \"\"\"\n",
    "    a function returns all check results \n",
    "\n",
    "    Parameters\n",
    "    ----------\n",
    "    xx : an array \n",
    "        numerical solutions of the ode\n",
    "    checktimes : int\n",
    "        number of checks \n",
    "    thres : a (2,) array\n",
    "        thres = [thres1, thres2]\n",
    "    n : int \n",
    "        number of nodes\n",
    "    tt : int\n",
    "        number of integration steps \n",
    "        \n",
    "    Returns\n",
    "    -------\n",
    "    a 3*n array \n",
    "\n",
    "    \"\"\"\n",
    "    result = np.zeros((3,n))\n",
    "    checkstep = tt//checktimes\n",
    "    absxx = np.abs(xx)\n",
    "    for i in range(n):\n",
    "        for k in range(2):  \n",
    "            for j in range(checktimes):\n",
    "                if(absxx[1+j*checkstep,k*n+i]>thres[k]):\n",
    "                    result[k,i]=1\n",
    "                    break  \n",
    "        result[2,i] = np.max(result[:,i])\n",
    "     \n",
    "    return result \n"
   ]
  },
  {
   "cell_type": "markdown",
   "metadata": {},
   "source": [
    "## 1.3 Define the disturbance generating function "
   ]
  },
  {
   "cell_type": "code",
   "execution_count": 10,
   "metadata": {},
   "outputs": [],
   "source": [
    "def normaldisturbances(n,k,sigma):\n",
    "    \"\"\"\n",
    "    ...\n",
    "    Parameters\n",
    "    ----------\n",
    "    n : int\n",
    "        number of nodes \n",
    "    k : int \n",
    "        sample size\n",
    "    sigma : float \n",
    "        a scalar to control the covariance matrix \n",
    "\n",
    "    Returns\n",
    "    -------\n",
    "    ...\n",
    "        (k,n)\n",
    "\n",
    "    \"\"\"\n",
    "    cov = np.eye(n)*sigma \n",
    "    mu = np.zeros(n)\n",
    "    return multivariate_normal(mu,cov,k)\n",
    "    \n",
    "\n",
    " \n"
   ]
  },
  {
   "cell_type": "markdown",
   "metadata": {},
   "source": [
    "## 1.4 Import functions from the Network module"
   ]
  },
  {
   "cell_type": "code",
   "execution_count": 11,
   "metadata": {},
   "outputs": [],
   "source": [
    "from network import unG, kron_reduction, edge_removing, ngnr"
   ]
  },
  {
   "cell_type": "markdown",
   "metadata": {},
   "source": [
    "# Part 2 Complete networks \n",
    "## 2.1 Parameter setting"
   ]
  },
  {
   "cell_type": "code",
   "execution_count": 63,
   "metadata": {},
   "outputs": [
    {
     "data": {
      "text/plain": [
       "<matplotlib.lines.Line2D at 0x7fd9f8dcf590>"
      ]
     },
     "execution_count": 63,
     "metadata": {},
     "output_type": "execute_result"
    },
    {
     "data": {
      "image/png": "[encoded data removed]",
      "text/plain": [
       "<Figure size 432x288 with 1 Axes>"
      ]
     },
     "metadata": {
      "needs_background": "light"
     },
     "output_type": "display_data"
    }
   ],
   "source": [
    "bigA,redL,redA = kron_reduction(unG,ngnr)\n",
    "# print(redL)\n",
    "# print(redA)\n",
    "#visualize the adjacent matrix\n",
    "import scipy.sparse as sparse\n",
    "sparseA = sparse.csr_matrix(bigA)\n",
    "plt.spy(sparseA)\n"
   ]
  },
  {
   "cell_type": "code",
   "execution_count": 64,
   "metadata": {},
   "outputs": [],
   "source": [
    "K = 1\n",
    "A = redA# let the ajacent matrix be the kron-reduced one\n",
    "n = ngnr #the number of generators \n",
    "M = np.array([0.2228, 0.1607, 0.1899, 0.1517, 0.1379, 0.1846, 0.1401, 0.1289, 0.183, 2.6526])\n",
    "D = np.array([0.0332,0.076,0.0862,0.0838,0.0674,0.0862,0.0743,0.0716,0.1101,0.1333])\n",
    "Ome = np.zeros(n)\n",
    "\n",
    "pi = math.pi\n",
    "\n",
    "t = 15\n",
    "nn = 100\n",
    "\n",
    "\n",
    "theta0 = np.zeros(n)\n",
    "omega0 = np.zeros(n)\n",
    "\n",
    "\n",
    "#calculate the sychronization frequency\n",
    "Omee =  np.sum(Ome)/np.sum(D)\n",
    "Ome0 = Ome-D*Omee\n",
    "\n"
   ]
  },
  {
   "cell_type": "markdown",
   "metadata": {},
   "source": [
    "## 2.2 Without disturbances"
   ]
  },
  {
   "cell_type": "code",
   "execution_count": 18,
   "metadata": {},
   "outputs": [],
   "source": [
    "t=15\n",
    "nn=1000\n",
    "dt = np.linspace(0,t, nn+1)\n",
    "omega0 = np.zeros(n)\n",
    "\n",
    "sol0 = np.zeros((2*n))\n",
    "sol0[0:n] = theta0\n",
    "sol0[n:2*n]= omega0\n",
    "\n",
    "\n",
    "starttime = time.time()\n",
    "vec_sol = solkuramoto(sol0, dt)\n",
    "t2 = time.time()-starttime\n",
    "\n",
    "sol_theta2 = vec_sol[:,0:n]\n",
    "sol_omega2 = vec_sol[:,n:2*n]\n",
    "\n",
    "check_times = 100\n",
    "all_check = globalcheck(vec_sol, check_times, np.array([1,1]), n, nn)\n"
   ]
  },
  {
   "cell_type": "code",
   "execution_count": 21,
   "metadata": {},
   "outputs": [
    {
     "data": {
      "text/plain": [
       "Text(0.5, 1.0, 'Natural rotation frequencies')"
      ]
     },
     "execution_count": 21,
     "metadata": {},
     "output_type": "execute_result"
    },
    {
     "data": {
      "image/png": "[encoded data removed]",
      "text/plain": [
       "<Figure size 432x288 with 1 Axes>"
      ]
     },
     "metadata": {
      "needs_background": "light"
     },
     "output_type": "display_data"
    }
   ],
   "source": [
    "# %% plotting Theta\n",
    "for i in range(n):\n",
    "    theta = vec_sol[:,i]\n",
    "    plt.plot(dt, theta, \"-\", label=\"omega\"+ str(i+1))\n",
    "\n",
    "\n",
    "plt.xlabel(\"Time\")\n",
    "plt.ylabel(\"Omega\")    \n",
    "plt.ylim(-10, 10)\n",
    "plt.legend();\n",
    "plt.title('Natural rotation frequencies')\n"
   ]
  },
  {
   "cell_type": "code",
   "execution_count": 22,
   "metadata": {},
   "outputs": [
    {
     "data": {
      "text/plain": [
       "Text(0.5, 1.0, 'Derivatives of natural rotation frequencies')"
      ]
     },
     "execution_count": 22,
     "metadata": {},
     "output_type": "execute_result"
    },
    {
     "data": {
      "image/png": "[encoded data removed]",
      "text/plain": [
       "<Figure size 432x288 with 1 Axes>"
      ]
     },
     "metadata": {
      "needs_background": "light"
     },
     "output_type": "display_data"
    }
   ],
   "source": [
    "# %% plotting Omega\n",
    "for i in range(n):\n",
    "    omega = vec_sol[:,n+i]  \n",
    "    plt.plot(dt, omega, \"-\", label=\"omega dot \"+ str(i+1))\n",
    "\n",
    "\n",
    "plt.xlabel(\"Time\")\n",
    "\n",
    "plt.ylabel(\"Omega dot\")\n",
    "plt.ylim(-20, 20)\n",
    "plt.legend();\n",
    "plt.title('Derivatives of natural rotation frequencies')\n",
    "\n",
    "\n"
   ]
  },
  {
   "cell_type": "markdown",
   "metadata": {},
   "source": [
    "## 2.3 With normally distributed disturbances \n",
    "### 2.3.1 Against different candidates of numbers of checks "
   ]
  },
  {
   "cell_type": "code",
   "execution_count": null,
   "metadata": {},
   "outputs": [],
   "source": [
    "starttime = time.time()\n",
    "omega0 = np.zeros(n)\n",
    "KK = 2#repetition times  \n",
    "t = 5\n",
    "nn = 2\n",
    "dt = np.linspace(0, t, nn+1)\n",
    "sigma = 0.1\n",
    "disturb_norm = normaldisturbances(n,KK,sigma)\n",
    "Ome0 = np.zeros(n)\n",
    "\n",
    "\n",
    "\n",
    "opt_checks = np.array([10,25,50,100,200,250,500])\n",
    "\n",
    "num_checks = len(opt_checks)\n",
    "vcheck_omega = np.zeros((num_checks,n))\n",
    "vcheck_theta = np.zeros((num_checks,n))\n",
    "vcheck_any = np.zeros((num_checks,n))\n",
    "\n",
    "\n",
    "for k in range(KK):\n",
    "    sol0 = np.pad(disturb_norm[k], (n,0), 'constant', constant_values=(0,0))\n",
    "    vec_sol = solkuramoto(sol0,dt)\n",
    "    for j in range(num_checks):\n",
    "        check_times = opt_checks[j]\n",
    "        all_check = globalcheck(vec_sol, check_times, np.array([0.35,0.5]), n, nn)\n",
    "        vcheck_theta[j] += all_check[0]\n",
    "        vcheck_omega[j] += all_check[1]\n",
    "        vcheck_any[j] += all_check[2]\n",
    "\n",
    "vcheck_omega = vcheck_omega/KK\n",
    "vcheck_theta = vcheck_theta/KK\n",
    "vcheck_any = vcheck_any/KK\n",
    "    \n",
    "\n",
    "stoptime = time.time()\n",
    "totaltime = stoptime-starttime\n",
    "print(\"Total time needed= {:2.2}sec\".format(totaltime))\n"
   ]
  },
  {
   "cell_type": "code",
   "execution_count": null,
   "metadata": {},
   "outputs": [],
   "source": [
    "#%% plot against number of checks with the check_any rate \n",
    "\n",
    "for i in range(n):\n",
    "    plt.plot(opt_checks,vcheck_any[:,i],'-',label = 'node'+str(i+1))\n",
    "\n",
    "plt.xlabel(\"Sample size\")\n",
    "plt.ylabel(\"Any-violation rate\")\n",
    "plt.ylim(0, 1)\n",
    "plt.legend();"
   ]
  },
  {
   "cell_type": "code",
   "execution_count": null,
   "metadata": {},
   "outputs": [],
   "source": [
    "#%% plot against number of checks with the RoCoF rate\n",
    "for i in range(n):\n",
    "    plt.plot(opt_checks,vcheck_omega[:,i],'-',label = 'node'+str(i+1))\n",
    "\n",
    "plt.xlabel(\"Sample size\")\n",
    "plt.ylabel(\"RoCoF violation rate\")\n",
    "plt.ylim(0, 1)\n",
    "plt.legend();\n"
   ]
  },
  {
   "cell_type": "code",
   "execution_count": null,
   "metadata": {},
   "outputs": [],
   "source": [
    "#%% plot against number of checks with the absolute frequency rate \n",
    "\n",
    "for i in range(n):\n",
    "    plt.plot(opt_checks,vcheck_any[:,i],'-',label = 'node'+str(i+1))\n",
    "\n",
    "plt.xlabel(\"Sample size\")\n",
    "plt.ylabel(\"Absolute frequency violation rate\")\n",
    "plt.ylim(0, 1)\n",
    "plt.legend();\n"
   ]
  },
  {
   "cell_type": "markdown",
   "metadata": {},
   "source": [
    "### 2.3.2 Against different candidates of sample sizes and calculate the std.  "
   ]
  },
  {
   "cell_type": "code",
   "execution_count": null,
   "metadata": {},
   "outputs": [],
   "source": [
    "starttime = time.time()\n",
    "omega0 = np.zeros(n)\n",
    "t = 5\n",
    "nn = 1000\n",
    "check_times = 100\n",
    "dt = np.linspace(0, t, nn+1)\n",
    "\n",
    "\n",
    "\n",
    "Ome0 = np.zeros(n)\n",
    "sigma = 0.1\n",
    "NN = 40\n",
    "opt_size = np.linspace(100, 4000,NN)\n",
    "vcheck_omega = np.zeros((NN,2))\n",
    "vcheck_theta = np.zeros((NN,2))\n",
    "vcheck_any = np.zeros((NN,2))\n",
    "\n",
    "\n",
    "\n",
    "\n",
    "\n",
    "for i in range(NN):\n",
    "    KK = int(opt_size[i])\n",
    "    disturb_norm = normaldisturbances(n,KK,sigma)\n",
    "    for k in range(KK):\n",
    "        sol0 = np.pad(disturb_norm[k], (n,0), 'constant', constant_values=(0,0))\n",
    "        vec_sol = solkuramoto(sol0,dt)\n",
    "        all_check = globalcheck(vec_sol, check_times, np.array([0.35,0.5]), n, nn)\n",
    "        vcheck_theta[i,0] += np.max(all_check[0])\n",
    "        vcheck_omega[i,0] += np.max(all_check[1])\n",
    "        vcheck_any[i,0] += np.max(all_check[2])\n",
    "  \n",
    "\n",
    "\n",
    "   \n",
    "   \n",
    "    vcheck_theta[i,0] = vcheck_theta[i,0]/KK\n",
    "    vcheck_theta[i,1] = vcheck_theta[i,0] - vcheck_theta[i,0]**2\n",
    "    vcheck_omega[i,0] = vcheck_omega[i,0]/KK\n",
    "    vcheck_omega[i,1] = vcheck_omega[i,0]- vcheck_omega[i,0]**2\n",
    "    vcheck_any[i,0] = vcheck_any[i,0]/KK\n",
    "    vcheck_any[i,1] = vcheck_any[i,0] - vcheck_any[i,0]**2\n",
    "\n",
    "\n",
    "\n",
    "\n",
    "\n",
    "\n",
    "    \n",
    "        \n",
    "stoptime = time.time()\n",
    "totaltime = stoptime-starttime"
   ]
  },
  {
   "cell_type": "code",
   "execution_count": null,
   "metadata": {},
   "outputs": [],
   "source": [
    "#%% plot against number of, AV\n",
    "\n",
    "c =1.96# at 95% confidence level\n",
    "\n",
    "\n",
    "plt.plot(opt_size,vcheck_any[:,0],'-',label = 'the any violation rate of the system')\n",
    "\n",
    "\n",
    "plt.fill_between(opt_size, \n",
    "                  vcheck_any[:,0]-c*np.sqrt(vcheck_any[:,1])/np.sqrt(opt_size),\n",
    "                  vcheck_any[:,0]+c*np.sqrt(vcheck_any[:,1])/np.sqrt(opt_size),\n",
    "                  color='green', alpha=.5)\n",
    "\n",
    "plt.xlabel(\"Sample size\")\n",
    "plt.ylabel(\"Any-violation rate\")\n",
    "plt.ylim(0.5, 1)\n",
    "plt.legend();\n",
    "\n",
    "\n"
   ]
  },
  {
   "cell_type": "code",
   "execution_count": null,
   "metadata": {},
   "outputs": [],
   "source": [
    "#%% plot against sample size, RoCof\n",
    "\n",
    "c =1.96# at 95% confidence level\n",
    "\n",
    "\n",
    "plt.plot(opt_size,vcheck_omega[:,0],'-',label = 'the RoCoF rate of the system')\n",
    "\n",
    "\n",
    "plt.fill_between(opt_size, \n",
    "                  vcheck_omega[:,0]-c*np.sqrt(vcheck_omega[:,1])/np.sqrt(opt_size),\n",
    "                  vcheck_omega[:,0]+c*np.sqrt(vcheck_omega[:,1])/np.sqrt(opt_size),\n",
    "                  color='green', alpha=.5)\n",
    "\n",
    "plt.xlabel(\"Sample size\")\n",
    "plt.ylabel(\"RoCoF rate\")\n",
    "plt.ylim(0.5, 1)\n",
    "plt.legend();\n"
   ]
  },
  {
   "cell_type": "code",
   "execution_count": null,
   "metadata": {},
   "outputs": [],
   "source": [
    "#%% plot against sample size, AFV \n",
    "\n",
    "c =1.96# at 95% confidence level\n",
    "\n",
    "\n",
    "plt.plot(opt_size,vcheck_theta[:,0],'-',label = 'the absolute frequency violation rate of the system')\n",
    "\n",
    "\n",
    "plt.fill_between(opt_size, \n",
    "                  vcheck_theta[:,0]-c*np.sqrt(vcheck_theta[:,1])/np.sqrt(opt_size),\n",
    "                  vcheck_theta[:,0]+c*np.sqrt(vcheck_theta[:,1])/np.sqrt(opt_size),\n",
    "                  color='green', alpha=.5)\n",
    "\n",
    "plt.xlabel(\"Sample size\")\n",
    "plt.ylabel(\"Absolute frequency violation rate\")\n",
    "plt.ylim(0.5, 1)\n",
    "plt.legend();\n"
   ]
  },
  {
   "cell_type": "markdown",
   "metadata": {},
   "source": [
    "### 2.3.3 A numerical experiment with the number of checks = 100, and sample size = 1000. "
   ]
  },
  {
   "cell_type": "code",
   "execution_count": 65,
   "metadata": {},
   "outputs": [
    {
     "name": "stdout",
     "output_type": "stream",
     "text": [
      "Total time needed= 2.4e+01sec\n"
     ]
    }
   ],
   "source": [
    "starttime = time.time()\n",
    "omega0 = np.zeros(n)\n",
    "Ome0 = np.zeros(n)\n",
    "KK =1000#repetition times  \n",
    "t = 5\n",
    "nn = 1000\n",
    "dt = np.linspace(0, t, nn+1)\n",
    "sigma = 0.05\n",
    "check_times = 100\n",
    "thres = np.array([0.35,0.5])\n",
    "\n",
    "\n",
    "vcheck_omega = np.zeros(n)\n",
    "vcheck_theta = np.zeros(n)\n",
    "vcheck_any = np.zeros(n)\n",
    "mcheck_omega = np.zeros((n,n))\n",
    "mcheck_theta = np.zeros((n,n))\n",
    "mcheck_any = np.zeros((n,n))   \n",
    "\n",
    "\n",
    "disturb_norm = normaldisturbances(n,KK,sigma)\n",
    "\n",
    "for k in range(KK):\n",
    "    sol0 = np.pad(disturb_norm[k], (n,0), 'constant', constant_values=(0,0))\n",
    "    vec_sol = solkuramoto(sol0,dt)\n",
    "    all_check = globalcheck(vec_sol, check_times, thres, n, nn)\n",
    "    vcheck_theta += all_check[0]\n",
    "    vcheck_omega += all_check[1]\n",
    "    vcheck_any += all_check[2]\n",
    "    \n",
    "    mcheck_theta += np.outer(all_check[0],all_check[0])\n",
    "    mcheck_omega += np.outer(all_check[1],all_check[1])\n",
    "    mcheck_any += np.outer(all_check[2],all_check[2])\n",
    "    \n",
    "vcheck_omega = vcheck_omega/KK\n",
    "vcheck_theta = vcheck_theta/KK\n",
    "vcheck_any = vcheck_any/KK\n",
    "mcheck_theta = mcheck_theta/KK\n",
    "mcheck_omega = mcheck_omega/KK\n",
    "mcheck_any = mcheck_any /KK\n",
    "\n",
    "\n",
    "stoptime = time.time()\n",
    "totaltime = stoptime-starttime\n",
    "print(\"Total time needed= {:2.2}sec\".format(totaltime))"
   ]
  },
  {
   "cell_type": "code",
   "execution_count": 66,
   "metadata": {},
   "outputs": [
    {
     "name": "stdout",
     "output_type": "stream",
     "text": [
      "[0.655 0.45  0.423 0.432 0.495 0.442 0.465 0.451 0.362 0.291]\n",
      "[0.611 0.219 0.207 0.209 0.274 0.209 0.244 0.211 0.119 0.097]\n",
      "[0.7   0.45  0.423 0.432 0.495 0.442 0.465 0.451 0.362 0.291]\n"
     ]
    }
   ],
   "source": [
    "print(vcheck_omega)\n",
    "print(vcheck_theta)\n",
    "print(vcheck_any)"
   ]
  },
  {
   "cell_type": "code",
   "execution_count": 68,
   "metadata": {},
   "outputs": [
    {
     "name": "stdout",
     "output_type": "stream",
     "text": [
      "0.4466\n",
      "0.24\n",
      "0.4511\n"
     ]
    }
   ],
   "source": [
    "print(np.mean(vcheck_omega))\n",
    "print(np.mean(vcheck_theta))\n",
    "print(np.mean(vcheck_any))"
   ]
  },
  {
   "cell_type": "code",
   "execution_count": 27,
   "metadata": {},
   "outputs": [
    {
     "data": {
      "text/plain": [
       "Text(0.5, 1.0, 'Natural rotation frequencies')"
      ]
     },
     "execution_count": 27,
     "metadata": {},
     "output_type": "execute_result"
    },
    {
     "data": {
      "image/png": "[encoded data removed]",
      "text/plain": [
       "<Figure size 432x288 with 1 Axes>"
      ]
     },
     "metadata": {
      "needs_background": "light"
     },
     "output_type": "display_data"
    }
   ],
   "source": [
    "# %% plotting Theta\n",
    "for i in range(n):\n",
    "    theta = vec_sol[:,i]\n",
    "    plt.plot(dt, theta, \"-\", label=\"omega\"+ str(i+1))\n",
    "\n",
    "plt.xlabel(\"Time\")\n",
    "plt.ylabel(\"Omega\")    \n",
    "plt.ylim(-5, 5)\n",
    "plt.legend();\n",
    "plt.title('Natural rotation frequencies')\n",
    "\n"
   ]
  },
  {
   "cell_type": "code",
   "execution_count": 28,
   "metadata": {},
   "outputs": [
    {
     "data": {
      "text/plain": [
       "Text(0.5, 1.0, 'Derivatives of natural rotation frequencies')"
      ]
     },
     "execution_count": 28,
     "metadata": {},
     "output_type": "execute_result"
    },
    {
     "data": {
      "image/png": "[encoded data removed]",
      "text/plain": [
       "<Figure size 432x288 with 1 Axes>"
      ]
     },
     "metadata": {
      "needs_background": "light"
     },
     "output_type": "display_data"
    }
   ],
   "source": [
    "# %% plotting Omega\n",
    "for i in range(n):\n",
    "    omega = vec_sol[:,n+i]  \n",
    "    plt.plot(dt, omega, \"-\", label=\"omega dot \"+ str(i+1))\n",
    "\n",
    "\n",
    "plt.xlabel(\"Time\")\n",
    "\n",
    "plt.ylabel(\"Omega dot\")\n",
    "plt.ylim(-5, 5)\n",
    "plt.legend();\n",
    "plt.title('Derivatives of natural rotation frequencies')\n",
    "\n",
    "\n"
   ]
  },
  {
   "cell_type": "code",
   "execution_count": 29,
   "metadata": {},
   "outputs": [],
   "source": [
    "#%%%against different sigma  or thers\n",
    "starttime = time.time()\n",
    "omega0 = np.zeros(n)\n",
    "KK =1000#repetition times  \n",
    "t = 5\n",
    "nn = 1000\n",
    "dt = np.linspace(0, t, nn+1)\n",
    "Ome0 = np.zeros(n)\n",
    "check_times = 100\n",
    "\n",
    "\n",
    "def simulation(sigma,thres):\n",
    "    result = np.zeros(4)\n",
    "    disturb_norm = normaldisturbances(n,KK,sigma)\n",
    "    for k in range(KK):\n",
    "        sol0 = np.pad(disturb_norm[k], (n,0), 'constant', constant_values=(0,0))\n",
    "        vec_sol = solkuramoto(sol0,dt)\n",
    "        all_check = globalcheck(vec_sol, check_times, thres, n, nn)\n",
    "        result[0] += np.max(all_check[0])\n",
    "        result[1] += np.max(all_check[1])\n",
    "        result[2] += np.max(all_check[2])\n",
    "        result[3] += all_check[0,5]\n",
    "        \n",
    "    result[0] = result[0]/KK\n",
    "    result[1] = result[1]/KK\n",
    "    result[2] = result[2]/KK\n",
    "    result[3] = result[3]/KK\n",
    "\n",
    "\n",
    "    return result \n",
    "        "
   ]
  },
  {
   "cell_type": "code",
   "execution_count": 30,
   "metadata": {},
   "outputs": [
    {
     "data": {
      "image/png": "[encoded data removed]",
      "text/plain": [
       "<Figure size 432x288 with 1 Axes>"
      ]
     },
     "metadata": {
      "needs_background": "light"
     },
     "output_type": "display_data"
    }
   ],
   "source": [
    "#%%%against sigma  \n",
    "candidate_sigma = np.array([0.01,0.05,0.1,0.5,1])\n",
    "thres = np.array([0.35,0.5])\n",
    "rates_sigma = np.zeros((len(candidate_sigma),4))\n",
    "\n",
    "for i in range(len(candidate_sigma)):\n",
    "    rates_sigma[i] = simulation(candidate_sigma[i],thres)\n",
    "    \n",
    "\n",
    "\n",
    "# for i in range(4):\n",
    "#     plt.plot(candidate_sigma,rates_sigma[:,i],'-',label = 'rate'+str(i+1))\n",
    "\n",
    "\n",
    "plt.plot(candidate_sigma,rates_sigma[:,0],'-',label = 'RoCof rate of the system')\n",
    "plt.plot(candidate_sigma,rates_sigma[:,1],'-',label = 'Absolute frequency violation rate of the system')\n",
    "plt.plot(candidate_sigma,rates_sigma[:,2],'-',label = 'Any failure rate of the system')\n",
    "plt.plot(candidate_sigma,rates_sigma[:,3],'-',label = 'RoCof rate of Node 6')\n",
    "\n",
    "plt.xlabel(\"sigma\")\n",
    "plt.ylabel(\"Different failure rates\")\n",
    "plt.ylim(0, 1)\n",
    "plt.title(\"Thres 1 = 0.35, Thres 2 = 0.5\")\n",
    "plt.legend();\n"
   ]
  },
  {
   "cell_type": "code",
   "execution_count": 34,
   "metadata": {},
   "outputs": [
    {
     "data": {
      "image/png": "[encoded data removed]",
      "text/plain": [
       "<Figure size 432x288 with 1 Axes>"
      ]
     },
     "metadata": {
      "needs_background": "light"
     },
     "output_type": "display_data"
    }
   ],
   "source": [
    "\n",
    "#%%against thres 1 (for the recof)\n",
    "\n",
    "candidate_thres1 = np.array([0.2,0.3,0.4,0.5,0.6])\n",
    "rate_thres1 = np.zeros((len(candidate_sigma),4))\n",
    "thres2 = 0.5\n",
    "sigma = 0.05\n",
    "\n",
    "disturb_norm = normaldisturbances(n,KK,sigma)\n",
    "for k in range(KK):\n",
    "       sol0 = np.pad(disturb_norm[k], (n,0), 'constant', constant_values=(0,0))\n",
    "       vec_sol = solkuramoto(sol0,dt)\n",
    "       for i in range(len(candidate_thres1)):\n",
    "           all_check = globalcheck(vec_sol, check_times, np.array([candidate_thres1[i],thres2]), n, nn)\n",
    "           rate_thres1[i,0] += np.max(all_check[0])\n",
    "           rate_thres1[i,1] += np.max(all_check[1])\n",
    "           rate_thres1[i,2] += np.max(all_check[2])\n",
    "           rate_thres1[i,3] += all_check[0,5]\n",
    "\n",
    "            \n",
    "\n",
    "rate_thres1 =rate_thres1/KK\n",
    "plt.plot(candidate_thres1,rate_thres1[:,0],'-',label = 'RoCof rate of the system')\n",
    "plt.plot(candidate_thres1,rate_thres1[:,1],'-',label = 'Absolute frequency violation rate of the system')\n",
    "plt.plot(candidate_thres1,rate_thres1[:,2],'-',label = 'Any failure rate of the system')\n",
    "plt.plot(candidate_thres1,rate_thres1[:,3],'-',label = 'RoCof rate of Node 6')\n",
    "\n",
    "plt.xlabel(\"Threshold 1\")\n",
    "plt.ylabel(\"Different failure rates\")\n",
    "plt.ylim(0, 1)\n",
    "plt.title(\"Thres 2 = 0.5, sigma = 0.05\")\n",
    "plt.legend();\n",
    "\n",
    "\n"
   ]
  },
  {
   "cell_type": "code",
   "execution_count": 32,
   "metadata": {},
   "outputs": [
    {
     "data": {
      "image/png": "[encoded data removed]",
      "text/plain": [
       "<Figure size 432x288 with 1 Axes>"
      ]
     },
     "metadata": {
      "needs_background": "light"
     },
     "output_type": "display_data"
    }
   ],
   "source": [
    "#%%% against thres 2(for the absolute violation rates)\n",
    "candidate_thres2 = np.array([0.4,0.5,0.6,0.7,0.8])\n",
    "rate_thres2 = np.zeros((len(candidate_sigma),4))\n",
    "thres1 = 0.5\n",
    "sigma = 0.05\n",
    "\n",
    "disturb_norm = normaldisturbances(n,KK,sigma)\n",
    "for k in range(KK):\n",
    "       sol0 = np.pad(disturb_norm[k], (n,0), 'constant', constant_values=(0,0))\n",
    "       vec_sol = solkuramoto(sol0,dt)\n",
    "       for i in range(len(candidate_thres2))                      :\n",
    "           all_check = globalcheck(vec_sol, check_times, np.array([thres1,candidate_thres2[i]]), n, nn)\n",
    "           rate_thres2[i,0] += np.max(all_check[0])\n",
    "           rate_thres2[i,1] += np.max(all_check[1])\n",
    "           rate_thres2[i,2] += np.max(all_check[2])\n",
    "           rate_thres2[i,3] += all_check[0,5]\n",
    "            \n",
    "\n",
    "rate_thres2 =rate_thres2/KK\n",
    "plt.plot(candidate_thres2,rate_thres2[:,0],'-',label = 'RoCof rate of the system')\n",
    "plt.plot(candidate_thres2,rate_thres2[:,1],'-',label = 'Absolute frequency violation rate of the system')\n",
    "plt.plot(candidate_thres2,rate_thres2[:,2],'-',label = 'Any failure rate of the system')\n",
    "plt.plot(candidate_thres2,rate_thres2[:,3],'-',label = 'RoCof rate of Node 6')\n",
    "\n",
    "plt.xlabel(\"Threshold 2\")\n",
    "plt.ylabel(\"Different failure rates\")\n",
    "plt.ylim(0, 1)\n",
    "plt.title(\"Thres 1 = 0.5, sigma = 0.05\")\n",
    "plt.legend();"
   ]
  },
  {
   "cell_type": "code",
   "execution_count": 33,
   "metadata": {},
   "outputs": [
    {
     "data": {
      "text/plain": [
       "<matplotlib.colorbar.Colorbar at 0x7fd9f71b2bd0>"
      ]
     },
     "execution_count": 33,
     "metadata": {},
     "output_type": "execute_result"
    },
    {
     "data": {
      "image/png": "[encoded data removed]",
      "text/plain": [
       "<Figure size 288x288 with 2 Axes>"
      ]
     },
     "metadata": {
      "needs_background": "light"
     },
     "output_type": "display_data"
    }
   ],
   "source": [
    "\n",
    "#%%%visulizations of joint stats\n",
    "plt.matshow(mcheck_any)\n",
    "plt.title(\"Joint any-violation rates\")\n",
    "plt.colorbar()\n"
   ]
  },
  {
   "cell_type": "markdown",
   "metadata": {},
   "source": [
    "# Part 2 Complete networks \n",
    "## 2.1 Parameter setting"
   ]
  },
  {
   "cell_type": "code",
   "execution_count": 62,
   "metadata": {},
   "outputs": [
    {
     "data": {
      "image/png": "[encoded data removed]",
      "text/plain": [
       "<Figure size 432x288 with 1 Axes>"
      ]
     },
     "metadata": {
      "needs_background": "light"
     },
     "output_type": "display_data"
    }
   ],
   "source": [
    "newG = edge_removing(unG, [1,39])\n",
    "bigA,redL,redA = kron_reduction(newG,ngnr)\n",
    "# print(redL)\n",
    "# print(redA)\n",
    "#visualize the adjacent matrix\n",
    "import scipy.sparse as sparse\n",
    "sparseA = sparse.csr_matrix(bigA)\n",
    "plt.spy(sparseA)\n",
    "\n",
    "K = 1\n",
    "A = redA# let the ajacent matrix be the kron-reduced one\n",
    "n = ngnr #the number of generators \n",
    "M = np.array([0.2228, 0.1607, 0.1899, 0.1517, 0.1379, 0.1846, 0.1401, 0.1289, 0.183, 2.6526])\n",
    "D = np.array([0.0332,0.076,0.0862,0.0838,0.0674,0.0862,0.0743,0.0716,0.1101,0.1333])\n",
    "Ome = np.zeros(n)\n",
    "\n",
    "pi = math.pi\n",
    "\n",
    "t = 15\n",
    "nn = 100\n",
    "\n",
    "\n",
    "theta0 = np.zeros(n)\n",
    "omega0 = np.zeros(n)\n",
    "\n",
    "\n",
    "#calculate the sychronization frequency\n",
    "Omee =  np.sum(Ome)/np.sum(D)\n",
    "Ome0 = Ome-D*Omee\n",
    "\n"
   ]
  },
  {
   "cell_type": "markdown",
   "metadata": {},
   "source": [
    "## 2.2 Without disturbances"
   ]
  },
  {
   "cell_type": "code",
   "execution_count": 18,
   "metadata": {},
   "outputs": [],
   "source": [
    "t=15\n",
    "nn=1000\n",
    "dt = np.linspace(0,t, nn+1)\n",
    "omega0 = np.zeros(n)\n",
    "\n",
    "sol0 = np.zeros((2*n))\n",
    "sol0[0:n] = theta0\n",
    "sol0[n:2*n]= omega0\n",
    "\n",
    "\n",
    "starttime = time.time()\n",
    "vec_sol = solkuramoto(sol0, dt)\n",
    "t2 = time.time()-starttime\n",
    "\n",
    "sol_theta2 = vec_sol[:,0:n]\n",
    "sol_omega2 = vec_sol[:,n:2*n]\n",
    "\n",
    "check_times = 100\n",
    "all_check = globalcheck(vec_sol, check_times, np.array([1,1]), n, nn)\n"
   ]
  },
  {
   "cell_type": "code",
   "execution_count": 21,
   "metadata": {},
   "outputs": [
    {
     "data": {
      "text/plain": [
       "Text(0.5, 1.0, 'Natural rotation frequencies')"
      ]
     },
     "execution_count": 21,
     "metadata": {},
     "output_type": "execute_result"
    },
    {
     "data": {
      "image/png": "[encoded data removed]",
      "text/plain": [
       "<Figure size 432x288 with 1 Axes>"
      ]
     },
     "metadata": {
      "needs_background": "light"
     },
     "output_type": "display_data"
    }
   ],
   "source": [
    "# %% plotting Theta\n",
    "for i in range(n):\n",
    "    theta = vec_sol[:,i]\n",
    "    plt.plot(dt, theta, \"-\", label=\"omega\"+ str(i+1))\n",
    "\n",
    "\n",
    "plt.xlabel(\"Time\")\n",
    "plt.ylabel(\"Omega\")    \n",
    "plt.ylim(-10, 10)\n",
    "plt.legend();\n",
    "plt.title('Natural rotation frequencies')\n"
   ]
  },
  {
   "cell_type": "code",
   "execution_count": 22,
   "metadata": {},
   "outputs": [
    {
     "data": {
      "text/plain": [
       "Text(0.5, 1.0, 'Derivatives of natural rotation frequencies')"
      ]
     },
     "execution_count": 22,
     "metadata": {},
     "output_type": "execute_result"
    },
    {
     "data": {
      "image/png": "[encoded data removed]",
      "text/plain": [
       "<Figure size 432x288 with 1 Axes>"
      ]
     },
     "metadata": {
      "needs_background": "light"
     },
     "output_type": "display_data"
    }
   ],
   "source": [
    "# %% plotting Omega\n",
    "for i in range(n):\n",
    "    omega = vec_sol[:,n+i]  \n",
    "    plt.plot(dt, omega, \"-\", label=\"omega dot \"+ str(i+1))\n",
    "\n",
    "\n",
    "plt.xlabel(\"Time\")\n",
    "\n",
    "plt.ylabel(\"Omega dot\")\n",
    "plt.ylim(-20, 20)\n",
    "plt.legend();\n",
    "plt.title('Derivatives of natural rotation frequencies')\n",
    "\n",
    "\n"
   ]
  },
  {
   "cell_type": "markdown",
   "metadata": {},
   "source": [
    "## 2.3 With normally distributed disturbances \n",
    "### 2.3.1 Against different candidates of numbers of checks "
   ]
  },
  {
   "cell_type": "code",
   "execution_count": null,
   "metadata": {},
   "outputs": [],
   "source": [
    "starttime = time.time()\n",
    "omega0 = np.zeros(n)\n",
    "KK = 2#repetition times  \n",
    "t = 5\n",
    "nn = 2\n",
    "dt = np.linspace(0, t, nn+1)\n",
    "sigma = 0.1\n",
    "disturb_norm = normaldisturbances(n,KK,sigma)\n",
    "Ome0 = np.zeros(n)\n",
    "\n",
    "\n",
    "\n",
    "opt_checks = np.array([10,25,50,100,200,250,500])\n",
    "\n",
    "num_checks = len(opt_checks)\n",
    "vcheck_omega = np.zeros((num_checks,n))\n",
    "vcheck_theta = np.zeros((num_checks,n))\n",
    "vcheck_any = np.zeros((num_checks,n))\n",
    "\n",
    "\n",
    "for k in range(KK):\n",
    "    sol0 = np.pad(disturb_norm[k], (n,0), 'constant', constant_values=(0,0))\n",
    "    vec_sol = solkuramoto(sol0,dt)\n",
    "    for j in range(num_checks):\n",
    "        check_times = opt_checks[j]\n",
    "        all_check = globalcheck(vec_sol, check_times, np.array([0.35,0.5]), n, nn)\n",
    "        vcheck_theta[j] += all_check[0]\n",
    "        vcheck_omega[j] += all_check[1]\n",
    "        vcheck_any[j] += all_check[2]\n",
    "\n",
    "vcheck_omega = vcheck_omega/KK\n",
    "vcheck_theta = vcheck_theta/KK\n",
    "vcheck_any = vcheck_any/KK\n",
    "    \n",
    "\n",
    "stoptime = time.time()\n",
    "totaltime = stoptime-starttime\n",
    "print(\"Total time needed= {:2.2}sec\".format(totaltime))\n"
   ]
  },
  {
   "cell_type": "code",
   "execution_count": null,
   "metadata": {},
   "outputs": [],
   "source": [
    "#%% plot against number of checks with the check_any rate \n",
    "\n",
    "for i in range(n):\n",
    "    plt.plot(opt_checks,vcheck_any[:,i],'-',label = 'node'+str(i+1))\n",
    "\n",
    "plt.xlabel(\"Sample size\")\n",
    "plt.ylabel(\"Any-violation rate\")\n",
    "plt.ylim(0, 1)\n",
    "plt.legend();"
   ]
  },
  {
   "cell_type": "code",
   "execution_count": null,
   "metadata": {},
   "outputs": [],
   "source": [
    "#%% plot against number of checks with the RoCoF rate\n",
    "for i in range(n):\n",
    "    plt.plot(opt_checks,vcheck_omega[:,i],'-',label = 'node'+str(i+1))\n",
    "\n",
    "plt.xlabel(\"Sample size\")\n",
    "plt.ylabel(\"RoCoF violation rate\")\n",
    "plt.ylim(0, 1)\n",
    "plt.legend();\n"
   ]
  },
  {
   "cell_type": "code",
   "execution_count": null,
   "metadata": {},
   "outputs": [],
   "source": [
    "#%% plot against number of checks with the absolute frequency rate \n",
    "\n",
    "for i in range(n):\n",
    "    plt.plot(opt_checks,vcheck_any[:,i],'-',label = 'node'+str(i+1))\n",
    "\n",
    "plt.xlabel(\"Sample size\")\n",
    "plt.ylabel(\"Absolute frequency violation rate\")\n",
    "plt.ylim(0, 1)\n",
    "plt.legend();\n"
   ]
  },
  {
   "cell_type": "markdown",
   "metadata": {},
   "source": [
    "### 2.3.2 Against different candidates of sample sizes and calculate the std.  "
   ]
  },
  {
   "cell_type": "code",
   "execution_count": null,
   "metadata": {},
   "outputs": [],
   "source": [
    "starttime = time.time()\n",
    "omega0 = np.zeros(n)\n",
    "t = 5\n",
    "nn = 1000\n",
    "check_times = 100\n",
    "dt = np.linspace(0, t, nn+1)\n",
    "\n",
    "\n",
    "\n",
    "Ome0 = np.zeros(n)\n",
    "sigma = 0.1\n",
    "NN = 40\n",
    "opt_size = np.linspace(100, 4000,NN)\n",
    "vcheck_omega = np.zeros((NN,2))\n",
    "vcheck_theta = np.zeros((NN,2))\n",
    "vcheck_any = np.zeros((NN,2))\n",
    "\n",
    "\n",
    "\n",
    "\n",
    "\n",
    "for i in range(NN):\n",
    "    KK = int(opt_size[i])\n",
    "    disturb_norm = normaldisturbances(n,KK,sigma)\n",
    "    for k in range(KK):\n",
    "        sol0 = np.pad(disturb_norm[k], (n,0), 'constant', constant_values=(0,0))\n",
    "        vec_sol = solkuramoto(sol0,dt)\n",
    "        all_check = globalcheck(vec_sol, check_times, np.array([0.35,0.5]), n, nn)\n",
    "        vcheck_theta[i,0] += np.max(all_check[0])\n",
    "        vcheck_omega[i,0] += np.max(all_check[1])\n",
    "        vcheck_any[i,0] += np.max(all_check[2])\n",
    "  \n",
    "\n",
    "\n",
    "   \n",
    "   \n",
    "    vcheck_theta[i,0] = vcheck_theta[i,0]/KK\n",
    "    vcheck_theta[i,1] = vcheck_theta[i,0] - vcheck_theta[i,0]**2\n",
    "    vcheck_omega[i,0] = vcheck_omega[i,0]/KK\n",
    "    vcheck_omega[i,1] = vcheck_omega[i,0]- vcheck_omega[i,0]**2\n",
    "    vcheck_any[i,0] = vcheck_any[i,0]/KK\n",
    "    vcheck_any[i,1] = vcheck_any[i,0] - vcheck_any[i,0]**2\n",
    "\n",
    "\n",
    "\n",
    "\n",
    "\n",
    "\n",
    "    \n",
    "        \n",
    "stoptime = time.time()\n",
    "totaltime = stoptime-starttime"
   ]
  },
  {
   "cell_type": "code",
   "execution_count": null,
   "metadata": {},
   "outputs": [],
   "source": [
    "#%% plot against number of, AV\n",
    "\n",
    "c =1.96# at 95% confidence level\n",
    "\n",
    "\n",
    "plt.plot(opt_size,vcheck_any[:,0],'-',label = 'the any violation rate of the system')\n",
    "\n",
    "\n",
    "plt.fill_between(opt_size, \n",
    "                  vcheck_any[:,0]-c*np.sqrt(vcheck_any[:,1])/np.sqrt(opt_size),\n",
    "                  vcheck_any[:,0]+c*np.sqrt(vcheck_any[:,1])/np.sqrt(opt_size),\n",
    "                  color='green', alpha=.5)\n",
    "\n",
    "plt.xlabel(\"Sample size\")\n",
    "plt.ylabel(\"Any-violation rate\")\n",
    "plt.ylim(0.5, 1)\n",
    "plt.legend();\n",
    "\n",
    "\n"
   ]
  },
  {
   "cell_type": "code",
   "execution_count": null,
   "metadata": {},
   "outputs": [],
   "source": [
    "#%% plot against sample size, RoCof\n",
    "\n",
    "c =1.96# at 95% confidence level\n",
    "\n",
    "\n",
    "plt.plot(opt_size,vcheck_omega[:,0],'-',label = 'the RoCoF rate of the system')\n",
    "\n",
    "\n",
    "plt.fill_between(opt_size, \n",
    "                  vcheck_omega[:,0]-c*np.sqrt(vcheck_omega[:,1])/np.sqrt(opt_size),\n",
    "                  vcheck_omega[:,0]+c*np.sqrt(vcheck_omega[:,1])/np.sqrt(opt_size),\n",
    "                  color='green', alpha=.5)\n",
    "\n",
    "plt.xlabel(\"Sample size\")\n",
    "plt.ylabel(\"RoCoF rate\")\n",
    "plt.ylim(0.5, 1)\n",
    "plt.legend();\n"
   ]
  },
  {
   "cell_type": "code",
   "execution_count": null,
   "metadata": {},
   "outputs": [],
   "source": [
    "#%% plot against sample size, AFV \n",
    "\n",
    "c =1.96# at 95% confidence level\n",
    "\n",
    "\n",
    "plt.plot(opt_size,vcheck_theta[:,0],'-',label = 'the absolute frequency violation rate of the system')\n",
    "\n",
    "\n",
    "plt.fill_between(opt_size, \n",
    "                  vcheck_theta[:,0]-c*np.sqrt(vcheck_theta[:,1])/np.sqrt(opt_size),\n",
    "                  vcheck_theta[:,0]+c*np.sqrt(vcheck_theta[:,1])/np.sqrt(opt_size),\n",
    "                  color='green', alpha=.5)\n",
    "\n",
    "plt.xlabel(\"Sample size\")\n",
    "plt.ylabel(\"Absolute frequency violation rate\")\n",
    "plt.ylim(0.5, 1)\n",
    "plt.legend();\n"
   ]
  },
  {
   "cell_type": "markdown",
   "metadata": {},
   "source": [
    "### 2.3.3 A numerical experiment with the number of checks = 100, and sample size = 1000. \n",
    "### (1) Removing edge(20,34)"
   ]
  },
  {
   "cell_type": "code",
   "execution_count": 74,
   "metadata": {},
   "outputs": [
    {
     "data": {
      "image/png": "[encoded data removed]",
      "text/plain": [
       "<Figure size 432x288 with 1 Axes>"
      ]
     },
     "metadata": {
      "needs_background": "light"
     },
     "output_type": "display_data"
    }
   ],
   "source": [
    "newG = edge_removing(unG, [20,34])\n",
    "bigA,redL,redA = kron_reduction(newG,ngnr)\n",
    "# print(redL)\n",
    "# print(redA)\n",
    "#visualize the adjacent matrix\n",
    "import scipy.sparse as sparse\n",
    "sparseA = sparse.csr_matrix(bigA)\n",
    "plt.spy(sparseA)\n",
    "\n",
    "K = 1\n",
    "A = redA# let the ajacent matrix be the kron-reduced one\n",
    "n = ngnr #the number of generators \n",
    "M = np.array([0.2228, 0.1607, 0.1899, 0.1517, 0.1379, 0.1846, 0.1401, 0.1289, 0.183, 2.6526])\n",
    "D = np.array([0.0332,0.076,0.0862,0.0838,0.0674,0.0862,0.0743,0.0716,0.1101,0.1333])\n",
    "Ome = np.zeros(n)\n",
    "\n",
    "pi = math.pi\n",
    "\n",
    "t = 15\n",
    "nn = 100\n",
    "\n",
    "\n",
    "theta0 = np.zeros(n)\n",
    "omega0 = np.zeros(n)\n",
    "\n",
    "\n",
    "#calculate the sychronization frequency\n",
    "Omee =  np.sum(Ome)/np.sum(D)\n",
    "Ome0 = Ome-D*Omee\n",
    "\n"
   ]
  },
  {
   "cell_type": "code",
   "execution_count": 75,
   "metadata": {},
   "outputs": [
    {
     "name": "stdout",
     "output_type": "stream",
     "text": [
      "Total time needed= 2.5e+01sec\n"
     ]
    }
   ],
   "source": [
    "starttime = time.time()\n",
    "omega0 = np.zeros(n)\n",
    "Ome0 = np.zeros(n)\n",
    "KK =1000#repetition times  \n",
    "t = 5\n",
    "nn = 1000\n",
    "dt = np.linspace(0, t, nn+1)\n",
    "sigma = 0.05\n",
    "check_times = 100\n",
    "thres = np.array([0.35,0.5])\n",
    "\n",
    "\n",
    "vcheck_omega = np.zeros(n)\n",
    "vcheck_theta = np.zeros(n)\n",
    "vcheck_any = np.zeros(n)\n",
    "mcheck_omega = np.zeros((n,n))\n",
    "mcheck_theta = np.zeros((n,n))\n",
    "mcheck_any = np.zeros((n,n))   \n",
    "\n",
    "\n",
    "disturb_norm = normaldisturbances(n,KK,sigma)\n",
    "\n",
    "for k in range(KK):\n",
    "    sol0 = np.pad(disturb_norm[k], (n,0), 'constant', constant_values=(0,0))\n",
    "    vec_sol = solkuramoto(sol0,dt)\n",
    "    all_check = globalcheck(vec_sol, check_times, thres, n, nn)\n",
    "    vcheck_theta += all_check[0]\n",
    "    vcheck_omega += all_check[1]\n",
    "    vcheck_any += all_check[2]\n",
    "    \n",
    "    mcheck_theta += np.outer(all_check[0],all_check[0])\n",
    "    mcheck_omega += np.outer(all_check[1],all_check[1])\n",
    "    mcheck_any += np.outer(all_check[2],all_check[2])\n",
    "    \n",
    "vcheck_omega = vcheck_omega/KK\n",
    "vcheck_theta = vcheck_theta/KK\n",
    "vcheck_any = vcheck_any/KK\n",
    "mcheck_theta = mcheck_theta/KK\n",
    "mcheck_omega = mcheck_omega/KK\n",
    "mcheck_any = mcheck_any /KK\n",
    "\n",
    "\n",
    "stoptime = time.time()\n",
    "totaltime = stoptime-starttime\n",
    "print(\"Total time needed= {:2.2}sec\".format(totaltime))"
   ]
  },
  {
   "cell_type": "code",
   "execution_count": 76,
   "metadata": {},
   "outputs": [
    {
     "data": {
      "text/plain": [
       "Text(0.5, 1.0, 'Derivatives of natural rotation frequencies')"
      ]
     },
     "execution_count": 76,
     "metadata": {},
     "output_type": "execute_result"
    },
    {
     "data": {
      "image/png": "[encoded data removed]",
      "text/plain": [
       "<Figure size 432x288 with 1 Axes>"
      ]
     },
     "metadata": {
      "needs_background": "light"
     },
     "output_type": "display_data"
    }
   ],
   "source": [
    "# %% plotting Omega\n",
    "for i in range(n):\n",
    "    omega = vec_sol[:,n+i]  \n",
    "    plt.plot(dt, omega, \"-\", label=\"omega dot \"+ str(i+1))\n",
    "\n",
    "\n",
    "plt.xlabel(\"Time\")\n",
    "\n",
    "plt.ylabel(\"Omega dot\")\n",
    "plt.ylim(-5, 5)\n",
    "plt.legend();\n",
    "plt.title('Derivatives of natural rotation frequencies')\n",
    "\n",
    "\n"
   ]
  },
  {
   "cell_type": "code",
   "execution_count": 77,
   "metadata": {},
   "outputs": [
    {
     "data": {
      "text/plain": [
       "Text(0.5, 1.0, 'Natural rotation frequencies')"
      ]
     },
     "execution_count": 77,
     "metadata": {},
     "output_type": "execute_result"
    },
    {
     "data": {
      "image/png": "[encoded data removed]",
      "text/plain": [
       "<Figure size 432x288 with 1 Axes>"
      ]
     },
     "metadata": {
      "needs_background": "light"
     },
     "output_type": "display_data"
    }
   ],
   "source": [
    "# %% plotting Theta\n",
    "for i in range(n):\n",
    "    theta = vec_sol[:,i]\n",
    "    plt.plot(dt, theta, \"-\", label=\"omega\"+ str(i+1))\n",
    "\n",
    "plt.xlabel(\"Time\")\n",
    "plt.ylabel(\"Omega\")    \n",
    "plt.ylim(-5, 5)\n",
    "plt.legend();\n",
    "plt.title('Natural rotation frequencies')\n",
    "\n"
   ]
  },
  {
   "cell_type": "code",
   "execution_count": 78,
   "metadata": {},
   "outputs": [
    {
     "name": "stdout",
     "output_type": "stream",
     "text": [
      "[0.596 0.441 0.415 0.416 0.457 0.42  0.437 0.435 0.332 0.284]\n",
      "[0.584 0.22  0.202 0.203 0.293 0.218 0.23  0.21  0.119 0.08 ]\n",
      "[0.645 0.441 0.415 0.416 0.457 0.42  0.437 0.435 0.332 0.284]\n"
     ]
    }
   ],
   "source": [
    "print(vcheck_omega)\n",
    "print(vcheck_theta)\n",
    "print(vcheck_any)"
   ]
  },
  {
   "cell_type": "code",
   "execution_count": 79,
   "metadata": {},
   "outputs": [
    {
     "name": "stdout",
     "output_type": "stream",
     "text": [
      "0.42329999999999995\n",
      "0.2359\n",
      "0.4282\n"
     ]
    }
   ],
   "source": [
    "print(np.mean(vcheck_omega))\n",
    "print(np.mean(vcheck_theta))\n",
    "print(np.mean(vcheck_any))"
   ]
  },
  {
   "cell_type": "markdown",
   "metadata": {},
   "source": [
    "### (2) Removing edge(15,16)"
   ]
  },
  {
   "cell_type": "code",
   "execution_count": 69,
   "metadata": {},
   "outputs": [
    {
     "data": {
      "image/png": "[encoded data removed]",
      "text/plain": [
       "<Figure size 432x288 with 1 Axes>"
      ]
     },
     "metadata": {
      "needs_background": "light"
     },
     "output_type": "display_data"
    }
   ],
   "source": [
    "newG = edge_removing(unG, [15,16])\n",
    "bigA,redL,redA = kron_reduction(newG,ngnr)\n",
    "# print(redL)\n",
    "# print(redA)\n",
    "#visualize the adjacent matrix\n",
    "import scipy.sparse as sparse\n",
    "sparseA = sparse.csr_matrix(bigA)\n",
    "plt.spy(sparseA)\n",
    "\n",
    "K = 1\n",
    "A = redA# let the ajacent matrix be the kron-reduced one\n",
    "n = ngnr #the number of generators \n",
    "M = np.array([0.2228, 0.1607, 0.1899, 0.1517, 0.1379, 0.1846, 0.1401, 0.1289, 0.183, 2.6526])\n",
    "D = np.array([0.0332,0.076,0.0862,0.0838,0.0674,0.0862,0.0743,0.0716,0.1101,0.1333])\n",
    "Ome = np.zeros(n)\n",
    "\n",
    "pi = math.pi\n",
    "\n",
    "t = 15\n",
    "nn = 100\n",
    "\n",
    "\n",
    "theta0 = np.zeros(n)\n",
    "omega0 = np.zeros(n)\n",
    "\n",
    "\n",
    "#calculate the sychronization frequency\n",
    "Omee =  np.sum(Ome)/np.sum(D)\n",
    "Ome0 = Ome-D*Omee\n",
    "\n"
   ]
  },
  {
   "cell_type": "code",
   "execution_count": 70,
   "metadata": {},
   "outputs": [
    {
     "name": "stdout",
     "output_type": "stream",
     "text": [
      "Total time needed= 2.5e+01sec\n"
     ]
    }
   ],
   "source": [
    "starttime = time.time()\n",
    "omega0 = np.zeros(n)\n",
    "Ome0 = np.zeros(n)\n",
    "KK =1000#repetition times  \n",
    "t = 5\n",
    "nn = 1000\n",
    "dt = np.linspace(0, t, nn+1)\n",
    "sigma = 0.05\n",
    "check_times = 100\n",
    "thres = np.array([0.35,0.5])\n",
    "\n",
    "\n",
    "vcheck_omega = np.zeros(n)\n",
    "vcheck_theta = np.zeros(n)\n",
    "vcheck_any = np.zeros(n)\n",
    "mcheck_omega = np.zeros((n,n))\n",
    "mcheck_theta = np.zeros((n,n))\n",
    "mcheck_any = np.zeros((n,n))   \n",
    "\n",
    "\n",
    "\n",
    "disturb_norm = normaldisturbances(n,KK,sigma)\n",
    "\n",
    "for k in range(KK):\n",
    "    sol0 = np.pad(disturb_norm[k], (n,0), 'constant', constant_values=(0,0))\n",
    "    vec_sol = solkuramoto(sol0,dt)\n",
    "    all_check = globalcheck(vec_sol, check_times, thres, n, nn)\n",
    "    vcheck_theta += all_check[0]\n",
    "    vcheck_omega += all_check[1]\n",
    "    vcheck_any += all_check[2]\n",
    "    \n",
    "\n",
    "    \n",
    "    mcheck_theta += np.outer(all_check[0],all_check[0])\n",
    "    mcheck_omega += np.outer(all_check[1],all_check[1])\n",
    "    mcheck_any += np.outer(all_check[2],all_check[2])\n",
    "    \n",
    "vcheck_omega = vcheck_omega/KK\n",
    "vcheck_theta = vcheck_theta/KK\n",
    "vcheck_any = vcheck_any/KK\n",
    "mcheck_theta = mcheck_theta/KK\n",
    "mcheck_omega = mcheck_omega/KK\n",
    "mcheck_any = mcheck_any /KK\n",
    "\n",
    "\n",
    "stoptime = time.time()\n",
    "totaltime = stoptime-starttime\n",
    "print(\"Total time needed= {:2.2}sec\".format(totaltime))"
   ]
  },
  {
   "cell_type": "code",
   "execution_count": 71,
   "metadata": {},
   "outputs": [
    {
     "name": "stdout",
     "output_type": "stream",
     "text": [
      "[0.634 0.456 0.443 0.446 0.492 0.445 0.466 0.459 0.365 0.299]\n",
      "[0.605 0.202 0.179 0.199 0.291 0.197 0.228 0.204 0.106 0.085]\n",
      "[0.684 0.456 0.444 0.446 0.492 0.445 0.466 0.459 0.365 0.299]\n"
     ]
    }
   ],
   "source": [
    "print(vcheck_omega)\n",
    "print(vcheck_theta)\n",
    "print(vcheck_any)"
   ]
  },
  {
   "cell_type": "code",
   "execution_count": 73,
   "metadata": {},
   "outputs": [
    {
     "name": "stdout",
     "output_type": "stream",
     "text": [
      "0.45050000000000007\n",
      "0.22959999999999997\n",
      "0.4556000000000001\n"
     ]
    }
   ],
   "source": [
    "print(np.mean(vcheck_omega))\n",
    "print(np.mean(vcheck_theta))\n",
    "print(np.mean(vcheck_any))"
   ]
  },
  {
   "cell_type": "code",
   "execution_count": 50,
   "metadata": {},
   "outputs": [
    {
     "data": {
      "text/plain": [
       "Text(0.5, 1.0, 'Natural rotation frequencies')"
      ]
     },
     "execution_count": 50,
     "metadata": {},
     "output_type": "execute_result"
    },
    {
     "data": {
      "image/png": "[encoded data removed]",
      "text/plain": [
       "<Figure size 432x288 with 1 Axes>"
      ]
     },
     "metadata": {
      "needs_background": "light"
     },
     "output_type": "display_data"
    }
   ],
   "source": [
    "# %% plotting Theta\n",
    "for i in range(n):\n",
    "    theta = vec_sol[:,i]\n",
    "    plt.plot(dt, theta, \"-\", label=\"omega\"+ str(i+1))\n",
    "\n",
    "plt.xlabel(\"Time\")\n",
    "plt.ylabel(\"Omega\")    \n",
    "plt.ylim(-5, 5)\n",
    "plt.legend();\n",
    "plt.title('Natural rotation frequencies')\n",
    "\n"
   ]
  },
  {
   "cell_type": "code",
   "execution_count": 51,
   "metadata": {},
   "outputs": [
    {
     "data": {
      "text/plain": [
       "Text(0.5, 1.0, 'Derivatives of natural rotation frequencies')"
      ]
     },
     "execution_count": 51,
     "metadata": {},
     "output_type": "execute_result"
    },
    {
     "data": {
      "image/png": "[encoded data removed]",
      "text/plain": [
       "<Figure size 432x288 with 1 Axes>"
      ]
     },
     "metadata": {
      "needs_background": "light"
     },
     "output_type": "display_data"
    }
   ],
   "source": [
    "# %% plotting Omega\n",
    "for i in range(n):\n",
    "    omega = vec_sol[:,n+i]  \n",
    "    plt.plot(dt, omega, \"-\", label=\"omega dot \"+ str(i+1))\n",
    "\n",
    "\n",
    "plt.xlabel(\"Time\")\n",
    "\n",
    "plt.ylabel(\"Omega dot\")\n",
    "plt.ylim(-5, 5)\n",
    "plt.legend();\n",
    "plt.title('Derivatives of natural rotation frequencies')\n",
    "\n",
    "\n"
   ]
  },
  {
   "cell_type": "markdown",
   "metadata": {},
   "source": [
    "### (3) Removing edge(23,24)"
   ]
  },
  {
   "cell_type": "code",
   "execution_count": 81,
   "metadata": {},
   "outputs": [
    {
     "data": {
      "image/png": "[encoded data removed]",
      "text/plain": [
       "<Figure size 432x288 with 1 Axes>"
      ]
     },
     "metadata": {
      "needs_background": "light"
     },
     "output_type": "display_data"
    }
   ],
   "source": [
    "newG = edge_removing(unG, [23,24])\n",
    "bigA,redL,redA = kron_reduction(newG,ngnr)\n",
    "# print(redL)\n",
    "# print(redA)\n",
    "#visualize the adjacent matrix\n",
    "import scipy.sparse as sparse\n",
    "sparseA = sparse.csr_matrix(bigA)\n",
    "plt.spy(sparseA)\n",
    "\n",
    "K = 1\n",
    "A = redA# let the ajacent matrix be the kron-reduced one\n",
    "n = ngnr #the number of generators \n",
    "M = np.array([0.2228, 0.1607, 0.1899, 0.1517, 0.1379, 0.1846, 0.1401, 0.1289, 0.183, 2.6526])\n",
    "D = np.array([0.0332,0.076,0.0862,0.0838,0.0674,0.0862,0.0743,0.0716,0.1101,0.1333])\n",
    "Ome = np.zeros(n)\n",
    "\n",
    "pi = math.pi\n",
    "\n",
    "t = 15\n",
    "nn = 100\n",
    "\n",
    "\n",
    "theta0 = np.zeros(n)\n",
    "omega0 = np.zeros(n)\n",
    "\n",
    "\n",
    "#calculate the sychronization frequency\n",
    "Omee =  np.sum(Ome)/np.sum(D)\n",
    "Ome0 = Ome-D*Omee\n",
    "\n"
   ]
  },
  {
   "cell_type": "code",
   "execution_count": 82,
   "metadata": {},
   "outputs": [
    {
     "name": "stdout",
     "output_type": "stream",
     "text": [
      "Total time needed= 2.8e+01sec\n"
     ]
    }
   ],
   "source": [
    "starttime = time.time()\n",
    "omega0 = np.zeros(n)\n",
    "Ome0 = np.zeros(n)\n",
    "KK =1000#repetition times  \n",
    "t = 5\n",
    "nn = 1000\n",
    "dt = np.linspace(0, t, nn+1)\n",
    "sigma = 0.05\n",
    "check_times = 100\n",
    "thres = np.array([0.35,0.5])\n",
    "\n",
    "\n",
    "vcheck_omega = np.zeros(n)\n",
    "vcheck_theta = np.zeros(n)\n",
    "vcheck_any = np.zeros(n)\n",
    "mcheck_omega = np.zeros((n,n))\n",
    "mcheck_theta = np.zeros((n,n))\n",
    "mcheck_any = np.zeros((n,n))   \n",
    "\n",
    "\n",
    "disturb_norm = normaldisturbances(n,KK,sigma)\n",
    "\n",
    "for k in range(KK):\n",
    "    sol0 = np.pad(disturb_norm[k], (n,0), 'constant', constant_values=(0,0))\n",
    "    vec_sol = solkuramoto(sol0,dt)\n",
    "    all_check = globalcheck(vec_sol, check_times, thres, n, nn)\n",
    "    vcheck_theta += all_check[0]\n",
    "    vcheck_omega += all_check[1]\n",
    "    vcheck_any += all_check[2]\n",
    "    \n",
    "    mcheck_theta += np.outer(all_check[0],all_check[0])\n",
    "    mcheck_omega += np.outer(all_check[1],all_check[1])\n",
    "    mcheck_any += np.outer(all_check[2],all_check[2])\n",
    "    \n",
    "vcheck_omega = vcheck_omega/KK\n",
    "vcheck_theta = vcheck_theta/KK\n",
    "vcheck_any = vcheck_any/KK\n",
    "mcheck_theta = mcheck_theta/KK\n",
    "mcheck_omega = mcheck_omega/KK\n",
    "mcheck_any = mcheck_any /KK\n",
    "\n",
    "\n",
    "stoptime = time.time()\n",
    "totaltime = stoptime-starttime\n",
    "print(\"Total time needed= {:2.2}sec\".format(totaltime))"
   ]
  },
  {
   "cell_type": "code",
   "execution_count": 83,
   "metadata": {},
   "outputs": [
    {
     "name": "stdout",
     "output_type": "stream",
     "text": [
      "[0.627 0.457 0.424 0.434 0.495 0.437 0.473 0.454 0.362 0.286]\n",
      "[0.607 0.213 0.179 0.189 0.267 0.198 0.227 0.211 0.103 0.074]\n",
      "[0.666 0.457 0.424 0.434 0.495 0.437 0.473 0.454 0.362 0.286]\n"
     ]
    }
   ],
   "source": [
    "print(vcheck_omega)\n",
    "print(vcheck_theta)\n",
    "print(vcheck_any)"
   ]
  },
  {
   "cell_type": "code",
   "execution_count": 86,
   "metadata": {},
   "outputs": [
    {
     "name": "stdout",
     "output_type": "stream",
     "text": [
      "0.44489999999999996\n",
      "0.22680000000000003\n",
      "0.4488\n"
     ]
    }
   ],
   "source": [
    "print(np.mean(vcheck_omega))\n",
    "print(np.mean(vcheck_theta))\n",
    "print(np.mean(vcheck_any))"
   ]
  },
  {
   "cell_type": "code",
   "execution_count": 84,
   "metadata": {},
   "outputs": [
    {
     "data": {
      "text/plain": [
       "Text(0.5, 1.0, 'Natural rotation frequencies')"
      ]
     },
     "execution_count": 84,
     "metadata": {},
     "output_type": "execute_result"
    },
    {
     "data": {
      "image/png": "[encoded data removed]",
      "text/plain": [
       "<Figure size 432x288 with 1 Axes>"
      ]
     },
     "metadata": {
      "needs_background": "light"
     },
     "output_type": "display_data"
    }
   ],
   "source": [
    "# %% plotting Theta\n",
    "for i in range(n):\n",
    "    theta = vec_sol[:,i]\n",
    "    plt.plot(dt, theta, \"-\", label=\"omega\"+ str(i+1))\n",
    "\n",
    "plt.xlabel(\"Time\")\n",
    "plt.ylabel(\"Omega\")    \n",
    "plt.ylim(-5, 5)\n",
    "plt.legend();\n",
    "plt.title('Natural rotation frequencies')\n",
    "\n"
   ]
  },
  {
   "cell_type": "code",
   "execution_count": 85,
   "metadata": {},
   "outputs": [
    {
     "data": {
      "text/plain": [
       "Text(0.5, 1.0, 'Derivatives of natural rotation frequencies')"
      ]
     },
     "execution_count": 85,
     "metadata": {},
     "output_type": "execute_result"
    },
    {
     "data": {
      "image/png": "[encoded data removed]",
      "text/plain": [
       "<Figure size 432x288 with 1 Axes>"
      ]
     },
     "metadata": {
      "needs_background": "light"
     },
     "output_type": "display_data"
    }
   ],
   "source": [
    "# %% plotting Omega\n",
    "for i in range(n):\n",
    "    omega = vec_sol[:,n+i]  \n",
    "    plt.plot(dt, omega, \"-\", label=\"omega dot \"+ str(i+1))\n",
    "\n",
    "\n",
    "plt.xlabel(\"Time\")\n",
    "\n",
    "plt.ylabel(\"Omega dot\")\n",
    "plt.ylim(-5, 5)\n",
    "plt.legend();\n",
    "plt.title('Derivatives of natural rotation frequencies')\n",
    "\n",
    "\n"
   ]
  }
 ],
 "metadata": {
  "kernelspec": {
   "display_name": "Python 3",
   "language": "python",
   "name": "python3"
  },
  "language_info": {
   "codemirror_mode": {
    "name": "ipython",
    "version": 3
   },
   "file_extension": ".py",
   "mimetype": "text/x-python",
   "name": "python",
   "nbconvert_exporter": "python",
   "pygments_lexer": "ipython3",
   "version": "3.8.5"
  }
 },
 "nbformat": 4,
 "nbformat_minor": 4
}
