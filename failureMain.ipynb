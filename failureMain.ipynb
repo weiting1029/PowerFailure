{
 "cells": [
  {
   "cell_type": "code",
   "execution_count": null,
   "metadata": {
    "scrolled": true
   },
   "outputs": [],
   "source": [
    "import pandas as pd"
   ]
  },
  {
   "cell_type": "code",
   "execution_count": null,
   "metadata": {
    "scrolled": true
   },
   "outputs": [],
   "source": [
    "from powerNetworkSolver import PowerNetworkSolver\n",
    "from powerNetwork import networkTransform, getGenerators, getBuses, getLines,getNumBuses, getNumLines\n",
    "from powerNetwork import getUndGraph, kron_reduction, edge_removing\n",
    "from disturbancesGnr import normaldisturbances\n",
    "from violationChecking import globalcheck\n",
    "import seaborn as sns; sns.set_theme()\n",
    "#importing the function for multi-edge removal\n",
    "from powerNetwork import multi_edge_removing\n"
   ]
  },
  {
   "cell_type": "code",
   "execution_count": null,
   "metadata": {
    "scrolled": true
   },
   "outputs": [],
   "source": [
    "import matplotlib.pyplot as plt"
   ]
  },
  {
   "cell_type": "code",
   "execution_count": null,
   "metadata": {
    "scrolled": true
   },
   "outputs": [],
   "source": [
    "\n",
    "import numpy as np\n",
    "import copy\n",
    "from numpy.linalg import inv \n",
    "import networkx as nx\n",
    "from numpy.random import multivariate_normal\n",
    "from disturbancesGnr import normaldisturbances\n",
    "from scipy.integrate import odeint\n",
    "from violationChecking import violationcheck,globalcheck,globalchecksubset\n",
    "import time \n",
    "import math \n",
    "from functools import reduce\n",
    "\n",
    "\n"
   ]
  },
  {
   "cell_type": "markdown",
   "metadata": {},
   "source": [
    "# 1. Test Case 39, complete network "
   ]
  },
  {
   "cell_type": "code",
   "execution_count": null,
   "metadata": {
    "scrolled": true
   },
   "outputs": [],
   "source": [
    "from pypower.api import case39"
   ]
  },
  {
   "cell_type": "code",
   "execution_count": null,
   "metadata": {
    "scrolled": true
   },
   "outputs": [],
   "source": [
    "network39, subnetwork39 = networkTransform(case39())\n",
    "df_lines39 = getLines(subnetwork39)\n",
    "df_buses39 = getBuses(subnetwork39)"
   ]
  },
  {
   "cell_type": "code",
   "execution_count": null,
   "metadata": {
    "scrolled": true
   },
   "outputs": [],
   "source": [
    "n39, ngnr39, unG39 = getUndGraph(df_buses39,df_lines39, network39)\n",
    "A39, redL39, redA39  = kron_reduction(n39, ngnr39, unG39)\n",
    "node_list =  np.arange(ngnr39)+1\n",
    "\n",
    "#the previous adjacent matrix \n",
    "# redA39 = np.array([[0,2.484, 2.858, 2.372, 1.031, 0.222,2.13,13.057,3.676,7.834],\n",
    "#               [2.484,0,10.494,1.781,0.774,0.166,1.599,1.473,0.903,5.885],\n",
    "#               [2.858,10.494,0,2.522,1.096,0.236,2.264,1.729,1.144,4.772],\n",
    "#               [2.372,1.781,2.522,0,17.136,0.535,5.14,1.699,1.755,1.367],\n",
    "#               [1.031,0.774, 1.096,17.136,0 ,0.232, 2.235, 0.739, 0.763, 0.594],\n",
    "#               [0.222,0.166,0.236,0.535,0.232,0,1.574, 0.159, 0.164, 0.128],\n",
    "#               [2.13,1.599,2.264, 5.14, 2.235, 1.574, 0, 1.526, 1.576, 1.227],\n",
    "#               [13.057,1.473,1.729, 1.699,0.739, 0.159, 1.526, 0, 4.283, 4.159],\n",
    "#               [3.676, 0.903, 1.144, 1.755, 0.763, 0.164, 1.576, 4.283, 0, 1.37],\n",
    "#               [7.834, 5.885, 4.772, 1.367, 0.594, 0.128, 1.227, 4.159, 1.37 ,0]])\n",
    "\n",
    "# redA39 = np.ones((ngnr39,ngnr39))\n",
    "np.fill_diagonal(redA39, 0)\n",
    " "
   ]
  },
  {
   "cell_type": "raw",
   "metadata": {},
   "source": [
    "print(np.round(redA39,5))\n",
    "ax1 = sns.heatmap(redL39.astype(int), annot=True, fmt=\"d\")\n",
    "# print(redL39)\n",
    "ax2 = sns.heatmap(redA39.astype(int), annot=True, fmt=\"d\")"
   ]
  },
  {
   "cell_type": "code",
   "execution_count": null,
   "metadata": {
    "scrolled": true
   },
   "outputs": [],
   "source": [
    "K = 1\n",
    "M = np.array([0.2228, 0.1607, 0.1899, 0.1517, 0.1379, 0.1846, 0.1401, 0.1289, 0.183, 2.6526])\n",
    "D = np.array([0.0332,0.076,0.0862,0.0838,0.0674,0.0862,0.0743,0.0716,0.1101,0.1333])\n",
    "# Ome = np.zeros(n)\n",
    "pi = math.pi\n",
    "t =  2\n",
    "nn = 100\n",
    "dt = np.linspace(0, t, nn+1)\n",
    "\n",
    "sigma = 0.01\n",
    "theta0 = np.zeros(ngnr39)\n",
    "omega0 = np.zeros(ngnr39)\n",
    "OMEGA = np.zeros(ngnr39)\n",
    "model39 = PowerNetworkSolver(theta0,omega0,redA39, ngnr39, D,M,K,OMEGA)"
   ]
  },
  {
   "cell_type": "code",
   "execution_count": null,
   "metadata": {},
   "outputs": [],
   "source": [
    "from numpy.random import seed"
   ]
  },
  {
   "cell_type": "code",
   "execution_count": null,
   "metadata": {
    "scrolled": true
   },
   "outputs": [],
   "source": [
    "#generate numerical tracks \n",
    "seed(100)\n",
    "disturbances = normaldisturbances(ngnr39,1,sigma)\n",
    "sol0 = np.pad(disturbances[0], (ngnr39,0), 'constant', constant_values=(0,0))\n",
    "single_sol = model39.solkuramoto(sol0,dt)\n",
    "sol_domega = model39.getDotOmega(single_sol[:,:ngnr39],single_sol[:,ngnr39:],nn)"
   ]
  },
  {
   "cell_type": "code",
   "execution_count": null,
   "metadata": {},
   "outputs": [],
   "source": [
    "for i in range(ngnr39):\n",
    "    theta = single_sol[:,i]\n",
    "    plt.plot(dt, theta, \"-\", label=\"Theta\"+ str(i+1))\n",
    "\n",
    "plt.xlabel(\"Time\")\n",
    "plt.ylabel(\"Theta\")    \n",
    "plt.ylim(-0.1, 0.1)\n",
    "plt.legend();\n",
    "plt.title('Phase angles')"
   ]
  },
  {
   "cell_type": "code",
   "execution_count": null,
   "metadata": {
    "scrolled": true
   },
   "outputs": [],
   "source": [
    "for i in range(ngnr39):\n",
    "    omega = single_sol[:,ngnr39+i]  \n",
    "    plt.plot(dt, omega, \"-\", label=\"Omega\"+ str(i+1))\n",
    "\n",
    "\n",
    "plt.xlabel(\"Time\")\n",
    "\n",
    "plt.ylabel(\"Omega\")\n",
    "plt.ylim(-0.5, 0.5)\n",
    "plt.legend();\n",
    "plt.title('Natural rotation frequencies')"
   ]
  },
  {
   "cell_type": "code",
   "execution_count": null,
   "metadata": {},
   "outputs": [],
   "source": [
    "for i in range(ngnr39):\n",
    "    domega = sol_domega[:,i]  \n",
    "    plt.plot(dt, domega, \"-\", label=\"Omega Dot\"+ str(i+1))\n",
    "\n",
    "plt.xlabel(\"Time\")\n",
    "plt.ylabel(\"Omega Dot\")\n",
    "plt.ylim(-5, 5)\n",
    "plt.legend();\n",
    "plt.title('Change Rates of Natural rotation frequencies')"
   ]
  },
  {
   "cell_type": "code",
   "execution_count": null,
   "metadata": {
    "scrolled": true
   },
   "outputs": [],
   "source": [
    "# simulation to calculate failure rates \n",
    "check_times = 100\n",
    "KK =3000#repetition times  \n",
    "thres = np.array([0.2,2])#thres1 is for omega, thres2 is for omega_dot\n",
    "rates39 = model39.Simulation(KK, check_times, sigma, thres, t, nn, normaldisturbances)"
   ]
  },
  {
   "cell_type": "code",
   "execution_count": null,
   "metadata": {
    "scrolled": true
   },
   "outputs": [],
   "source": [
    "print(rates39['totaltime'])"
   ]
  },
  {
   "cell_type": "code",
   "execution_count": null,
   "metadata": {
    "scrolled": true
   },
   "outputs": [],
   "source": [
    "df39 = pd.DataFrame({'Node': node_list,'RoCoF': rates39['vcheck_omega'] , 'AFV': rates39['vcheck_theta'] ,'AV': rates39['vcheck_any']})\n",
    "print(df39.to_latex(index=False))"
   ]
  },
  {
   "cell_type": "code",
   "execution_count": null,
   "metadata": {
    "scrolled": true
   },
   "outputs": [],
   "source": [
    "test=pd.DataFrame()"
   ]
  },
  {
   "cell_type": "code",
   "execution_count": null,
   "metadata": {},
   "outputs": [],
   "source": [
    "# show edge list\n",
    "# print\n",
    "edge_list39 = list(unG39.edges)\n",
    "num_edges39 = getNumLines(getLines(subnetwork39))\n",
    "rate_list39 = np.zeros((num_edges39,4))\n",
    "print()\n",
    "j=0\n",
    "for i in edge_list39:\n",
    "    temp_edge = np.array(i)\n",
    "    temp_G39 = edge_removing(unG39, temp_edge)\n",
    "    temp_A39, temp_redL39,temp_redA39 = kron_reduction(n39,ngnr39,temp_G39)\n",
    "    temp_model39 = PowerNetworkSolver(theta0,omega0,temp_redA39,ngnr39,D,M,K,OMEGA)\n",
    "    temp_rates39 = temp_model39.Simulation(KK, check_times, sigma, thres, t, nn, normaldisturbances)\n",
    "    temp_df39 = pd.DataFrame({'Node': node_list,'RoCoF': temp_rates39['vcheck_omega'] , 'AFV': temp_rates39['vcheck_theta'] ,'AV': temp_rates39['vcheck_any']})\n",
    "    rate_list39[j,:]=temp_df39.mean(axis = 0)\n",
    "    j+=1\n",
    "    \n",
    "    "
   ]
  },
  {
   "cell_type": "code",
   "execution_count": null,
   "metadata": {},
   "outputs": [],
   "source": [
    "single_edge_rate39 = pd.DataFrame({'Edge List':edge_list39, 'RoCoF':rate_list39[:,1],'AFV':rate_list39[:,2],'AV':rate_list39[:,3]})"
   ]
  },
  {
   "cell_type": "code",
   "execution_count": null,
   "metadata": {},
   "outputs": [],
   "source": [
    "single_edge_rate39.head()"
   ]
  },
  {
   "cell_type": "code",
   "execution_count": null,
   "metadata": {},
   "outputs": [],
   "source": [
    "single_edge_rate39.to_excel('Single_edge_rate39.xlsx')\n",
    "# print(single_edge_rate39.to_latex(index=False))"
   ]
  },
  {
   "cell_type": "markdown",
   "metadata": {
    "jupyter": {
     "outputs_hidden": true
    },
    "scrolled": true
   },
   "source": [
    "network_test = multi_edge_removing(unG39, [[15,16],[20,34],[23,24]])"
   ]
  },
  {
   "cell_type": "markdown",
   "metadata": {},
   "source": [
    "# 2. Test Case 39, incomplete networks"
   ]
  },
  {
   "cell_type": "markdown",
   "metadata": {},
   "source": [
    "## 2.1 Removing (20, 34)"
   ]
  },
  {
   "cell_type": "code",
   "execution_count": null,
   "metadata": {
    "jupyter": {
     "outputs_hidden": true
    },
    "scrolled": true
   },
   "outputs": [],
   "source": [
    "G3901 = edge_removing(unG39, [20,34])\n",
    "A3901, redL3901, redA3901  = kron_reduction(n39, ngnr39, G3901)\n",
    "model3901 = PowerNetworkSolver(theta0,omega0,redA3901, ngnr39,D,M,K,OMEGA)\n",
    "rates3901 = model3901.Simulation(KK, check_times, sigma, thres, t, nn, normaldisturbances)"
   ]
  },
  {
   "cell_type": "code",
   "execution_count": null,
   "metadata": {
    "jupyter": {
     "outputs_hidden": true
    },
    "scrolled": true
   },
   "outputs": [],
   "source": [
    "df3901 = pd.DataFrame({'Node': node_list,'RoCoF': rates3901['vcheck_omega'] , 'AFV': rates3901['vcheck_theta'] ,'AV': rates3901['vcheck_any']})\n",
    "print(df3901.to_latex(index=False))"
   ]
  },
  {
   "cell_type": "markdown",
   "metadata": {},
   "source": [
    "## 2.2 Removing (15, 16)"
   ]
  },
  {
   "cell_type": "code",
   "execution_count": null,
   "metadata": {
    "jupyter": {
     "outputs_hidden": true
    },
    "scrolled": true
   },
   "outputs": [],
   "source": [
    "G3902 = edge_removing(unG39, [15,16])\n",
    "A3902, redL3902, redA3902  = kron_reduction(n39, ngnr39, G3902)\n",
    "model3902 = PowerNetworkSolver(theta0,omega0,redA3902, ngnr39, D,M,K,OMEGA)\n",
    "rates3902 = model3902.Simulation(KK, check_times, sigma, thres, t, nn, normaldisturbances)"
   ]
  },
  {
   "cell_type": "code",
   "execution_count": null,
   "metadata": {
    "scrolled": true
   },
   "outputs": [],
   "source": []
  },
  {
   "cell_type": "code",
   "execution_count": null,
   "metadata": {
    "scrolled": true
   },
   "outputs": [],
   "source": [
    "# disturbances = normaldisturbances(ngnr39,1,sigma)\n",
    "# sol0 = np.pad(disturbances[0], (ngnr39,0), 'constant', constant_values=(0,0))\n",
    "single_sol = model3902.solkuramoto(sol0,dt)"
   ]
  },
  {
   "cell_type": "code",
   "execution_count": null,
   "metadata": {
    "scrolled": true
   },
   "outputs": [],
   "source": [
    "for i in range(ngnr39):\n",
    "    theta = single_sol[:,i]\n",
    "    plt.plot(dt, theta, \"-\", label=\"omega\"+ str(i+1))\n",
    "\n",
    "plt.xlabel(\"Time\")\n",
    "plt.ylabel(\"Omega\")    \n",
    "plt.ylim(-0.1, 0.1)\n",
    "plt.legend();\n",
    "plt.title('Natural rotation frequencies')"
   ]
  },
  {
   "cell_type": "code",
   "execution_count": null,
   "metadata": {
    "scrolled": true
   },
   "outputs": [],
   "source": [
    "for i in range(ngnr39):\n",
    "    omega = single_sol[:,ngnr39+i]  \n",
    "    plt.plot(dt, omega, \"-\", label=\"omega dot \"+ str(i+1))\n",
    "\n",
    "\n",
    "plt.xlabel(\"Time\")\n",
    "\n",
    "plt.ylabel(\"Omega dot\")\n",
    "plt.ylim(-0.4, 0.4)\n",
    "plt.legend();\n",
    "plt.title('Derivatives of natural rotation frequencies')"
   ]
  },
  {
   "cell_type": "code",
   "execution_count": null,
   "metadata": {
    "scrolled": true
   },
   "outputs": [],
   "source": []
  },
  {
   "cell_type": "code",
   "execution_count": null,
   "metadata": {
    "scrolled": true
   },
   "outputs": [],
   "source": []
  },
  {
   "cell_type": "code",
   "execution_count": null,
   "metadata": {
    "scrolled": true
   },
   "outputs": [],
   "source": []
  },
  {
   "cell_type": "code",
   "execution_count": null,
   "metadata": {
    "jupyter": {
     "outputs_hidden": true
    },
    "scrolled": true
   },
   "outputs": [],
   "source": [
    "df3902 = pd.DataFrame({'Node': node_list,'RoCoF': rates3902['vcheck_omega'] , 'AFV': rates3902['vcheck_theta'] ,'AV': rates3902['vcheck_any']})\n",
    "# print(df3902.to_latex(index=False))"
   ]
  },
  {
   "cell_type": "markdown",
   "metadata": {},
   "source": [
    "## 2.3 Removing (23, 24)"
   ]
  },
  {
   "cell_type": "code",
   "execution_count": null,
   "metadata": {
    "jupyter": {
     "outputs_hidden": true
    },
    "scrolled": true
   },
   "outputs": [],
   "source": [
    "G3903 = edge_removing(unG39, [23,24])\n",
    "A3903, redL3903, redA3903  = kron_reduction(n39, ngnr39, G3903)\n",
    "model3903 = PowerNetworkSolver(theta0,omega0,redA3903, ngnr39, D,M,K,OMEGA)\n",
    "rates3903 = model3903.Simulation(KK, check_times, sigma, thres, t, nn, normaldisturbances)"
   ]
  },
  {
   "cell_type": "code",
   "execution_count": null,
   "metadata": {
    "jupyter": {
     "outputs_hidden": true
    },
    "scrolled": true
   },
   "outputs": [],
   "source": [
    "df3903 = pd.DataFrame({'Node': node_list,'RoCoF': rates3903['vcheck_omega'] , 'AFV': rates3903['vcheck_theta'] ,'AV': rates3903['vcheck_any']})\n",
    "# print(df3903.to_latex(index=False))"
   ]
  },
  {
   "cell_type": "code",
   "execution_count": null,
   "metadata": {
    "jupyter": {
     "outputs_hidden": true
    },
    "scrolled": true
   },
   "outputs": [],
   "source": [
    "pd.options.display.float_format = '{:,.3f}'.format\n",
    "df39.head()"
   ]
  },
  {
   "cell_type": "code",
   "execution_count": null,
   "metadata": {
    "jupyter": {
     "outputs_hidden": true
    },
    "scrolled": true
   },
   "outputs": [],
   "source": [
    "df39_merged = [df39,df3901,df3902,df3903]\n",
    "df39merged = reduce(lambda  left,right: pd.merge(left,right,on=['Node'],\n",
    "                                            how='outer'), df39_merged)\n",
    "df39merged = df39merged.append(df39merged.mean(axis = 0), ignore_index=True)\n",
    "\n",
    "# print(df39merged.to_latex(index=False))"
   ]
  },
  {
   "cell_type": "code",
   "execution_count": null,
   "metadata": {},
   "outputs": [],
   "source": [
    "# print(df39merged)\n",
    "# pd.DataFrame.from_dict(df39_merged)\n",
    "df39merged.head()"
   ]
  },
  {
   "cell_type": "markdown",
   "metadata": {},
   "source": [
    "## 2.4 Removing [4, 5],[15, 16]"
   ]
  },
  {
   "cell_type": "code",
   "execution_count": null,
   "metadata": {
    "jupyter": {
     "outputs_hidden": true
    },
    "scrolled": true
   },
   "outputs": [],
   "source": [
    "G3904 = multi_edge_removing(unG39, ([4,5],[15,16]))\n",
    "A3904, redL3904, redA3904  = kron_reduction(n39, ngnr39, G3904)\n",
    "model3904 = PowerNetworkSolver(theta0,omega0,redA3904, ngnr39, D,M,K,OMEGA)\n",
    "rates3904 = model3904.Simulation(KK, check_times, sigma, thres, t, nn, normaldisturbances)"
   ]
  },
  {
   "cell_type": "code",
   "execution_count": null,
   "metadata": {
    "jupyter": {
     "outputs_hidden": true
    },
    "scrolled": true
   },
   "outputs": [],
   "source": [
    "df3904 = pd.DataFrame({'Node': node_list,'RoCoF': rates3904['vcheck_omega'] , 'AFV': rates3904['vcheck_theta'] ,'AV': rates3904['vcheck_any']})\n",
    "# print(df3901.to_latex(index=False))"
   ]
  },
  {
   "cell_type": "code",
   "execution_count": null,
   "metadata": {
    "jupyter": {
     "outputs_hidden": true
    },
    "scrolled": true
   },
   "outputs": [],
   "source": [
    "print(df3904.head())"
   ]
  },
  {
   "cell_type": "code",
   "execution_count": null,
   "metadata": {
    "jupyter": {
     "outputs_hidden": true
    },
    "scrolled": true
   },
   "outputs": [],
   "source": [
    "df3904"
   ]
  },
  {
   "cell_type": "markdown",
   "metadata": {
    "jupyter": {
     "outputs_hidden": true
    }
   },
   "source": [
    "## 2.5 Removing [4, 5],[15, 16],[4, 14]"
   ]
  },
  {
   "cell_type": "code",
   "execution_count": null,
   "metadata": {
    "jupyter": {
     "outputs_hidden": true
    },
    "scrolled": true
   },
   "outputs": [],
   "source": [
    "G3905 = multi_edge_removing(unG39, ([4,5],[15,16],[4,14]))\n",
    "A3905, redL3905, redA3905  = kron_reduction(n39, ngnr39, G3905)\n",
    "model3905 = PowerNetworkSolver(theta0,omega0,redA3905, ngnr39, D,M,K,OMEGA)\n",
    "rates3905 = model3905.Simulation(KK, check_times, sigma, thres, t, nn, normaldisturbances)"
   ]
  },
  {
   "cell_type": "code",
   "execution_count": null,
   "metadata": {
    "jupyter": {
     "outputs_hidden": true
    },
    "scrolled": true
   },
   "outputs": [],
   "source": [
    "df3905 = pd.DataFrame({'Node': node_list,'RoCoF': rates3905['vcheck_omega'] , 'AFV': rates3905['vcheck_theta'] ,'AV': rates3905['vcheck_any']})"
   ]
  },
  {
   "cell_type": "code",
   "execution_count": null,
   "metadata": {
    "jupyter": {
     "outputs_hidden": true
    },
    "scrolled": true
   },
   "outputs": [],
   "source": []
  },
  {
   "cell_type": "code",
   "execution_count": null,
   "metadata": {
    "jupyter": {
     "outputs_hidden": true
    },
    "scrolled": true
   },
   "outputs": [],
   "source": [
    "df39_merged02 = [df39,df3905]\n",
    "df39merged02 = reduce(lambda  left,right: pd.merge(left,right,on=['Node'],\n",
    "                                            how='outer'), df39_merged02)\n",
    "df39merged02 = df39merged02.append(df39merged02.mean(axis = 0), ignore_index=True)\n",
    "print(df39merged02.to_latex(index=False))\n",
    "# df39merged02.to_excel('tuple.xlsx')"
   ]
  },
  {
   "cell_type": "code",
   "execution_count": null,
   "metadata": {
    "jupyter": {
     "outputs_hidden": true
    },
    "scrolled": true
   },
   "outputs": [],
   "source": []
  },
  {
   "cell_type": "markdown",
   "metadata": {
    "jupyter": {
     "outputs_hidden": true
    }
   },
   "source": [
    "## 2.6 Removing [4, 5]"
   ]
  },
  {
   "cell_type": "code",
   "execution_count": null,
   "metadata": {
    "jupyter": {
     "outputs_hidden": true
    },
    "scrolled": true
   },
   "outputs": [],
   "source": [
    "G3906 = edge_removing(unG39,[4,5])\n",
    "A3906, redL3906, redA3906  = kron_reduction(n39, ngnr39, G3906)\n",
    "model3906 = PowerNetworkSolver(theta0,omega0,redA3906, ngnr39, D,M,K,OMEGA)\n",
    "rates3906 = model3906.Simulation(KK, check_times, sigma, thres, t, nn, normaldisturbances)"
   ]
  },
  {
   "cell_type": "code",
   "execution_count": null,
   "metadata": {
    "jupyter": {
     "outputs_hidden": true
    },
    "scrolled": true
   },
   "outputs": [],
   "source": [
    "df3906 = pd.DataFrame({'Node': node_list,'RoCoF': rates3906['vcheck_omega'] , 'AFV': rates3906['vcheck_theta'] ,'AV': rates3906['vcheck_any']})"
   ]
  },
  {
   "cell_type": "code",
   "execution_count": null,
   "metadata": {
    "jupyter": {
     "outputs_hidden": true
    },
    "scrolled": true
   },
   "outputs": [],
   "source": []
  },
  {
   "cell_type": "markdown",
   "metadata": {
    "jupyter": {
     "outputs_hidden": true
    }
   },
   "source": [
    "## 2.7 Removing [4, 14]"
   ]
  },
  {
   "cell_type": "code",
   "execution_count": null,
   "metadata": {
    "jupyter": {
     "outputs_hidden": true
    },
    "scrolled": true
   },
   "outputs": [],
   "source": [
    "G3907 = edge_removing(unG39,[4,14])\n",
    "A3907, redL3907, redA3907  = kron_reduction(n39, ngnr39, G3907)\n",
    "model3907 = PowerNetworkSolver(theta0,omega0,redA3907, ngnr39, D,M,K,OMEGA)\n",
    "rates3907 = model3907.Simulation(KK, check_times, sigma, thres, t, nn, normaldisturbances)"
   ]
  },
  {
   "cell_type": "code",
   "execution_count": null,
   "metadata": {
    "jupyter": {
     "outputs_hidden": true
    },
    "scrolled": true
   },
   "outputs": [],
   "source": [
    "df3907 = pd.DataFrame({'Node': node_list,'RoCoF': rates3907['vcheck_omega'] , 'AFV': rates3907['vcheck_theta'] ,'AV': rates3907['vcheck_any']})"
   ]
  },
  {
   "cell_type": "code",
   "execution_count": null,
   "metadata": {
    "jupyter": {
     "outputs_hidden": true
    },
    "scrolled": true
   },
   "outputs": [],
   "source": []
  },
  {
   "cell_type": "code",
   "execution_count": null,
   "metadata": {
    "jupyter": {
     "outputs_hidden": true
    },
    "scrolled": true
   },
   "outputs": [],
   "source": []
  },
  {
   "cell_type": "code",
   "execution_count": null,
   "metadata": {
    "jupyter": {
     "outputs_hidden": true
    },
    "scrolled": true
   },
   "outputs": [],
   "source": [
    "print(np.shape(np.reshape(np.ones(10),(1,10))*np.reshape(np.ones(10),(1,10))))\n",
    "print(np.shape(np.ones(10)*np.ones(10)))"
   ]
  },
  {
   "cell_type": "code",
   "execution_count": null,
   "metadata": {
    "jupyter": {
     "outputs_hidden": true
    },
    "scrolled": true
   },
   "outputs": [],
   "source": []
  },
  {
   "cell_type": "code",
   "execution_count": null,
   "metadata": {
    "jupyter": {
     "outputs_hidden": true
    },
    "scrolled": true
   },
   "outputs": [],
   "source": [
    "df39_merged02 = [df3906,df3907,df3904,df3905]\n",
    "df39merged02 = reduce(lambda  left,right: pd.merge(left,right,on=['Node'],\n",
    "                                            how='outer'), df39_merged02)\n",
    "df39merged02 = df39merged02.append(df39merged02.mean(axis = 0), ignore_index=True)\n",
    "print(df39merged02.to_latex(index=False))"
   ]
  },
  {
   "cell_type": "code",
   "execution_count": null,
   "metadata": {},
   "outputs": [],
   "source": []
  },
  {
   "cell_type": "code",
   "execution_count": null,
   "metadata": {},
   "outputs": [],
   "source": []
  },
  {
   "cell_type": "code",
   "execution_count": null,
   "metadata": {},
   "outputs": [],
   "source": []
  },
  {
   "cell_type": "code",
   "execution_count": null,
   "metadata": {},
   "outputs": [],
   "source": []
  },
  {
   "cell_type": "code",
   "execution_count": null,
   "metadata": {},
   "outputs": [],
   "source": []
  }
 ],
 "metadata": {
  "kernelspec": {
   "display_name": "Python 3",
   "language": "python",
   "name": "python3"
  },
  "language_info": {
   "codemirror_mode": {
    "name": "ipython",
    "version": 3
   },
   "file_extension": ".py",
   "mimetype": "text/x-python",
   "name": "python",
   "nbconvert_exporter": "python",
   "pygments_lexer": "ipython3",
   "version": "3.8.5"
  }
 },
 "nbformat": 4,
 "nbformat_minor": 4
}
