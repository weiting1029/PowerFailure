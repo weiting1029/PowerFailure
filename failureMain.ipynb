{
 "cells": [
  {
   "cell_type": "code",
   "execution_count": 2,
   "metadata": {
    "collapsed": true,
    "jupyter": {
     "outputs_hidden": true
    }
   },
   "outputs": [],
   "source": [
    "import pandas as pd"
   ]
  },
  {
   "cell_type": "code",
   "execution_count": 3,
   "metadata": {
    "collapsed": true,
    "jupyter": {
     "outputs_hidden": true
    }
   },
   "outputs": [],
   "source": [
    "from powerNetworkSolver import PowerNetworkSolver\n",
    "from powerNetwork import networkTransform, getGenerators, getBuses, getLines,getNumBuses, getNumLines\n",
    "from powerNetwork import getUndGraph, kron_reduction, edge_removing\n",
    "from disturbancesGnr import normaldisturbances\n",
    "from violationChecking import globalcheck\n",
    "\n",
    "#importing the function for multi-edge removal\n",
    "from powerNetwork import multi_edge_removing\n"
   ]
  },
  {
   "cell_type": "code",
   "execution_count": 24,
   "metadata": {
    "collapsed": true,
    "jupyter": {
     "outputs_hidden": true
    }
   },
   "outputs": [],
   "source": [
    "\n",
    "import numpy as np\n",
    "import copy\n",
    "from numpy.linalg import inv \n",
    "import networkx as nx\n",
    "from numpy.random import multivariate_normal\n",
    "from disturbancesGnr import normaldisturbances\n",
    "from scipy.integrate import odeint\n",
    "from violationChecking import violationcheck,globalcheck,globalchecksubset\n",
    "import time \n",
    "import math \n",
    "from functools import reduce\n",
    "\n",
    "\n"
   ]
  },
  {
   "cell_type": "code",
   "execution_count": null,
   "metadata": {
    "collapsed": true,
    "jupyter": {
     "outputs_hidden": true
    }
   },
   "outputs": [],
   "source": []
  },
  {
   "cell_type": "markdown",
   "metadata": {},
   "source": [
    "# 1. Test Case 39, complete network "
   ]
  },
  {
   "cell_type": "code",
   "execution_count": 5,
   "metadata": {
    "collapsed": true,
    "jupyter": {
     "outputs_hidden": true
    }
   },
   "outputs": [],
   "source": [
    "from pypower.api import case39"
   ]
  },
  {
   "cell_type": "code",
   "execution_count": 6,
   "metadata": {
    "collapsed": true,
    "jupyter": {
     "outputs_hidden": true
    }
   },
   "outputs": [
    {
     "name": "stderr",
     "output_type": "stream",
     "text": [
      "WARNING:pypsa.io:Warning: Note that when importing from PYPOWER, some PYPOWER features not supported: areas, gencosts, component status\n",
      "INFO:numexpr.utils:Note: NumExpr detected 12 cores but \"NUMEXPR_MAX_THREADS\" not set, so enforcing safe limit of 8.\n",
      "INFO:numexpr.utils:NumExpr defaulting to 8 threads.\n"
     ]
    }
   ],
   "source": [
    "network39, subnetwork39 = networkTransform(case39())\n",
    "df_lines39 = getLines(subnetwork39)\n",
    "df_buses39 = getBuses(subnetwork39)"
   ]
  },
  {
   "cell_type": "code",
   "execution_count": 7,
   "metadata": {
    "collapsed": true,
    "jupyter": {
     "outputs_hidden": true
    }
   },
   "outputs": [],
   "source": [
    "n39, ngnr39, unG39 = getUndGraph(df_buses39,df_lines39, network39)\n",
    "A39, redL39, redA39  = kron_reduction(n39, ngnr39, unG39)"
   ]
  },
  {
   "cell_type": "code",
   "execution_count": 8,
   "metadata": {
    "collapsed": true,
    "jupyter": {
     "outputs_hidden": true
    }
   },
   "outputs": [],
   "source": [
    "node_list =  np.arange(ngnr39)+1"
   ]
  },
  {
   "cell_type": "code",
   "execution_count": 9,
   "metadata": {
    "collapsed": true,
    "jupyter": {
     "outputs_hidden": true
    }
   },
   "outputs": [],
   "source": [
    "K = 1\n",
    "M = np.array([0.2228, 0.1607, 0.1899, 0.1517, 0.1379, 0.1846, 0.1401, 0.1289, 0.183, 2.6526])\n",
    "D = np.array([0.0332,0.076,0.0862,0.0838,0.0674,0.0862,0.0743,0.0716,0.1101,0.1333])\n",
    "# Ome = np.zeros(n)\n",
    "pi = math.pi\n",
    "\n",
    "t = 15\n",
    "nn = 100\n",
    "\n",
    "theta0 = np.zeros(ngnr39)\n",
    "omega0 = np.zeros(ngnr39)\n",
    "model39 = PowerNetworkSolver(theta0,omega0,redA39, ngnr39, D,M,K)"
   ]
  },
  {
   "cell_type": "code",
   "execution_count": 10,
   "metadata": {
    "collapsed": true,
    "jupyter": {
     "outputs_hidden": true
    }
   },
   "outputs": [],
   "source": [
    "KK =3000#repetition times  \n",
    "t = 5\n",
    "nn = 1000\n",
    "dt = np.linspace(0, t, nn+1)\n",
    "sigma = 0.05\n",
    "check_times = 100\n",
    "thres = np.array([0.35,0.5])\n",
    "\n",
    "rates39 = model39.Simulation(KK, check_times, sigma, thres, t, nn, normaldisturbances)"
   ]
  },
  {
   "cell_type": "code",
   "execution_count": 11,
   "metadata": {
    "collapsed": true,
    "jupyter": {
     "outputs_hidden": true
    }
   },
   "outputs": [],
   "source": [
    "df39 = pd.DataFrame({'Node': node_list,'RoCoF': rates39['vcheck_omega'] , 'AFV': rates39['vcheck_theta'] ,'AV': rates39['vcheck_any']})\n",
    "# print(df39.to_latex(index=False))"
   ]
  },
  {
   "cell_type": "code",
   "execution_count": 12,
   "metadata": {
    "collapsed": true,
    "jupyter": {
     "outputs_hidden": true
    }
   },
   "outputs": [
    {
     "name": "stdout",
     "output_type": "stream",
     "text": [
      "G0    30\n",
      "G1    31\n",
      "G2    32\n",
      "G3    33\n",
      "G4    34\n",
      "G5    35\n",
      "G6    36\n",
      "G7    37\n",
      "G8    38\n",
      "G9    39\n",
      "Name: bus, dtype: object\n"
     ]
    }
   ],
   "source": [
    "print(getGenerators(network39))"
   ]
  },
  {
   "cell_type": "code",
   "execution_count": 13,
   "metadata": {
    "collapsed": true,
    "jupyter": {
     "outputs_hidden": true
    }
   },
   "outputs": [
    {
     "name": "stdout",
     "output_type": "stream",
     "text": [
      "         Pd\n",
      "1     97.60\n",
      "2      0.00\n",
      "3    322.00\n",
      "4    500.00\n",
      "5      0.00\n",
      "6      0.00\n",
      "7    233.80\n",
      "8    522.00\n",
      "9      6.50\n",
      "10     0.00\n",
      "11     0.00\n",
      "12     8.53\n",
      "13     0.00\n",
      "14     0.00\n",
      "15   320.00\n",
      "16   329.00\n",
      "17     0.00\n",
      "18   158.00\n",
      "19     0.00\n",
      "20   680.00\n",
      "21   274.00\n",
      "22     0.00\n",
      "23   247.50\n",
      "24   308.60\n",
      "25   224.00\n",
      "26   139.00\n",
      "27   281.00\n",
      "28   206.00\n",
      "29   283.50\n",
      "30     0.00\n",
      "31     9.20\n",
      "32     0.00\n",
      "33     0.00\n",
      "34     0.00\n",
      "35     0.00\n",
      "36     0.00\n",
      "37     0.00\n",
      "38     0.00\n",
      "39  1104.00\n"
     ]
    }
   ],
   "source": [
    "print(getBuses(subnetwork39))"
   ]
  },
  {
   "cell_type": "code",
   "execution_count": 14,
   "metadata": {
    "collapsed": true,
    "jupyter": {
     "outputs_hidden": true
    }
   },
   "outputs": [
    {
     "name": "stdout",
     "output_type": "stream",
     "text": [
      "[15, 16]\n",
      "[20, 34]\n",
      "The graph is not connected without edge (20, 34)\n",
      "[23, 24]\n"
     ]
    }
   ],
   "source": [
    "network_test = multi_edge_removing(unG39, [[15,16],[20,34],[23,24]])\n"
   ]
  },
  {
   "cell_type": "code",
   "execution_count": 15,
   "metadata": {
    "collapsed": true,
    "jupyter": {
     "outputs_hidden": true
    }
   },
   "outputs": [
    {
     "name": "stdout",
     "output_type": "stream",
     "text": [
      "[(1, 2.0), (1, 39.0), (2, 3.0), (2, 25.0), (2, 30.0), (3, 4.0), (3, 18.0), (4, 5.0), (4, 14.0), (5, 6.0), (5, 8.0), (6, 7.0), (6, 11.0), (6, 31.0), (7, 8.0), (8, 9.0), (9, 39.0), (10, 11.0), (10, 13.0), (10, 32.0), (11, 12), (12, 13.0), (13, 14.0), (14, 15.0), (15, 16.0), (16, 17.0), (16, 19.0), (16, 21.0), (16, 24.0), (17, 18.0), (17, 27.0), (19, 20.0), (19, 33.0), (20, 34.0), (21, 22.0), (22, 23.0), (22, 35.0), (23, 24.0), (23, 36.0), (25, 26.0), (25, 37.0), (26, 27.0), (26, 28.0), (26, 29.0), (28, 29.0), (29, 38.0)]\n"
     ]
    }
   ],
   "source": [
    "print(unG39.edges)"
   ]
  },
  {
   "cell_type": "markdown",
   "metadata": {},
   "source": [
    "# 2. Test Case 39, incomplete networks"
   ]
  },
  {
   "cell_type": "markdown",
   "metadata": {},
   "source": [
    "## 2.1 Removing (20, 34)"
   ]
  },
  {
   "cell_type": "code",
   "execution_count": 48,
   "metadata": {
    "collapsed": true,
    "jupyter": {
     "outputs_hidden": true
    }
   },
   "outputs": [
    {
     "name": "stdout",
     "output_type": "stream",
     "text": [
      "The graph is not connected without edge (20, 34)\n"
     ]
    }
   ],
   "source": [
    "G3901 = edge_removing(unG39, [20,34])\n",
    "A3901, redL3901, redA3901  = kron_reduction(n39, ngnr39, G3901)\n",
    "model3901 = PowerNetworkSolver(theta0,omega0,redA3901, ngnr39, D,M,K)\n",
    "rates3901 = model3901.Simulation(KK, check_times, sigma, thres, t, nn, normaldisturbances)"
   ]
  },
  {
   "cell_type": "code",
   "execution_count": 17,
   "metadata": {
    "collapsed": true,
    "jupyter": {
     "outputs_hidden": true
    }
   },
   "outputs": [],
   "source": [
    "df3901 = pd.DataFrame({'Node': node_list,'RoCoF': rates3901['vcheck_omega'] , 'AFV': rates3901['vcheck_theta'] ,'AV': rates3901['vcheck_any']})\n",
    "# print(df3901.to_latex(index=False))"
   ]
  },
  {
   "cell_type": "markdown",
   "metadata": {},
   "source": [
    "## 2.2 Removing (15, 16)"
   ]
  },
  {
   "cell_type": "code",
   "execution_count": 47,
   "metadata": {
    "collapsed": true,
    "jupyter": {
     "outputs_hidden": true
    }
   },
   "outputs": [],
   "source": [
    "G3902 = edge_removing(unG39, [15,16])\n",
    "A3902, redL3902, redA3902  = kron_reduction(n39, ngnr39, G3902)\n",
    "model3902 = PowerNetworkSolver(theta0,omega0,redA3902, ngnr39, D,M,K)\n",
    "rates3902 = model3902.Simulation(KK, check_times, sigma, thres, t, nn, normaldisturbances)"
   ]
  },
  {
   "cell_type": "code",
   "execution_count": 19,
   "metadata": {
    "collapsed": true,
    "jupyter": {
     "outputs_hidden": true
    }
   },
   "outputs": [],
   "source": [
    "df3902 = pd.DataFrame({'Node': node_list,'RoCoF': rates3902['vcheck_omega'] , 'AFV': rates3902['vcheck_theta'] ,'AV': rates3902['vcheck_any']})\n",
    "# print(df3902.to_latex(index=False))"
   ]
  },
  {
   "cell_type": "markdown",
   "metadata": {},
   "source": [
    "## 2.3 Removing (23, 24)"
   ]
  },
  {
   "cell_type": "code",
   "execution_count": 46,
   "metadata": {
    "collapsed": true,
    "jupyter": {
     "outputs_hidden": true
    }
   },
   "outputs": [],
   "source": [
    "G3903 = edge_removing(unG39, [23,24])\n",
    "A3903, redL3903, redA3903  = kron_reduction(n39, ngnr39, G3903)\n",
    "model3903 = PowerNetworkSolver(theta0,omega0,redA3903, ngnr39, D,M,K)\n",
    "rates3903 = model3903.Simulation(KK, check_times, sigma, thres, t, nn, normaldisturbances)"
   ]
  },
  {
   "cell_type": "code",
   "execution_count": 21,
   "metadata": {
    "collapsed": true,
    "jupyter": {
     "outputs_hidden": true
    }
   },
   "outputs": [],
   "source": [
    "df3903 = pd.DataFrame({'Node': node_list,'RoCoF': rates3903['vcheck_omega'] , 'AFV': rates3903['vcheck_theta'] ,'AV': rates3903['vcheck_any']})\n",
    "# print(df3903.to_latex(index=False))"
   ]
  },
  {
   "cell_type": "code",
   "execution_count": 22,
   "metadata": {
    "collapsed": true,
    "jupyter": {
     "outputs_hidden": true
    }
   },
   "outputs": [
    {
     "data": {
      "text/html": [
       "<div>\n",
       "<style scoped>\n",
       "    .dataframe tbody tr th:only-of-type {\n",
       "        vertical-align: middle;\n",
       "    }\n",
       "\n",
       "    .dataframe tbody tr th {\n",
       "        vertical-align: top;\n",
       "    }\n",
       "\n",
       "    .dataframe thead th {\n",
       "        text-align: right;\n",
       "    }\n",
       "</style>\n",
       "<table border=\"1\" class=\"dataframe\">\n",
       "  <thead>\n",
       "    <tr style=\"text-align: right;\">\n",
       "      <th></th>\n",
       "      <th>Node</th>\n",
       "      <th>RoCoF</th>\n",
       "      <th>AFV</th>\n",
       "      <th>AV</th>\n",
       "    </tr>\n",
       "  </thead>\n",
       "  <tbody>\n",
       "    <tr>\n",
       "      <th>0</th>\n",
       "      <td>1</td>\n",
       "      <td>0.639</td>\n",
       "      <td>0.603</td>\n",
       "      <td>0.686</td>\n",
       "    </tr>\n",
       "    <tr>\n",
       "      <th>1</th>\n",
       "      <td>2</td>\n",
       "      <td>0.457</td>\n",
       "      <td>0.200</td>\n",
       "      <td>0.457</td>\n",
       "    </tr>\n",
       "    <tr>\n",
       "      <th>2</th>\n",
       "      <td>3</td>\n",
       "      <td>0.425</td>\n",
       "      <td>0.184</td>\n",
       "      <td>0.425</td>\n",
       "    </tr>\n",
       "    <tr>\n",
       "      <th>3</th>\n",
       "      <td>4</td>\n",
       "      <td>0.429</td>\n",
       "      <td>0.187</td>\n",
       "      <td>0.429</td>\n",
       "    </tr>\n",
       "    <tr>\n",
       "      <th>4</th>\n",
       "      <td>5</td>\n",
       "      <td>0.489</td>\n",
       "      <td>0.272</td>\n",
       "      <td>0.489</td>\n",
       "    </tr>\n",
       "  </tbody>\n",
       "</table>\n",
       "</div>"
      ],
      "text/plain": [
       "   Node  RoCoF   AFV    AV\n",
       "0     1  0.639 0.603 0.686\n",
       "1     2  0.457 0.200 0.457\n",
       "2     3  0.425 0.184 0.425\n",
       "3     4  0.429 0.187 0.429\n",
       "4     5  0.489 0.272 0.489"
      ]
     },
     "execution_count": 22,
     "metadata": {},
     "output_type": "execute_result"
    }
   ],
   "source": [
    "pd.options.display.float_format = '{:,.3f}'.format\n",
    "df39.head()"
   ]
  },
  {
   "cell_type": "code",
   "execution_count": 29,
   "metadata": {
    "collapsed": true,
    "jupyter": {
     "outputs_hidden": true
    }
   },
   "outputs": [
    {
     "name": "stdout",
     "output_type": "stream",
     "text": [
      "\\begin{tabular}{rrrrrrrrrrrrr}\n",
      "\\toprule\n",
      "  Node &  RoCoF\\_x &  AFV\\_x &  AV\\_x &  RoCoF\\_y &  AFV\\_y &  AV\\_y &  RoCoF\\_x &  AFV\\_x &  AV\\_x &  RoCoF\\_y &  AFV\\_y &  AV\\_y \\\\\n",
      "\\midrule\n",
      " 1.000 &    0.639 &  0.603 & 0.686 &    0.625 &  0.591 & 0.671 &    0.629 &  0.598 & 0.674 &    0.609 &  0.583 & 0.656 \\\\\n",
      " 2.000 &    0.457 &  0.200 & 0.457 &    0.461 &  0.218 & 0.461 &    0.451 &  0.208 & 0.451 &    0.433 &  0.207 & 0.433 \\\\\n",
      " 3.000 &    0.425 &  0.184 & 0.425 &    0.432 &  0.195 & 0.432 &    0.428 &  0.185 & 0.428 &    0.420 &  0.177 & 0.420 \\\\\n",
      " 4.000 &    0.429 &  0.187 & 0.429 &    0.446 &  0.199 & 0.446 &    0.438 &  0.199 & 0.438 &    0.429 &  0.191 & 0.429 \\\\\n",
      " 5.000 &    0.489 &  0.272 & 0.489 &    0.487 &  0.272 & 0.487 &    0.482 &  0.289 & 0.483 &    0.480 &  0.266 & 0.480 \\\\\n",
      " 6.000 &    0.433 &  0.197 & 0.433 &    0.441 &  0.206 & 0.441 &    0.435 &  0.210 & 0.435 &    0.416 &  0.193 & 0.416 \\\\\n",
      " 7.000 &    0.456 &  0.223 & 0.456 &    0.467 &  0.219 & 0.467 &    0.459 &  0.220 & 0.459 &    0.451 &  0.218 & 0.451 \\\\\n",
      " 8.000 &    0.442 &  0.209 & 0.442 &    0.461 &  0.205 & 0.461 &    0.448 &  0.210 & 0.448 &    0.446 &  0.193 & 0.446 \\\\\n",
      " 9.000 &    0.356 &  0.100 & 0.356 &    0.364 &  0.113 & 0.364 &    0.356 &  0.110 & 0.356 &    0.352 &  0.101 & 0.352 \\\\\n",
      "10.000 &    0.289 &  0.075 & 0.289 &    0.296 &  0.082 & 0.296 &    0.295 &  0.078 & 0.295 &    0.289 &  0.071 & 0.289 \\\\\n",
      " 5.500 &    0.442 &  0.225 & 0.446 &    0.448 &  0.230 & 0.453 &    0.442 &  0.231 & 0.447 &    0.432 &  0.220 & 0.437 \\\\\n",
      "\\bottomrule\n",
      "\\end{tabular}\n",
      "\n"
     ]
    }
   ],
   "source": [
    "df39_merged = [df39,df3901,df3902,df3903]\n",
    "df39merged = reduce(lambda  left,right: pd.merge(left,right,on=['Node'],\n",
    "                                            how='outer'), df39_merged)\n",
    "df39merged = df39merged.append(df39merged.mean(axis = 0), ignore_index=True)\n",
    "print(df39merged.to_latex(index=False))"
   ]
  },
  {
   "cell_type": "markdown",
   "metadata": {},
   "source": [
    "## 2.4 Removing [4, 5],[15, 16]"
   ]
  },
  {
   "cell_type": "code",
   "execution_count": 40,
   "metadata": {
    "collapsed": true,
    "jupyter": {
     "outputs_hidden": true
    }
   },
   "outputs": [
    {
     "name": "stdout",
     "output_type": "stream",
     "text": [
      "[4, 5]\n",
      "[15, 16]\n"
     ]
    }
   ],
   "source": [
    "G3904 = multi_edge_removing(unG39, ([4,5],[15,16]))\n",
    "A3904, redL3904, redA3904  = kron_reduction(n39, ngnr39, G3904)\n",
    "model3904 = PowerNetworkSolver(theta0,omega0,redA3904, ngnr39, D,M,K)\n",
    "rates3904 = model3904.Simulation(KK, check_times, sigma, thres, t, nn, normaldisturbances)"
   ]
  },
  {
   "cell_type": "code",
   "execution_count": 41,
   "metadata": {
    "collapsed": true,
    "jupyter": {
     "outputs_hidden": true
    }
   },
   "outputs": [],
   "source": [
    "df3904 = pd.DataFrame({'Node': node_list,'RoCoF': rates3904['vcheck_omega'] , 'AFV': rates3904['vcheck_theta'] ,'AV': rates3904['vcheck_any']})\n",
    "# print(df3901.to_latex(index=False))"
   ]
  },
  {
   "cell_type": "code",
   "execution_count": 42,
   "metadata": {
    "collapsed": true,
    "jupyter": {
     "outputs_hidden": true
    }
   },
   "outputs": [
    {
     "name": "stdout",
     "output_type": "stream",
     "text": [
      "   Node  RoCoF   AFV    AV\n",
      "0     1  0.631 0.616 0.683\n",
      "1     2  0.458 0.223 0.458\n",
      "2     3  0.425 0.199 0.425\n",
      "3     4  0.440 0.211 0.440\n",
      "4     5  0.489 0.287 0.489\n"
     ]
    }
   ],
   "source": [
    "print(df3904.head())"
   ]
  },
  {
   "cell_type": "code",
   "execution_count": 63,
   "metadata": {
    "collapsed": true,
    "jupyter": {
     "outputs_hidden": true
    }
   },
   "outputs": [
    {
     "data": {
      "text/html": [
       "<div>\n",
       "<style scoped>\n",
       "    .dataframe tbody tr th:only-of-type {\n",
       "        vertical-align: middle;\n",
       "    }\n",
       "\n",
       "    .dataframe tbody tr th {\n",
       "        vertical-align: top;\n",
       "    }\n",
       "\n",
       "    .dataframe thead th {\n",
       "        text-align: right;\n",
       "    }\n",
       "</style>\n",
       "<table border=\"1\" class=\"dataframe\">\n",
       "  <thead>\n",
       "    <tr style=\"text-align: right;\">\n",
       "      <th></th>\n",
       "      <th>Node</th>\n",
       "      <th>RoCoF</th>\n",
       "      <th>AFV</th>\n",
       "      <th>AV</th>\n",
       "    </tr>\n",
       "  </thead>\n",
       "  <tbody>\n",
       "    <tr>\n",
       "      <th>0</th>\n",
       "      <td>1</td>\n",
       "      <td>0.631</td>\n",
       "      <td>0.616</td>\n",
       "      <td>0.683</td>\n",
       "    </tr>\n",
       "    <tr>\n",
       "      <th>1</th>\n",
       "      <td>2</td>\n",
       "      <td>0.458</td>\n",
       "      <td>0.223</td>\n",
       "      <td>0.458</td>\n",
       "    </tr>\n",
       "    <tr>\n",
       "      <th>2</th>\n",
       "      <td>3</td>\n",
       "      <td>0.425</td>\n",
       "      <td>0.199</td>\n",
       "      <td>0.425</td>\n",
       "    </tr>\n",
       "    <tr>\n",
       "      <th>3</th>\n",
       "      <td>4</td>\n",
       "      <td>0.440</td>\n",
       "      <td>0.211</td>\n",
       "      <td>0.440</td>\n",
       "    </tr>\n",
       "    <tr>\n",
       "      <th>4</th>\n",
       "      <td>5</td>\n",
       "      <td>0.489</td>\n",
       "      <td>0.287</td>\n",
       "      <td>0.489</td>\n",
       "    </tr>\n",
       "    <tr>\n",
       "      <th>5</th>\n",
       "      <td>6</td>\n",
       "      <td>0.434</td>\n",
       "      <td>0.214</td>\n",
       "      <td>0.434</td>\n",
       "    </tr>\n",
       "    <tr>\n",
       "      <th>6</th>\n",
       "      <td>7</td>\n",
       "      <td>0.466</td>\n",
       "      <td>0.234</td>\n",
       "      <td>0.466</td>\n",
       "    </tr>\n",
       "    <tr>\n",
       "      <th>7</th>\n",
       "      <td>8</td>\n",
       "      <td>0.454</td>\n",
       "      <td>0.223</td>\n",
       "      <td>0.454</td>\n",
       "    </tr>\n",
       "    <tr>\n",
       "      <th>8</th>\n",
       "      <td>9</td>\n",
       "      <td>0.358</td>\n",
       "      <td>0.112</td>\n",
       "      <td>0.358</td>\n",
       "    </tr>\n",
       "    <tr>\n",
       "      <th>9</th>\n",
       "      <td>10</td>\n",
       "      <td>0.294</td>\n",
       "      <td>0.084</td>\n",
       "      <td>0.294</td>\n",
       "    </tr>\n",
       "  </tbody>\n",
       "</table>\n",
       "</div>"
      ],
      "text/plain": [
       "   Node  RoCoF   AFV    AV\n",
       "0     1  0.631 0.616 0.683\n",
       "1     2  0.458 0.223 0.458\n",
       "2     3  0.425 0.199 0.425\n",
       "3     4  0.440 0.211 0.440\n",
       "4     5  0.489 0.287 0.489\n",
       "5     6  0.434 0.214 0.434\n",
       "6     7  0.466 0.234 0.466\n",
       "7     8  0.454 0.223 0.454\n",
       "8     9  0.358 0.112 0.358\n",
       "9    10  0.294 0.084 0.294"
      ]
     },
     "execution_count": 63,
     "metadata": {},
     "output_type": "execute_result"
    }
   ],
   "source": [
    "df3904"
   ]
  },
  {
   "cell_type": "markdown",
   "metadata": {
    "jupyter": {
     "outputs_hidden": true
    }
   },
   "source": [
    "## 2.5 Removing [4, 5],[15, 16],[4, 14]"
   ]
  },
  {
   "cell_type": "code",
   "execution_count": 36,
   "metadata": {
    "collapsed": true,
    "jupyter": {
     "outputs_hidden": true
    }
   },
   "outputs": [
    {
     "name": "stdout",
     "output_type": "stream",
     "text": [
      "[4, 5]\n",
      "[15, 16]\n",
      "[4, 14]\n"
     ]
    }
   ],
   "source": [
    "G3905 = multi_edge_removing(unG39, ([4,5],[15,16],[4,14]))\n",
    "A3905, redL3905, redA3905  = kron_reduction(n39, ngnr39, G3905)\n",
    "model3905 = PowerNetworkSolver(theta0,omega0,redA3905, ngnr39, D,M,K)\n",
    "rates3905 = model3905.Simulation(KK, check_times, sigma, thres, t, nn, normaldisturbances)"
   ]
  },
  {
   "cell_type": "code",
   "execution_count": 43,
   "metadata": {
    "collapsed": true,
    "jupyter": {
     "outputs_hidden": true
    }
   },
   "outputs": [],
   "source": [
    "df3905 = pd.DataFrame({'Node': node_list,'RoCoF': rates3905['vcheck_omega'] , 'AFV': rates3905['vcheck_theta'] ,'AV': rates3905['vcheck_any']})"
   ]
  },
  {
   "cell_type": "code",
   "execution_count": null,
   "metadata": {
    "collapsed": true,
    "jupyter": {
     "outputs_hidden": true
    }
   },
   "outputs": [],
   "source": []
  },
  {
   "cell_type": "code",
   "execution_count": 44,
   "metadata": {
    "collapsed": true,
    "jupyter": {
     "outputs_hidden": true
    }
   },
   "outputs": [
    {
     "name": "stdout",
     "output_type": "stream",
     "text": [
      "\\begin{tabular}{rrrrrrr}\n",
      "\\toprule\n",
      "  Node &  RoCoF\\_x &  AFV\\_x &  AV\\_x &  RoCoF\\_y &  AFV\\_y &  AV\\_y \\\\\n",
      "\\midrule\n",
      " 1.000 &    0.631 &  0.616 & 0.683 &    0.643 &  0.641 & 0.705 \\\\\n",
      " 2.000 &    0.458 &  0.223 & 0.458 &    0.462 &  0.247 & 0.462 \\\\\n",
      " 3.000 &    0.425 &  0.199 & 0.425 &    0.437 &  0.219 & 0.437 \\\\\n",
      " 4.000 &    0.440 &  0.211 & 0.440 &    0.443 &  0.233 & 0.443 \\\\\n",
      " 5.000 &    0.489 &  0.287 & 0.489 &    0.497 &  0.314 & 0.498 \\\\\n",
      " 6.000 &    0.434 &  0.214 & 0.434 &    0.441 &  0.230 & 0.441 \\\\\n",
      " 7.000 &    0.466 &  0.234 & 0.466 &    0.467 &  0.261 & 0.467 \\\\\n",
      " 8.000 &    0.454 &  0.223 & 0.454 &    0.471 &  0.256 & 0.471 \\\\\n",
      " 9.000 &    0.358 &  0.112 & 0.358 &    0.368 &  0.134 & 0.368 \\\\\n",
      "10.000 &    0.294 &  0.084 & 0.294 &    0.304 &  0.096 & 0.304 \\\\\n",
      " 5.500 &    0.445 &  0.240 & 0.450 &    0.453 &  0.263 & 0.460 \\\\\n",
      "\\bottomrule\n",
      "\\end{tabular}\n",
      "\n"
     ]
    }
   ],
   "source": [
    "df39_merged02 = [df3904,df3905]\n",
    "df39merged02 = reduce(lambda  left,right: pd.merge(left,right,on=['Node'],\n",
    "                                            how='outer'), df39_merged02)\n",
    "df39merged02 = df39merged02.append(df39merged02.mean(axis = 0), ignore_index=True)\n",
    "print(df39merged02.to_latex(index=False))"
   ]
  },
  {
   "cell_type": "code",
   "execution_count": 64,
   "metadata": {
    "collapsed": true,
    "jupyter": {
     "outputs_hidden": true
    }
   },
   "outputs": [
    {
     "data": {
      "text/html": [
       "<div>\n",
       "<style scoped>\n",
       "    .dataframe tbody tr th:only-of-type {\n",
       "        vertical-align: middle;\n",
       "    }\n",
       "\n",
       "    .dataframe tbody tr th {\n",
       "        vertical-align: top;\n",
       "    }\n",
       "\n",
       "    .dataframe thead th {\n",
       "        text-align: right;\n",
       "    }\n",
       "</style>\n",
       "<table border=\"1\" class=\"dataframe\">\n",
       "  <thead>\n",
       "    <tr style=\"text-align: right;\">\n",
       "      <th></th>\n",
       "      <th>Node</th>\n",
       "      <th>RoCoF_x</th>\n",
       "      <th>AFV_x</th>\n",
       "      <th>AV_x</th>\n",
       "      <th>RoCoF_y</th>\n",
       "      <th>AFV_y</th>\n",
       "      <th>AV_y</th>\n",
       "    </tr>\n",
       "  </thead>\n",
       "  <tbody>\n",
       "    <tr>\n",
       "      <th>0</th>\n",
       "      <td>1.000</td>\n",
       "      <td>0.631</td>\n",
       "      <td>0.616</td>\n",
       "      <td>0.683</td>\n",
       "      <td>0.643</td>\n",
       "      <td>0.641</td>\n",
       "      <td>0.705</td>\n",
       "    </tr>\n",
       "    <tr>\n",
       "      <th>1</th>\n",
       "      <td>2.000</td>\n",
       "      <td>0.458</td>\n",
       "      <td>0.223</td>\n",
       "      <td>0.458</td>\n",
       "      <td>0.462</td>\n",
       "      <td>0.247</td>\n",
       "      <td>0.462</td>\n",
       "    </tr>\n",
       "    <tr>\n",
       "      <th>2</th>\n",
       "      <td>3.000</td>\n",
       "      <td>0.425</td>\n",
       "      <td>0.199</td>\n",
       "      <td>0.425</td>\n",
       "      <td>0.437</td>\n",
       "      <td>0.219</td>\n",
       "      <td>0.437</td>\n",
       "    </tr>\n",
       "    <tr>\n",
       "      <th>3</th>\n",
       "      <td>4.000</td>\n",
       "      <td>0.440</td>\n",
       "      <td>0.211</td>\n",
       "      <td>0.440</td>\n",
       "      <td>0.443</td>\n",
       "      <td>0.233</td>\n",
       "      <td>0.443</td>\n",
       "    </tr>\n",
       "    <tr>\n",
       "      <th>4</th>\n",
       "      <td>5.000</td>\n",
       "      <td>0.489</td>\n",
       "      <td>0.287</td>\n",
       "      <td>0.489</td>\n",
       "      <td>0.497</td>\n",
       "      <td>0.314</td>\n",
       "      <td>0.498</td>\n",
       "    </tr>\n",
       "    <tr>\n",
       "      <th>5</th>\n",
       "      <td>6.000</td>\n",
       "      <td>0.434</td>\n",
       "      <td>0.214</td>\n",
       "      <td>0.434</td>\n",
       "      <td>0.441</td>\n",
       "      <td>0.230</td>\n",
       "      <td>0.441</td>\n",
       "    </tr>\n",
       "    <tr>\n",
       "      <th>6</th>\n",
       "      <td>7.000</td>\n",
       "      <td>0.466</td>\n",
       "      <td>0.234</td>\n",
       "      <td>0.466</td>\n",
       "      <td>0.467</td>\n",
       "      <td>0.261</td>\n",
       "      <td>0.467</td>\n",
       "    </tr>\n",
       "    <tr>\n",
       "      <th>7</th>\n",
       "      <td>8.000</td>\n",
       "      <td>0.454</td>\n",
       "      <td>0.223</td>\n",
       "      <td>0.454</td>\n",
       "      <td>0.471</td>\n",
       "      <td>0.256</td>\n",
       "      <td>0.471</td>\n",
       "    </tr>\n",
       "    <tr>\n",
       "      <th>8</th>\n",
       "      <td>9.000</td>\n",
       "      <td>0.358</td>\n",
       "      <td>0.112</td>\n",
       "      <td>0.358</td>\n",
       "      <td>0.368</td>\n",
       "      <td>0.134</td>\n",
       "      <td>0.368</td>\n",
       "    </tr>\n",
       "    <tr>\n",
       "      <th>9</th>\n",
       "      <td>10.000</td>\n",
       "      <td>0.294</td>\n",
       "      <td>0.084</td>\n",
       "      <td>0.294</td>\n",
       "      <td>0.304</td>\n",
       "      <td>0.096</td>\n",
       "      <td>0.304</td>\n",
       "    </tr>\n",
       "    <tr>\n",
       "      <th>10</th>\n",
       "      <td>5.500</td>\n",
       "      <td>0.445</td>\n",
       "      <td>0.240</td>\n",
       "      <td>0.450</td>\n",
       "      <td>0.453</td>\n",
       "      <td>0.263</td>\n",
       "      <td>0.460</td>\n",
       "    </tr>\n",
       "  </tbody>\n",
       "</table>\n",
       "</div>"
      ],
      "text/plain": [
       "     Node  RoCoF_x  AFV_x  AV_x  RoCoF_y  AFV_y  AV_y\n",
       "0   1.000    0.631  0.616 0.683    0.643  0.641 0.705\n",
       "1   2.000    0.458  0.223 0.458    0.462  0.247 0.462\n",
       "2   3.000    0.425  0.199 0.425    0.437  0.219 0.437\n",
       "3   4.000    0.440  0.211 0.440    0.443  0.233 0.443\n",
       "4   5.000    0.489  0.287 0.489    0.497  0.314 0.498\n",
       "5   6.000    0.434  0.214 0.434    0.441  0.230 0.441\n",
       "6   7.000    0.466  0.234 0.466    0.467  0.261 0.467\n",
       "7   8.000    0.454  0.223 0.454    0.471  0.256 0.471\n",
       "8   9.000    0.358  0.112 0.358    0.368  0.134 0.368\n",
       "9  10.000    0.294  0.084 0.294    0.304  0.096 0.304\n",
       "10  5.500    0.445  0.240 0.450    0.453  0.263 0.460"
      ]
     },
     "execution_count": 64,
     "metadata": {},
     "output_type": "execute_result"
    }
   ],
   "source": []
  },
  {
   "cell_type": "markdown",
   "metadata": {
    "jupyter": {
     "outputs_hidden": true
    }
   },
   "source": [
    "## 2.6 Removing [4, 5]"
   ]
  },
  {
   "cell_type": "code",
   "execution_count": 49,
   "metadata": {
    "collapsed": true,
    "jupyter": {
     "outputs_hidden": true
    }
   },
   "outputs": [],
   "source": [
    "G3906 = edge_removing(unG39,[4,5])\n",
    "A3906, redL3906, redA3906  = kron_reduction(n39, ngnr39, G3906)\n",
    "model3906 = PowerNetworkSolver(theta0,omega0,redA3906, ngnr39, D,M,K)\n",
    "rates3906 = model3906.Simulation(KK, check_times, sigma, thres, t, nn, normaldisturbances)"
   ]
  },
  {
   "cell_type": "code",
   "execution_count": 50,
   "metadata": {
    "collapsed": true,
    "jupyter": {
     "outputs_hidden": true
    }
   },
   "outputs": [],
   "source": [
    "df3906 = pd.DataFrame({'Node': node_list,'RoCoF': rates3906['vcheck_omega'] , 'AFV': rates3906['vcheck_theta'] ,'AV': rates3906['vcheck_any']})"
   ]
  },
  {
   "cell_type": "code",
   "execution_count": null,
   "metadata": {
    "collapsed": true,
    "jupyter": {
     "outputs_hidden": true
    }
   },
   "outputs": [],
   "source": []
  },
  {
   "cell_type": "markdown",
   "metadata": {
    "jupyter": {
     "outputs_hidden": true
    }
   },
   "source": [
    "## 2.7 Removing [4, 14]"
   ]
  },
  {
   "cell_type": "code",
   "execution_count": 51,
   "metadata": {
    "collapsed": true,
    "jupyter": {
     "outputs_hidden": true
    }
   },
   "outputs": [],
   "source": [
    "G3907 = edge_removing(unG39,[4,14])\n",
    "A3907, redL3907, redA3907  = kron_reduction(n39, ngnr39, G3907)\n",
    "model3907 = PowerNetworkSolver(theta0,omega0,redA3907, ngnr39, D,M,K)\n",
    "rates3907 = model3907.Simulation(KK, check_times, sigma, thres, t, nn, normaldisturbances)"
   ]
  },
  {
   "cell_type": "code",
   "execution_count": 52,
   "metadata": {
    "collapsed": true,
    "jupyter": {
     "outputs_hidden": true
    }
   },
   "outputs": [],
   "source": [
    "df3907 = pd.DataFrame({'Node': node_list,'RoCoF': rates3907['vcheck_omega'] , 'AFV': rates3907['vcheck_theta'] ,'AV': rates3907['vcheck_any']})"
   ]
  },
  {
   "cell_type": "code",
   "execution_count": null,
   "metadata": {
    "collapsed": true,
    "jupyter": {
     "outputs_hidden": true
    }
   },
   "outputs": [],
   "source": []
  },
  {
   "cell_type": "code",
   "execution_count": 53,
   "metadata": {
    "collapsed": true,
    "jupyter": {
     "outputs_hidden": true
    }
   },
   "outputs": [
    {
     "name": "stdout",
     "output_type": "stream",
     "text": [
      "\\begin{tabular}{rrrrrrr}\n",
      "\\toprule\n",
      "  Node &  RoCoF\\_x &  AFV\\_x &  AV\\_x &  RoCoF\\_y &  AFV\\_y &  AV\\_y \\\\\n",
      "\\midrule\n",
      " 1.000 &    0.641 &  0.629 & 0.696 &    0.634 &  0.600 & 0.678 \\\\\n",
      " 2.000 &    0.465 &  0.237 & 0.465 &    0.450 &  0.207 & 0.450 \\\\\n",
      " 3.000 &    0.438 &  0.215 & 0.438 &    0.427 &  0.184 & 0.427 \\\\\n",
      " 4.000 &    0.447 &  0.215 & 0.447 &    0.436 &  0.193 & 0.436 \\\\\n",
      " 5.000 &    0.504 &  0.292 & 0.504 &    0.482 &  0.266 & 0.482 \\\\\n",
      " 6.000 &    0.441 &  0.214 & 0.441 &    0.431 &  0.199 & 0.431 \\\\\n",
      " 7.000 &    0.470 &  0.251 & 0.470 &    0.465 &  0.222 & 0.465 \\\\\n",
      " 8.000 &    0.459 &  0.227 & 0.459 &    0.442 &  0.204 & 0.442 \\\\\n",
      " 9.000 &    0.363 &  0.125 & 0.363 &    0.356 &  0.105 & 0.356 \\\\\n",
      "10.000 &    0.306 &  0.092 & 0.306 &    0.297 &  0.076 & 0.297 \\\\\n",
      " 5.500 &    0.453 &  0.250 & 0.459 &    0.442 &  0.226 & 0.447 \\\\\n",
      "\\bottomrule\n",
      "\\end{tabular}\n",
      "\n"
     ]
    }
   ],
   "source": []
  },
  {
   "cell_type": "code",
   "execution_count": 61,
   "metadata": {
    "collapsed": true,
    "jupyter": {
     "outputs_hidden": true
    }
   },
   "outputs": [],
   "source": []
  },
  {
   "cell_type": "code",
   "execution_count": 62,
   "metadata": {
    "collapsed": true,
    "jupyter": {
     "outputs_hidden": true
    }
   },
   "outputs": [
    {
     "name": "stdout",
     "output_type": "stream",
     "text": [
      "                                                   0  \\\n",
      "0     Node  RoCoF   AFV    AV\n",
      "0     1  0.631 0.61...   \n",
      "1     Node  RoCoF   AFV    AV\n",
      "0     1  0.641 0.62...   \n",
      "\n",
      "                                                   1  \n",
      "0     Node  RoCoF   AFV    AV\n",
      "0     1  0.643 0.64...  \n",
      "1     Node  RoCoF   AFV    AV\n",
      "0     1  0.634 0.60...  \n"
     ]
    }
   ],
   "source": []
  },
  {
   "cell_type": "code",
   "execution_count": null,
   "metadata": {
    "collapsed": true,
    "jupyter": {
     "outputs_hidden": true
    }
   },
   "outputs": [],
   "source": []
  }
 ],
 "metadata": {
  "kernelspec": {
   "display_name": "Python 3",
   "language": "python",
   "name": "python3"
  },
  "language_info": {
   "codemirror_mode": {
    "name": "ipython",
    "version": 3
   },
   "file_extension": ".py",
   "mimetype": "text/x-python",
   "name": "python",
   "nbconvert_exporter": "python",
   "pygments_lexer": "ipython3",
   "version": "3.8.5"
  }
 },
 "nbformat": 4,
 "nbformat_minor": 4
}
