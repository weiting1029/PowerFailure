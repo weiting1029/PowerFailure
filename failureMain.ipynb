{
 "cells": [
  {
   "cell_type": "code",
   "execution_count": 2,
   "metadata": {},
   "outputs": [],
   "source": [
    "import pandas as pd"
   ]
  },
  {
   "cell_type": "code",
   "execution_count": 3,
   "metadata": {},
   "outputs": [],
   "source": [
    "from powerNetworkSolver import PowerNetworkSolver\n",
    "from powerNetwork import networkTransform, getGenerators, getBuses, getLines,getNumBuses, getNumLines\n",
    "from powerNetwork import getUndGraph, kron_reduction, edge_removing\n",
    "from disturbancesGnr import normaldisturbances\n",
    "from violationChecking import globalcheck\n"
   ]
  },
  {
   "cell_type": "markdown",
   "metadata": {},
   "source": [
    "# 1. Test Case 39, complete network "
   ]
  },
  {
   "cell_type": "code",
   "execution_count": 4,
   "metadata": {},
   "outputs": [],
   "source": [
    "from pypower.api import case39"
   ]
  },
  {
   "cell_type": "code",
   "execution_count": 5,
   "metadata": {},
   "outputs": [
    {
     "name": "stderr",
     "output_type": "stream",
     "text": [
      "WARNING:pypsa.io:Warning: Note that when importing from PYPOWER, some PYPOWER features not supported: areas, gencosts, component status\n",
      "INFO:numexpr.utils:Note: NumExpr detected 12 cores but \"NUMEXPR_MAX_THREADS\" not set, so enforcing safe limit of 8.\n",
      "INFO:numexpr.utils:NumExpr defaulting to 8 threads.\n"
     ]
    }
   ],
   "source": [
    "network39, subnetwork39 = networkTransform(case39())\n",
    "df_lines39 = getLines(subnetwork39)\n",
    "df_buses39 = getBuses(subnetwork39)"
   ]
  },
  {
   "cell_type": "code",
   "execution_count": 6,
   "metadata": {},
   "outputs": [],
   "source": [
    "n39, ngnr39, unG39 = getUndGraph(df_buses39,df_lines39, network39)\n",
    "A39, redL39, redA39  = kron_reduction(n39, ngnr39, unG39)"
   ]
  },
  {
   "cell_type": "code",
   "execution_count": 48,
   "metadata": {},
   "outputs": [],
   "source": [
    "node_list =  np.arange(ngnr39)+1"
   ]
  },
  {
   "cell_type": "code",
   "execution_count": 7,
   "metadata": {},
   "outputs": [],
   "source": [
    "K = 1\n",
    "M = np.array([0.2228, 0.1607, 0.1899, 0.1517, 0.1379, 0.1846, 0.1401, 0.1289, 0.183, 2.6526])\n",
    "D = np.array([0.0332,0.076,0.0862,0.0838,0.0674,0.0862,0.0743,0.0716,0.1101,0.1333])\n",
    "# Ome = np.zeros(n)\n",
    "pi = math.pi\n",
    "\n",
    "t = 15\n",
    "nn = 100\n",
    "\n",
    "theta0 = np.zeros(ngnr39)\n",
    "omega0 = np.zeros(ngnr39)\n",
    "model39 = PowerNetworkSolver(theta0,omega0,redA39, ngnr39, D,M,K)"
   ]
  },
  {
   "cell_type": "code",
   "execution_count": 9,
   "metadata": {},
   "outputs": [],
   "source": [
    "KK =3000#repetition times  \n",
    "t = 5\n",
    "nn = 1000\n",
    "dt = np.linspace(0, t, nn+1)\n",
    "sigma = 0.05\n",
    "check_times = 100\n",
    "thres = np.array([0.35,0.5])\n",
    "\n",
    "rates39 = model39.Simulation(KK, check_times, sigma, thres, t, nn, normaldisturbances)"
   ]
  },
  {
   "cell_type": "code",
   "execution_count": 56,
   "metadata": {},
   "outputs": [
    {
     "name": "stdout",
     "output_type": "stream",
     "text": [
      "\\begin{tabular}{rrrr}\n",
      "\\toprule\n",
      " Node &  RoCoF &   AFV &    AV \\\\\n",
      "\\midrule\n",
      "    1 &  0.625 & 0.598 & 0.673 \\\\\n",
      "    2 &  0.452 & 0.220 & 0.452 \\\\\n",
      "    3 &  0.431 & 0.195 & 0.431 \\\\\n",
      "    4 &  0.435 & 0.197 & 0.435 \\\\\n",
      "    5 &  0.488 & 0.278 & 0.489 \\\\\n",
      "    6 &  0.430 & 0.211 & 0.430 \\\\\n",
      "    7 &  0.452 & 0.231 & 0.452 \\\\\n",
      "    8 &  0.454 & 0.210 & 0.454 \\\\\n",
      "    9 &  0.361 & 0.101 & 0.361 \\\\\n",
      "   10 &  0.293 & 0.071 & 0.293 \\\\\n",
      "\\bottomrule\n",
      "\\end{tabular}\n",
      "\n"
     ]
    }
   ],
   "source": [
    "df39 = pd.DataFrame({'Node': node_list,'RoCoF': rates39['vcheck_omega'] , 'AFV': rates39['vcheck_theta'] ,'AV': rates39['vcheck_any']})\n",
    "# print(df39.to_latex(index=False))"
   ]
  },
  {
   "cell_type": "markdown",
   "metadata": {},
   "source": [
    "# 2. Test Case 39, incomplete networks"
   ]
  },
  {
   "cell_type": "markdown",
   "metadata": {},
   "source": [
    "## 2.1 Removing (20, 34)"
   ]
  },
  {
   "cell_type": "code",
   "execution_count": 11,
   "metadata": {},
   "outputs": [],
   "source": [
    "G3901 = edge_removing(unG39, [20,34])\n",
    "A3901, redL3901, redA3901  = kron_reduction(n39, ngnr39, G3901)\n",
    "model3901 = PowerNetworkSolver(theta0,omega0,redA3901, ngnr39, D,M,K)\n",
    "rates3901 = model3901.Simulation(KK, check_times, sigma, thres, t, nn, normaldisturbances)"
   ]
  },
  {
   "cell_type": "code",
   "execution_count": 53,
   "metadata": {},
   "outputs": [
    {
     "name": "stdout",
     "output_type": "stream",
     "text": [
      "\\begin{tabular}{rrrr}\n",
      "\\toprule\n",
      " Node &  RoCoF &   AFV &    AV \\\\\n",
      "\\midrule\n",
      "    1 &  0.637 & 0.609 & 0.682 \\\\\n",
      "    2 &  0.458 & 0.213 & 0.458 \\\\\n",
      "    3 &  0.435 & 0.192 & 0.435 \\\\\n",
      "    4 &  0.444 & 0.199 & 0.444 \\\\\n",
      "    5 &  0.495 & 0.307 & 0.496 \\\\\n",
      "    6 &  0.441 & 0.208 & 0.441 \\\\\n",
      "    7 &  0.464 & 0.237 & 0.464 \\\\\n",
      "    8 &  0.462 & 0.218 & 0.462 \\\\\n",
      "    9 &  0.368 & 0.103 & 0.368 \\\\\n",
      "   10 &  0.301 & 0.072 & 0.301 \\\\\n",
      "\\bottomrule\n",
      "\\end{tabular}\n",
      "\n"
     ]
    }
   ],
   "source": [
    "df3901 = pd.DataFrame({'Node': node_list,'RoCoF': rates3901['vcheck_omega'] , 'AFV': rates3901['vcheck_theta'] ,'AV': rates3901['vcheck_any']})\n",
    "# print(df3901.to_latex(index=False))"
   ]
  },
  {
   "cell_type": "markdown",
   "metadata": {},
   "source": [
    "## 2.2 Removing (15, 16)"
   ]
  },
  {
   "cell_type": "code",
   "execution_count": 13,
   "metadata": {},
   "outputs": [],
   "source": [
    "G3902 = edge_removing(unG39, [15,16])\n",
    "A3902, redL3902, redA3902  = kron_reduction(n39, ngnr39, G3902)\n",
    "model3902 = PowerNetworkSolver(theta0,omega0,redA3902, ngnr39, D,M,K)\n",
    "rates3902 = model3902.Simulation(KK, check_times, sigma, thres, t, nn, normaldisturbances)"
   ]
  },
  {
   "cell_type": "code",
   "execution_count": 54,
   "metadata": {},
   "outputs": [
    {
     "name": "stdout",
     "output_type": "stream",
     "text": [
      "\\begin{tabular}{rrrr}\n",
      "\\toprule\n",
      " Node &  RoCoF &   AFV &    AV \\\\\n",
      "\\midrule\n",
      "    1 &  0.639 & 0.617 & 0.685 \\\\\n",
      "    2 &  0.451 & 0.224 & 0.451 \\\\\n",
      "    3 &  0.427 & 0.183 & 0.427 \\\\\n",
      "    4 &  0.440 & 0.206 & 0.440 \\\\\n",
      "    5 &  0.489 & 0.277 & 0.489 \\\\\n",
      "    6 &  0.436 & 0.205 & 0.436 \\\\\n",
      "    7 &  0.465 & 0.240 & 0.465 \\\\\n",
      "    8 &  0.453 & 0.212 & 0.453 \\\\\n",
      "    9 &  0.359 & 0.111 & 0.359 \\\\\n",
      "   10 &  0.301 & 0.079 & 0.301 \\\\\n",
      "\\bottomrule\n",
      "\\end{tabular}\n",
      "\n"
     ]
    }
   ],
   "source": [
    "df3902 = pd.DataFrame({'Node': node_list,'RoCoF': rates3902['vcheck_omega'] , 'AFV': rates3902['vcheck_theta'] ,'AV': rates3902['vcheck_any']})\n",
    "# print(df3902.to_latex(index=False))"
   ]
  },
  {
   "cell_type": "markdown",
   "metadata": {},
   "source": [
    "## 2.2 Removing (23, 24)"
   ]
  },
  {
   "cell_type": "code",
   "execution_count": 15,
   "metadata": {},
   "outputs": [],
   "source": [
    "G3903 = edge_removing(unG39, [23,24])\n",
    "A3903, redL3903, redA3903  = kron_reduction(n39, ngnr39, G3903)\n",
    "model3903 = PowerNetworkSolver(theta0,omega0,redA3903, ngnr39, D,M,K)\n",
    "rates3903 = model3903.Simulation(KK, check_times, sigma, thres, t, nn, normaldisturbances)"
   ]
  },
  {
   "cell_type": "code",
   "execution_count": 55,
   "metadata": {},
   "outputs": [
    {
     "name": "stdout",
     "output_type": "stream",
     "text": [
      "\\begin{tabular}{rrrr}\n",
      "\\toprule\n",
      " Node &  RoCoF &   AFV &    AV \\\\\n",
      "\\midrule\n",
      "    1 &  0.624 & 0.587 & 0.668 \\\\\n",
      "    2 &  0.439 & 0.203 & 0.439 \\\\\n",
      "    3 &  0.423 & 0.179 & 0.423 \\\\\n",
      "    4 &  0.422 & 0.182 & 0.422 \\\\\n",
      "    5 &  0.474 & 0.258 & 0.474 \\\\\n",
      "    6 &  0.420 & 0.193 & 0.420 \\\\\n",
      "    7 &  0.445 & 0.207 & 0.445 \\\\\n",
      "    8 &  0.436 & 0.198 & 0.436 \\\\\n",
      "    9 &  0.344 & 0.101 & 0.344 \\\\\n",
      "   10 &  0.278 & 0.075 & 0.278 \\\\\n",
      "\\bottomrule\n",
      "\\end{tabular}\n",
      "\n"
     ]
    }
   ],
   "source": [
    "df3903 = pd.DataFrame({'Node': node_list,'RoCoF': rates3903['vcheck_omega'] , 'AFV': rates3903['vcheck_theta'] ,'AV': rates3903['vcheck_any']})\n",
    "# print(df3903.to_latex(index=False))"
   ]
  },
  {
   "cell_type": "code",
   "execution_count": 57,
   "metadata": {},
   "outputs": [],
   "source": [
    "pd.options.display.float_format = '{:,.3f}'.format"
   ]
  },
  {
   "cell_type": "code",
   "execution_count": 58,
   "metadata": {},
   "outputs": [
    {
     "data": {
      "text/html": [
       "<div>\n",
       "<style scoped>\n",
       "    .dataframe tbody tr th:only-of-type {\n",
       "        vertical-align: middle;\n",
       "    }\n",
       "\n",
       "    .dataframe tbody tr th {\n",
       "        vertical-align: top;\n",
       "    }\n",
       "\n",
       "    .dataframe thead th {\n",
       "        text-align: right;\n",
       "    }\n",
       "</style>\n",
       "<table border=\"1\" class=\"dataframe\">\n",
       "  <thead>\n",
       "    <tr style=\"text-align: right;\">\n",
       "      <th></th>\n",
       "      <th>Node</th>\n",
       "      <th>RoCoF</th>\n",
       "      <th>AFV</th>\n",
       "      <th>AV</th>\n",
       "    </tr>\n",
       "  </thead>\n",
       "  <tbody>\n",
       "    <tr>\n",
       "      <th>0</th>\n",
       "      <td>1</td>\n",
       "      <td>0.625</td>\n",
       "      <td>0.598</td>\n",
       "      <td>0.673</td>\n",
       "    </tr>\n",
       "    <tr>\n",
       "      <th>1</th>\n",
       "      <td>2</td>\n",
       "      <td>0.452</td>\n",
       "      <td>0.220</td>\n",
       "      <td>0.452</td>\n",
       "    </tr>\n",
       "    <tr>\n",
       "      <th>2</th>\n",
       "      <td>3</td>\n",
       "      <td>0.431</td>\n",
       "      <td>0.195</td>\n",
       "      <td>0.431</td>\n",
       "    </tr>\n",
       "    <tr>\n",
       "      <th>3</th>\n",
       "      <td>4</td>\n",
       "      <td>0.435</td>\n",
       "      <td>0.197</td>\n",
       "      <td>0.435</td>\n",
       "    </tr>\n",
       "    <tr>\n",
       "      <th>4</th>\n",
       "      <td>5</td>\n",
       "      <td>0.488</td>\n",
       "      <td>0.278</td>\n",
       "      <td>0.489</td>\n",
       "    </tr>\n",
       "  </tbody>\n",
       "</table>\n",
       "</div>"
      ],
      "text/plain": [
       "   Node  RoCoF   AFV    AV\n",
       "0     1  0.625 0.598 0.673\n",
       "1     2  0.452 0.220 0.452\n",
       "2     3  0.431 0.195 0.431\n",
       "3     4  0.435 0.197 0.435\n",
       "4     5  0.488 0.278 0.489"
      ]
     },
     "execution_count": 58,
     "metadata": {},
     "output_type": "execute_result"
    }
   ],
   "source": [
    "df39.head()"
   ]
  },
  {
   "cell_type": "code",
   "execution_count": 65,
   "metadata": {},
   "outputs": [],
   "source": [
    "df39_merged = [df39,df3901,df3902,df3903]"
   ]
  },
  {
   "cell_type": "code",
   "execution_count": 67,
   "metadata": {},
   "outputs": [],
   "source": [
    "df39merged = reduce(lambda  left,right: pd.merge(left,right,on=['Node'],\n",
    "                                            how='outer'), df39_merged)"
   ]
  },
  {
   "cell_type": "code",
   "execution_count": 68,
   "metadata": {},
   "outputs": [
    {
     "data": {
      "text/html": [
       "<div>\n",
       "<style scoped>\n",
       "    .dataframe tbody tr th:only-of-type {\n",
       "        vertical-align: middle;\n",
       "    }\n",
       "\n",
       "    .dataframe tbody tr th {\n",
       "        vertical-align: top;\n",
       "    }\n",
       "\n",
       "    .dataframe thead th {\n",
       "        text-align: right;\n",
       "    }\n",
       "</style>\n",
       "<table border=\"1\" class=\"dataframe\">\n",
       "  <thead>\n",
       "    <tr style=\"text-align: right;\">\n",
       "      <th></th>\n",
       "      <th>Node</th>\n",
       "      <th>RoCoF_x</th>\n",
       "      <th>AFV_x</th>\n",
       "      <th>AV_x</th>\n",
       "      <th>RoCoF_y</th>\n",
       "      <th>AFV_y</th>\n",
       "      <th>AV_y</th>\n",
       "      <th>RoCoF_x</th>\n",
       "      <th>AFV_x</th>\n",
       "      <th>AV_x</th>\n",
       "      <th>RoCoF_y</th>\n",
       "      <th>AFV_y</th>\n",
       "      <th>AV_y</th>\n",
       "    </tr>\n",
       "  </thead>\n",
       "  <tbody>\n",
       "    <tr>\n",
       "      <th>0</th>\n",
       "      <td>1</td>\n",
       "      <td>0.625</td>\n",
       "      <td>0.598</td>\n",
       "      <td>0.673</td>\n",
       "      <td>0.637</td>\n",
       "      <td>0.609</td>\n",
       "      <td>0.682</td>\n",
       "      <td>0.639</td>\n",
       "      <td>0.617</td>\n",
       "      <td>0.685</td>\n",
       "      <td>0.624</td>\n",
       "      <td>0.587</td>\n",
       "      <td>0.668</td>\n",
       "    </tr>\n",
       "    <tr>\n",
       "      <th>1</th>\n",
       "      <td>2</td>\n",
       "      <td>0.452</td>\n",
       "      <td>0.220</td>\n",
       "      <td>0.452</td>\n",
       "      <td>0.458</td>\n",
       "      <td>0.213</td>\n",
       "      <td>0.458</td>\n",
       "      <td>0.451</td>\n",
       "      <td>0.224</td>\n",
       "      <td>0.451</td>\n",
       "      <td>0.439</td>\n",
       "      <td>0.203</td>\n",
       "      <td>0.439</td>\n",
       "    </tr>\n",
       "    <tr>\n",
       "      <th>2</th>\n",
       "      <td>3</td>\n",
       "      <td>0.431</td>\n",
       "      <td>0.195</td>\n",
       "      <td>0.431</td>\n",
       "      <td>0.435</td>\n",
       "      <td>0.192</td>\n",
       "      <td>0.435</td>\n",
       "      <td>0.427</td>\n",
       "      <td>0.183</td>\n",
       "      <td>0.427</td>\n",
       "      <td>0.423</td>\n",
       "      <td>0.179</td>\n",
       "      <td>0.423</td>\n",
       "    </tr>\n",
       "    <tr>\n",
       "      <th>3</th>\n",
       "      <td>4</td>\n",
       "      <td>0.435</td>\n",
       "      <td>0.197</td>\n",
       "      <td>0.435</td>\n",
       "      <td>0.444</td>\n",
       "      <td>0.199</td>\n",
       "      <td>0.444</td>\n",
       "      <td>0.440</td>\n",
       "      <td>0.206</td>\n",
       "      <td>0.440</td>\n",
       "      <td>0.422</td>\n",
       "      <td>0.182</td>\n",
       "      <td>0.422</td>\n",
       "    </tr>\n",
       "    <tr>\n",
       "      <th>4</th>\n",
       "      <td>5</td>\n",
       "      <td>0.488</td>\n",
       "      <td>0.278</td>\n",
       "      <td>0.489</td>\n",
       "      <td>0.495</td>\n",
       "      <td>0.307</td>\n",
       "      <td>0.496</td>\n",
       "      <td>0.489</td>\n",
       "      <td>0.277</td>\n",
       "      <td>0.489</td>\n",
       "      <td>0.474</td>\n",
       "      <td>0.258</td>\n",
       "      <td>0.474</td>\n",
       "    </tr>\n",
       "  </tbody>\n",
       "</table>\n",
       "</div>"
      ],
      "text/plain": [
       "   Node  RoCoF_x  AFV_x  AV_x  RoCoF_y  AFV_y  AV_y  RoCoF_x  AFV_x  AV_x  \\\n",
       "0     1    0.625  0.598 0.673    0.637  0.609 0.682    0.639  0.617 0.685   \n",
       "1     2    0.452  0.220 0.452    0.458  0.213 0.458    0.451  0.224 0.451   \n",
       "2     3    0.431  0.195 0.431    0.435  0.192 0.435    0.427  0.183 0.427   \n",
       "3     4    0.435  0.197 0.435    0.444  0.199 0.444    0.440  0.206 0.440   \n",
       "4     5    0.488  0.278 0.489    0.495  0.307 0.496    0.489  0.277 0.489   \n",
       "\n",
       "   RoCoF_y  AFV_y  AV_y  \n",
       "0    0.624  0.587 0.668  \n",
       "1    0.439  0.203 0.439  \n",
       "2    0.423  0.179 0.423  \n",
       "3    0.422  0.182 0.422  \n",
       "4    0.474  0.258 0.474  "
      ]
     },
     "execution_count": 68,
     "metadata": {},
     "output_type": "execute_result"
    }
   ],
   "source": [
    "df39merged.head()"
   ]
  },
  {
   "cell_type": "code",
   "execution_count": 69,
   "metadata": {},
   "outputs": [
    {
     "name": "stdout",
     "output_type": "stream",
     "text": [
      "\\begin{tabular}{rrrrrrrrrrrrr}\n",
      "\\toprule\n",
      " Node &  RoCoF\\_x &  AFV\\_x &  AV\\_x &  RoCoF\\_y &  AFV\\_y &  AV\\_y &  RoCoF\\_x &  AFV\\_x &  AV\\_x &  RoCoF\\_y &  AFV\\_y &  AV\\_y \\\\\n",
      "\\midrule\n",
      "    1 &    0.625 &  0.598 & 0.673 &    0.637 &  0.609 & 0.682 &    0.639 &  0.617 & 0.685 &    0.624 &  0.587 & 0.668 \\\\\n",
      "    2 &    0.452 &  0.220 & 0.452 &    0.458 &  0.213 & 0.458 &    0.451 &  0.224 & 0.451 &    0.439 &  0.203 & 0.439 \\\\\n",
      "    3 &    0.431 &  0.195 & 0.431 &    0.435 &  0.192 & 0.435 &    0.427 &  0.183 & 0.427 &    0.423 &  0.179 & 0.423 \\\\\n",
      "    4 &    0.435 &  0.197 & 0.435 &    0.444 &  0.199 & 0.444 &    0.440 &  0.206 & 0.440 &    0.422 &  0.182 & 0.422 \\\\\n",
      "    5 &    0.488 &  0.278 & 0.489 &    0.495 &  0.307 & 0.496 &    0.489 &  0.277 & 0.489 &    0.474 &  0.258 & 0.474 \\\\\n",
      "    6 &    0.430 &  0.211 & 0.430 &    0.441 &  0.208 & 0.441 &    0.436 &  0.205 & 0.436 &    0.420 &  0.193 & 0.420 \\\\\n",
      "    7 &    0.452 &  0.231 & 0.452 &    0.464 &  0.237 & 0.464 &    0.465 &  0.240 & 0.465 &    0.445 &  0.207 & 0.445 \\\\\n",
      "    8 &    0.454 &  0.210 & 0.454 &    0.462 &  0.218 & 0.462 &    0.453 &  0.212 & 0.453 &    0.436 &  0.198 & 0.436 \\\\\n",
      "    9 &    0.361 &  0.101 & 0.361 &    0.368 &  0.103 & 0.368 &    0.359 &  0.111 & 0.359 &    0.344 &  0.101 & 0.344 \\\\\n",
      "   10 &    0.293 &  0.071 & 0.293 &    0.301 &  0.072 & 0.301 &    0.301 &  0.079 & 0.301 &    0.278 &  0.075 & 0.278 \\\\\n",
      "\\bottomrule\n",
      "\\end{tabular}\n",
      "\n"
     ]
    }
   ],
   "source": [
    "print(df39merged.to_latex(index=False))"
   ]
  },
  {
   "cell_type": "code",
   "execution_count": 74,
   "metadata": {},
   "outputs": [
    {
     "data": {
      "text/html": [
       "<div>\n",
       "<style scoped>\n",
       "    .dataframe tbody tr th:only-of-type {\n",
       "        vertical-align: middle;\n",
       "    }\n",
       "\n",
       "    .dataframe tbody tr th {\n",
       "        vertical-align: top;\n",
       "    }\n",
       "\n",
       "    .dataframe thead th {\n",
       "        text-align: right;\n",
       "    }\n",
       "</style>\n",
       "<table border=\"1\" class=\"dataframe\">\n",
       "  <thead>\n",
       "    <tr style=\"text-align: right;\">\n",
       "      <th></th>\n",
       "      <th>Node</th>\n",
       "      <th>RoCoF_x</th>\n",
       "      <th>AFV_x</th>\n",
       "      <th>AV_x</th>\n",
       "      <th>RoCoF_y</th>\n",
       "      <th>AFV_y</th>\n",
       "      <th>AV_y</th>\n",
       "      <th>RoCoF_x</th>\n",
       "      <th>AFV_x</th>\n",
       "      <th>AV_x</th>\n",
       "      <th>RoCoF_y</th>\n",
       "      <th>AFV_y</th>\n",
       "      <th>AV_y</th>\n",
       "    </tr>\n",
       "  </thead>\n",
       "  <tbody>\n",
       "    <tr>\n",
       "      <th>0</th>\n",
       "      <td>1.000</td>\n",
       "      <td>0.625</td>\n",
       "      <td>0.598</td>\n",
       "      <td>0.673</td>\n",
       "      <td>0.637</td>\n",
       "      <td>0.609</td>\n",
       "      <td>0.682</td>\n",
       "      <td>0.639</td>\n",
       "      <td>0.617</td>\n",
       "      <td>0.685</td>\n",
       "      <td>0.624</td>\n",
       "      <td>0.587</td>\n",
       "      <td>0.668</td>\n",
       "    </tr>\n",
       "    <tr>\n",
       "      <th>1</th>\n",
       "      <td>2.000</td>\n",
       "      <td>0.452</td>\n",
       "      <td>0.220</td>\n",
       "      <td>0.452</td>\n",
       "      <td>0.458</td>\n",
       "      <td>0.213</td>\n",
       "      <td>0.458</td>\n",
       "      <td>0.451</td>\n",
       "      <td>0.224</td>\n",
       "      <td>0.451</td>\n",
       "      <td>0.439</td>\n",
       "      <td>0.203</td>\n",
       "      <td>0.439</td>\n",
       "    </tr>\n",
       "    <tr>\n",
       "      <th>2</th>\n",
       "      <td>3.000</td>\n",
       "      <td>0.431</td>\n",
       "      <td>0.195</td>\n",
       "      <td>0.431</td>\n",
       "      <td>0.435</td>\n",
       "      <td>0.192</td>\n",
       "      <td>0.435</td>\n",
       "      <td>0.427</td>\n",
       "      <td>0.183</td>\n",
       "      <td>0.427</td>\n",
       "      <td>0.423</td>\n",
       "      <td>0.179</td>\n",
       "      <td>0.423</td>\n",
       "    </tr>\n",
       "    <tr>\n",
       "      <th>3</th>\n",
       "      <td>4.000</td>\n",
       "      <td>0.435</td>\n",
       "      <td>0.197</td>\n",
       "      <td>0.435</td>\n",
       "      <td>0.444</td>\n",
       "      <td>0.199</td>\n",
       "      <td>0.444</td>\n",
       "      <td>0.440</td>\n",
       "      <td>0.206</td>\n",
       "      <td>0.440</td>\n",
       "      <td>0.422</td>\n",
       "      <td>0.182</td>\n",
       "      <td>0.422</td>\n",
       "    </tr>\n",
       "    <tr>\n",
       "      <th>4</th>\n",
       "      <td>5.000</td>\n",
       "      <td>0.488</td>\n",
       "      <td>0.278</td>\n",
       "      <td>0.489</td>\n",
       "      <td>0.495</td>\n",
       "      <td>0.307</td>\n",
       "      <td>0.496</td>\n",
       "      <td>0.489</td>\n",
       "      <td>0.277</td>\n",
       "      <td>0.489</td>\n",
       "      <td>0.474</td>\n",
       "      <td>0.258</td>\n",
       "      <td>0.474</td>\n",
       "    </tr>\n",
       "    <tr>\n",
       "      <th>5</th>\n",
       "      <td>6.000</td>\n",
       "      <td>0.430</td>\n",
       "      <td>0.211</td>\n",
       "      <td>0.430</td>\n",
       "      <td>0.441</td>\n",
       "      <td>0.208</td>\n",
       "      <td>0.441</td>\n",
       "      <td>0.436</td>\n",
       "      <td>0.205</td>\n",
       "      <td>0.436</td>\n",
       "      <td>0.420</td>\n",
       "      <td>0.193</td>\n",
       "      <td>0.420</td>\n",
       "    </tr>\n",
       "    <tr>\n",
       "      <th>6</th>\n",
       "      <td>7.000</td>\n",
       "      <td>0.452</td>\n",
       "      <td>0.231</td>\n",
       "      <td>0.452</td>\n",
       "      <td>0.464</td>\n",
       "      <td>0.237</td>\n",
       "      <td>0.464</td>\n",
       "      <td>0.465</td>\n",
       "      <td>0.240</td>\n",
       "      <td>0.465</td>\n",
       "      <td>0.445</td>\n",
       "      <td>0.207</td>\n",
       "      <td>0.445</td>\n",
       "    </tr>\n",
       "    <tr>\n",
       "      <th>7</th>\n",
       "      <td>8.000</td>\n",
       "      <td>0.454</td>\n",
       "      <td>0.210</td>\n",
       "      <td>0.454</td>\n",
       "      <td>0.462</td>\n",
       "      <td>0.218</td>\n",
       "      <td>0.462</td>\n",
       "      <td>0.453</td>\n",
       "      <td>0.212</td>\n",
       "      <td>0.453</td>\n",
       "      <td>0.436</td>\n",
       "      <td>0.198</td>\n",
       "      <td>0.436</td>\n",
       "    </tr>\n",
       "    <tr>\n",
       "      <th>8</th>\n",
       "      <td>9.000</td>\n",
       "      <td>0.361</td>\n",
       "      <td>0.101</td>\n",
       "      <td>0.361</td>\n",
       "      <td>0.368</td>\n",
       "      <td>0.103</td>\n",
       "      <td>0.368</td>\n",
       "      <td>0.359</td>\n",
       "      <td>0.111</td>\n",
       "      <td>0.359</td>\n",
       "      <td>0.344</td>\n",
       "      <td>0.101</td>\n",
       "      <td>0.344</td>\n",
       "    </tr>\n",
       "    <tr>\n",
       "      <th>9</th>\n",
       "      <td>10.000</td>\n",
       "      <td>0.293</td>\n",
       "      <td>0.071</td>\n",
       "      <td>0.293</td>\n",
       "      <td>0.301</td>\n",
       "      <td>0.072</td>\n",
       "      <td>0.301</td>\n",
       "      <td>0.301</td>\n",
       "      <td>0.079</td>\n",
       "      <td>0.301</td>\n",
       "      <td>0.278</td>\n",
       "      <td>0.075</td>\n",
       "      <td>0.278</td>\n",
       "    </tr>\n",
       "    <tr>\n",
       "      <th>10</th>\n",
       "      <td>5.500</td>\n",
       "      <td>0.442</td>\n",
       "      <td>0.231</td>\n",
       "      <td>0.447</td>\n",
       "      <td>0.450</td>\n",
       "      <td>0.236</td>\n",
       "      <td>0.455</td>\n",
       "      <td>0.446</td>\n",
       "      <td>0.236</td>\n",
       "      <td>0.451</td>\n",
       "      <td>0.431</td>\n",
       "      <td>0.218</td>\n",
       "      <td>0.435</td>\n",
       "    </tr>\n",
       "  </tbody>\n",
       "</table>\n",
       "</div>"
      ],
      "text/plain": [
       "     Node  RoCoF_x  AFV_x  AV_x  RoCoF_y  AFV_y  AV_y  RoCoF_x  AFV_x  AV_x  \\\n",
       "0   1.000    0.625  0.598 0.673    0.637  0.609 0.682    0.639  0.617 0.685   \n",
       "1   2.000    0.452  0.220 0.452    0.458  0.213 0.458    0.451  0.224 0.451   \n",
       "2   3.000    0.431  0.195 0.431    0.435  0.192 0.435    0.427  0.183 0.427   \n",
       "3   4.000    0.435  0.197 0.435    0.444  0.199 0.444    0.440  0.206 0.440   \n",
       "4   5.000    0.488  0.278 0.489    0.495  0.307 0.496    0.489  0.277 0.489   \n",
       "5   6.000    0.430  0.211 0.430    0.441  0.208 0.441    0.436  0.205 0.436   \n",
       "6   7.000    0.452  0.231 0.452    0.464  0.237 0.464    0.465  0.240 0.465   \n",
       "7   8.000    0.454  0.210 0.454    0.462  0.218 0.462    0.453  0.212 0.453   \n",
       "8   9.000    0.361  0.101 0.361    0.368  0.103 0.368    0.359  0.111 0.359   \n",
       "9  10.000    0.293  0.071 0.293    0.301  0.072 0.301    0.301  0.079 0.301   \n",
       "10  5.500    0.442  0.231 0.447    0.450  0.236 0.455    0.446  0.236 0.451   \n",
       "\n",
       "    RoCoF_y  AFV_y  AV_y  \n",
       "0     0.624  0.587 0.668  \n",
       "1     0.439  0.203 0.439  \n",
       "2     0.423  0.179 0.423  \n",
       "3     0.422  0.182 0.422  \n",
       "4     0.474  0.258 0.474  \n",
       "5     0.420  0.193 0.420  \n",
       "6     0.445  0.207 0.445  \n",
       "7     0.436  0.198 0.436  \n",
       "8     0.344  0.101 0.344  \n",
       "9     0.278  0.075 0.278  \n",
       "10    0.431  0.218 0.435  "
      ]
     },
     "execution_count": 74,
     "metadata": {},
     "output_type": "execute_result"
    }
   ],
   "source": [
    "df39merged.append(df39merged.mean(axis = 0), ignore_index=True)"
   ]
  },
  {
   "cell_type": "code",
   "execution_count": 73,
   "metadata": {},
   "outputs": [
    {
     "data": {
      "text/plain": [
       "Node      5.500\n",
       "RoCoF_x   0.442\n",
       "AFV_x     0.231\n",
       "AV_x      0.447\n",
       "RoCoF_y   0.450\n",
       "AFV_y     0.236\n",
       "AV_y      0.455\n",
       "RoCoF_x   0.446\n",
       "AFV_x     0.236\n",
       "AV_x      0.451\n",
       "RoCoF_y   0.431\n",
       "AFV_y     0.218\n",
       "AV_y      0.435\n",
       "dtype: float64"
      ]
     },
     "execution_count": 73,
     "metadata": {},
     "output_type": "execute_result"
    }
   ],
   "source": [
    "df39merged.mean(axis = 0)"
   ]
  },
  {
   "cell_type": "code",
   "execution_count": null,
   "metadata": {},
   "outputs": [],
   "source": []
  }
 ],
 "metadata": {
  "kernelspec": {
   "display_name": "Python 3",
   "language": "python",
   "name": "python3"
  },
  "language_info": {
   "codemirror_mode": {
    "name": "ipython",
    "version": 3
   },
   "file_extension": ".py",
   "mimetype": "text/x-python",
   "name": "python",
   "nbconvert_exporter": "python",
   "pygments_lexer": "ipython3",
   "version": "3.8.5"
  }
 },
 "nbformat": 4,
 "nbformat_minor": 4
}
