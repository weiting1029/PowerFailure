{
 "cells": [
  {
   "cell_type": "code",
   "execution_count": 1,
   "metadata": {
    "scrolled": true
   },
   "outputs": [],
   "source": [
    "import pandas as pd"
   ]
  },
  {
   "cell_type": "code",
   "execution_count": 2,
   "metadata": {
    "scrolled": true
   },
   "outputs": [],
   "source": [
    "from powerNetworkSolver import PowerNetworkSolver\n",
    "from powerNetwork import networkTransform, getGenerators, getBuses, getLines,getNumBuses, getNumLines\n",
    "from powerNetwork import getUndGraph, kron_reduction, edge_removing\n",
    "from disturbancesGnr import normaldisturbances\n",
    "from violationChecking import globalcheck\n",
    "import seaborn as sns; sns.set_theme()\n",
    "#importing the function for multi-edge removal\n",
    "from powerNetwork import multi_edge_removing\n"
   ]
  },
  {
   "cell_type": "code",
   "execution_count": 14,
   "metadata": {
    "scrolled": true
   },
   "outputs": [],
   "source": [
    "import matplotlib.pyplot as plt"
   ]
  },
  {
   "cell_type": "code",
   "execution_count": 15,
   "metadata": {
    "scrolled": true
   },
   "outputs": [],
   "source": [
    "\n",
    "import numpy as np\n",
    "import copy\n",
    "from numpy.linalg import inv \n",
    "import networkx as nx\n",
    "from numpy.random import multivariate_normal\n",
    "from disturbancesGnr import normaldisturbances,correlated_disturbances\n",
    "from scipy.integrate import odeint\n",
    "from violationChecking import globalcheck\n",
    "import math \n",
    "from functools import reduce\n",
    "\n",
    "\n"
   ]
  },
  {
   "cell_type": "markdown",
   "metadata": {},
   "source": [
    "# 1. Test Case 39, complete network "
   ]
  },
  {
   "cell_type": "code",
   "execution_count": 16,
   "metadata": {
    "scrolled": true
   },
   "outputs": [],
   "source": [
    "from pypower.api import case39"
   ]
  },
  {
   "cell_type": "code",
   "execution_count": 17,
   "metadata": {
    "scrolled": true
   },
   "outputs": [
    {
     "name": "stderr",
     "output_type": "stream",
     "text": [
      "WARNING:pypsa.io:Warning: Note that when importing from PYPOWER, some PYPOWER features not supported: areas, gencosts, component status\n"
     ]
    }
   ],
   "source": [
    "network39, subnetwork39 = networkTransform(case39())\n",
    "df_lines39 = getLines(subnetwork39)\n",
    "df_buses39 = getBuses(subnetwork39)"
   ]
  },
  {
   "cell_type": "code",
   "execution_count": 18,
   "metadata": {
    "scrolled": true
   },
   "outputs": [],
   "source": [
    "n39, ngnr39, unG39 = getUndGraph(df_buses39,df_lines39, network39)\n",
    "A39, redL39, redA39  = kron_reduction(n39, ngnr39, unG39)\n",
    "node_list =  np.arange(ngnr39)+1\n",
    "\n",
    "#the previous adjacent matrix \n",
    "# redA39 = np.array([[0,2.484, 2.858, 2.372, 1.031, 0.222,2.13,13.057,3.676,7.834],\n",
    "#               [2.484,0,10.494,1.781,0.774,0.166,1.599,1.473,0.903,5.885],\n",
    "#               [2.858,10.494,0,2.522,1.096,0.236,2.264,1.729,1.144,4.772],\n",
    "#               [2.372,1.781,2.522,0,17.136,0.535,5.14,1.699,1.755,1.367],\n",
    "#               [1.031,0.774, 1.096,17.136,0 ,0.232, 2.235, 0.739, 0.763, 0.594],\n",
    "#               [0.222,0.166,0.236,0.535,0.232,0,1.574, 0.159, 0.164, 0.128],\n",
    "#               [2.13,1.599,2.264, 5.14, 2.235, 1.574, 0, 1.526, 1.576, 1.227],\n",
    "#               [13.057,1.473,1.729, 1.699,0.739, 0.159, 1.526, 0, 4.283, 4.159],\n",
    "#               [3.676, 0.903, 1.144, 1.755, 0.763, 0.164, 1.576, 4.283, 0, 1.37],\n",
    "#               [7.834, 5.885, 4.772, 1.367, 0.594, 0.128, 1.227, 4.159, 1.37 ,0]])\n",
    "\n",
    "# redA39 = np.ones((ngnr39,ngnr39))\n",
    "# np.fill_diagonal(redA39, 0)\n",
    " "
   ]
  },
  {
   "cell_type": "code",
   "execution_count": 19,
   "metadata": {},
   "outputs": [
    {
     "name": "stdout",
     "output_type": "stream",
     "text": [
      "[[ 32.19339596  -2.24077412  -2.53804929  -1.83375379  -0.84971196\n",
      "   -1.97837115  -1.10734538 -11.4337488   -3.17111386  -7.0405276 ]\n",
      " [ -2.24077412  24.34176732  -9.78362621  -1.46126519  -0.6771108\n",
      "   -1.57650656  -0.8824114   -1.33259746  -0.79623472  -5.59124086]\n",
      " [ -2.53804929  -9.78362621  25.7907586   -2.04017565  -0.94536227\n",
      "   -2.20107229  -1.23199695  -1.53776482  -0.98920455  -4.52350657]\n",
      " [ -1.83375379  -1.46126519  -2.04017565  32.10610533 -15.62000109\n",
      "   -4.7048095   -2.63340327  -1.32379253  -1.36949665  -1.11940767]\n",
      " [ -0.84971196  -0.6771108   -0.94536227 -15.62000109  23.25921633\n",
      "   -2.18008159  -1.22024792  -0.61340969  -0.63458774  -0.51870327]\n",
      " [ -1.97837115  -1.57650656  -2.20107229  -4.7048095   -2.18008159\n",
      "   30.63199579 -13.87777293  -1.42819225  -1.47750078  -1.20768875]\n",
      " [ -1.10734538  -0.8824114   -1.23199695  -2.63340327  -1.22024792\n",
      "  -13.87777293  23.25554375  -0.79939605  -0.82699531  -0.67597456]\n",
      " [-11.4337488   -1.33259746  -1.53776482  -1.32379253  -0.61340969\n",
      "   -1.42819225  -0.79939605  26.00674565  -3.76604372  -3.77180033]\n",
      " [ -3.17111386  -0.79623472  -0.98920455  -1.36949665  -0.63458774\n",
      "   -1.47750078  -0.82699531  -3.76604372  14.25497516  -1.22379783]\n",
      " [ -7.0405276   -5.59124086  -4.52350657  -1.11940767  -0.51870327\n",
      "   -1.20768875  -0.67597456  -3.77180033  -1.22379783  25.67264743]]\n"
     ]
    }
   ],
   "source": [
    "print(redL39)"
   ]
  },
  {
   "cell_type": "raw",
   "metadata": {},
   "source": [
    "print(np.round(redA39,5))\n",
    "ax1 = sns.heatmap(redL39.astype(int), annot=True, fmt=\"d\")\n",
    "# print(redL39)\n",
    "ax2 = sns.heatmap(redA39.astype(int), annot=True, fmt=\"d\")"
   ]
  },
  {
   "cell_type": "code",
   "execution_count": 20,
   "metadata": {
    "scrolled": true
   },
   "outputs": [],
   "source": [
    "K = 1\n",
    "M = np.array([0.2228, 0.1607, 0.1899, 0.1517, 0.1379, 0.1846, 0.1401, 0.1289, 0.183, 2.6526])\n",
    "D = np.array([0.0332,0.076,0.0862,0.0838,0.0674,0.0862,0.0743,0.0716,0.1101,0.1333])\n",
    "# Ome = np.zeros(n)\n",
    "pi = math.pi\n",
    "t =  2\n",
    "nn = 100\n",
    "dt = np.linspace(0, t, nn+1)\n",
    "\n",
    "sigma = 0.01\n",
    "theta0 = np.zeros(ngnr39)\n",
    "omega0 = np.zeros(ngnr39)\n",
    "OMEGA = np.zeros(ngnr39)\n",
    "model39 = PowerNetworkSolver(theta0,omega0,redA39, ngnr39, D,M,K,OMEGA)"
   ]
  },
  {
   "cell_type": "code",
   "execution_count": 21,
   "metadata": {},
   "outputs": [],
   "source": [
    "from numpy.random import seed"
   ]
  },
  {
   "cell_type": "code",
   "execution_count": 24,
   "metadata": {
    "scrolled": true
   },
   "outputs": [],
   "source": [
    "#generate numerical tracks \n",
    "seed(100)\n",
    "disturbances = correlated_disturbances(delta=1, alpha=1.5, tau=1.5, n=ngnr39, L=redL39, k=1)\n",
    "sol0 = np.pad(disturbances[0], (ngnr39,0), 'constant', constant_values=(0,0))\n",
    "single_sol = model39.solkuramoto(sol0,dt)\n",
    "sol_domega = model39.getDotOmega(single_sol[:,:ngnr39],single_sol[:,ngnr39:],nn)"
   ]
  },
  {
   "cell_type": "code",
   "execution_count": 25,
   "metadata": {},
   "outputs": [
    {
     "data": {
      "text/plain": [
       "Text(0.5, 1.0, 'Phase angles')"
      ]
     },
     "execution_count": 25,
     "metadata": {},
     "output_type": "execute_result"
    },
    {
     "data": {
      "image/png": "[encoded data removed]",
      "text/plain": [
       "<Figure size 432x288 with 1 Axes>"
      ]
     },
     "metadata": {},
     "output_type": "display_data"
    }
   ],
   "source": [
    "for i in range(ngnr39):\n",
    "    theta = single_sol[:,i]\n",
    "    plt.plot(dt, theta, \"-\", label=\"Theta\"+ str(i+1))\n",
    "\n",
    "plt.xlabel(\"Time\")\n",
    "plt.ylabel(\"Theta\")    \n",
    "plt.ylim(-0.1, 0.1)\n",
    "plt.legend();\n",
    "plt.title('Phase angles')"
   ]
  },
  {
   "cell_type": "code",
   "execution_count": 26,
   "metadata": {
    "scrolled": true
   },
   "outputs": [
    {
     "data": {
      "text/plain": [
       "Text(0.5, 1.0, 'Natural rotation frequencies')"
      ]
     },
     "execution_count": 26,
     "metadata": {},
     "output_type": "execute_result"
    },
    {
     "data": {
      "image/png": "[encoded data removed]",
      "text/plain": [
       "<Figure size 432x288 with 1 Axes>"
      ]
     },
     "metadata": {},
     "output_type": "display_data"
    }
   ],
   "source": [
    "for i in range(ngnr39):\n",
    "    omega = single_sol[:,ngnr39+i]  \n",
    "    plt.plot(dt, omega, \"-\", label=\"Omega\"+ str(i+1))\n",
    "\n",
    "\n",
    "plt.xlabel(\"Time\")\n",
    "\n",
    "plt.ylabel(\"Omega\")\n",
    "plt.ylim(-0.5, 0.5)\n",
    "plt.legend();\n",
    "plt.title('Natural rotation frequencies')"
   ]
  },
  {
   "cell_type": "code",
   "execution_count": 27,
   "metadata": {},
   "outputs": [
    {
     "data": {
      "text/plain": [
       "Text(0.5, 1.0, 'Change Rates of Natural rotation frequencies')"
      ]
     },
     "execution_count": 27,
     "metadata": {},
     "output_type": "execute_result"
    },
    {
     "data": {
      "image/png": "[encoded data removed]",
      "text/plain": [
       "<Figure size 432x288 with 1 Axes>"
      ]
     },
     "metadata": {},
     "output_type": "display_data"
    }
   ],
   "source": [
    "for i in range(ngnr39):\n",
    "    domega = sol_domega[:,i]  \n",
    "    plt.plot(dt, domega, \"-\", label=\"Omega Dot\"+ str(i+1))\n",
    "\n",
    "plt.xlabel(\"Time\")\n",
    "plt.ylabel(\"Omega Dot\")\n",
    "plt.ylim(-5, 5)\n",
    "plt.legend();\n",
    "plt.title('Change Rates of Natural rotation frequencies')"
   ]
  },
  {
   "cell_type": "code",
   "execution_count": 28,
   "metadata": {
    "scrolled": true
   },
   "outputs": [],
   "source": [
    "# simulation to calculate failure rates \n",
    "check_times = 100\n",
    "KK =3000#repetition times  \n",
    "thres = np.array([0.2,2])#thres1 is for omega, thres2 is for omega_dot\n",
    "rates39 = model39.Simulation(KK, check_times, sigma, thres, t, nn, normaldisturbances)"
   ]
  },
  {
   "cell_type": "code",
   "execution_count": 29,
   "metadata": {
    "scrolled": true
   },
   "outputs": [
    {
     "name": "stdout",
     "output_type": "stream",
     "text": [
      "1.2e+02sec\n"
     ]
    }
   ],
   "source": [
    "print(rates39['totaltime'])"
   ]
  },
  {
   "cell_type": "code",
   "execution_count": 32,
   "metadata": {
    "scrolled": false
   },
   "outputs": [
    {
     "name": "stdout",
     "output_type": "stream",
     "text": [
      "\\begin{tabular}{rrrr}\n",
      "\\toprule\n",
      " Node &     RoCoF &       AFV &        AV \\\\\n",
      "\\midrule\n",
      "    1 &  0.101000 &  0.177000 &  0.210667 \\\\\n",
      "    2 &  0.156000 &  0.223667 &  0.259667 \\\\\n",
      "    3 &  0.097667 &  0.196333 &  0.217333 \\\\\n",
      "    4 &  0.237667 &  0.327333 &  0.397000 \\\\\n",
      "    5 &  0.230000 &  0.363000 &  0.417333 \\\\\n",
      "    6 &  0.164333 &  0.293333 &  0.341333 \\\\\n",
      "    7 &  0.238000 &  0.357333 &  0.416000 \\\\\n",
      "    8 &  0.277000 &  0.291333 &  0.384333 \\\\\n",
      "    9 &  0.022667 &  0.268000 &  0.268000 \\\\\n",
      "   10 &  0.000000 &  0.046667 &  0.046667 \\\\\n",
      "\\bottomrule\n",
      "\\end{tabular}\n",
      "\n"
     ]
    }
   ],
   "source": [
    "df39 = pd.DataFrame({'Node': node_list,'RoCoF': rates39['vcheck_omega'] , 'AFV': rates39['vcheck_theta'] ,'AV': rates39['vcheck_any']})\n",
    "print(df39.to_latex(index=False))"
   ]
  },
  {
   "cell_type": "code",
   "execution_count": 34,
   "metadata": {},
   "outputs": [],
   "source": [
    "df39.to_excel('original_network_cor.xlsx')"
   ]
  },
  {
   "cell_type": "code",
   "execution_count": 17,
   "metadata": {
    "scrolled": true
   },
   "outputs": [],
   "source": [
    "test=pd.DataFrame()"
   ]
  },
  {
   "cell_type": "markdown",
   "metadata": {
    "jupyter": {
     "outputs_hidden": true
    },
    "scrolled": true
   },
   "source": [
    "network_test = multi_edge_removing(unG39, [[15,16],[20,34],[23,24]])"
   ]
  },
  {
   "cell_type": "markdown",
   "metadata": {},
   "source": [
    "# 2. Test Case 39, incomplete networks"
   ]
  },
  {
   "cell_type": "markdown",
   "metadata": {},
   "source": [
    "## 2.1 Removing (20, 34)"
   ]
  },
  {
   "cell_type": "raw",
   "metadata": {
    "jupyter": {
     "outputs_hidden": true
    },
    "scrolled": true
   },
   "source": [
    "G3901 = edge_removing(unG39, [20,34])\n",
    "A3901, redL3901, redA3901  = kron_reduction(n39, ngnr39, G3901)\n",
    "model3901 = PowerNetworkSolver(theta0,omega0,redA3901, ngnr39,D,M,K,OMEGA)\n",
    "rates3901 = model3901.Simulation(KK, check_times, sigma, thres, t, nn, normaldisturbances)\n",
    "df3901 = pd.DataFrame({'Node': node_list,'RoCoF': rates3901['vcheck_omega'] , 'AFV': rates3901['vcheck_theta'] ,'AV': rates3901['vcheck_any']})\n",
    "print(df3901.to_latex(index=False))"
   ]
  },
  {
   "cell_type": "markdown",
   "metadata": {},
   "source": [
    "## 2.2 Removing (15, 16)"
   ]
  },
  {
   "cell_type": "raw",
   "metadata": {
    "jupyter": {
     "outputs_hidden": true
    },
    "scrolled": true
   },
   "source": [
    "G3902 = edge_removing(unG39, [15,16])\n",
    "A3902, redL3902, redA3902  = kron_reduction(n39, ngnr39, G3902)\n",
    "model3902 = PowerNetworkSolver(theta0,omega0,redA3902, ngnr39, D,M,K,OMEGA)\n",
    "rates3902 = model3902.Simulation(KK, check_times, sigma, thres, t, nn, normaldisturbances)\n",
    "# disturbances = normaldisturbances(ngnr39,1,sigma)\n",
    "# sol0 = np.pad(disturbances[0], (ngnr39,0), 'constant', constant_values=(0,0))\n",
    "single_sol = model3902.solkuramoto(sol0,dt)"
   ]
  },
  {
   "cell_type": "raw",
   "metadata": {
    "jupyter": {
     "outputs_hidden": true
    },
    "scrolled": true
   },
   "source": [
    "df3902 = pd.DataFrame({'Node': node_list,'RoCoF': rates3902['vcheck_omega'] , 'AFV': rates3902['vcheck_theta'] ,'AV': rates3902['vcheck_any']})\n",
    "# print(df3902.to_latex(index=False))"
   ]
  },
  {
   "cell_type": "markdown",
   "metadata": {},
   "source": [
    "## 2.3 Removing (23, 24)"
   ]
  },
  {
   "cell_type": "raw",
   "metadata": {
    "jupyter": {
     "outputs_hidden": true
    },
    "scrolled": true
   },
   "source": [
    "G3903 = edge_removing(unG39, [23,24])\n",
    "A3903, redL3903, redA3903  = kron_reduction(n39, ngnr39, G3903)\n",
    "model3903 = PowerNetworkSolver(theta0,omega0,redA3903, ngnr39, D,M,K,OMEGA)\n",
    "rates3903 = model3903.Simulation(KK, check_times, sigma, thres, t, nn, normaldisturbances)"
   ]
  },
  {
   "cell_type": "raw",
   "metadata": {
    "jupyter": {
     "outputs_hidden": true
    },
    "scrolled": true
   },
   "source": [
    "df3903 = pd.DataFrame({'Node': node_list,'RoCoF': rates3903['vcheck_omega'] , 'AFV': rates3903['vcheck_theta'] ,'AV': rates3903['vcheck_any']})\n",
    "# print(df3903.to_latex(index=False))"
   ]
  },
  {
   "cell_type": "code",
   "execution_count": null,
   "metadata": {
    "jupyter": {
     "outputs_hidden": true
    },
    "scrolled": true
   },
   "outputs": [],
   "source": [
    "pd.options.display.float_format = '{:,.3f}'.format\n",
    "df39.head()"
   ]
  },
  {
   "cell_type": "raw",
   "metadata": {
    "jupyter": {
     "outputs_hidden": true
    },
    "scrolled": true
   },
   "source": [
    "df39_merged = [df39,df3901,df3902,df3903]\n",
    "df39merged = reduce(lambda  left,right: pd.merge(left,right,on=['Node'],\n",
    "                                            how='outer'), df39_merged)\n",
    "df39merged = df39merged.append(df39merged.mean(axis = 0), ignore_index=True)\n",
    "\n",
    "# print(df39merged.to_latex(index=False))"
   ]
  },
  {
   "cell_type": "raw",
   "metadata": {},
   "source": [
    "# print(df39merged)\n",
    "# pd.DataFrame.from_dict(df39_merged)\n",
    "df39merged.head()"
   ]
  },
  {
   "cell_type": "markdown",
   "metadata": {},
   "source": [
    "## 2.4 Removing [4, 5],[15, 16]"
   ]
  },
  {
   "cell_type": "raw",
   "metadata": {
    "jupyter": {
     "outputs_hidden": true
    },
    "scrolled": true
   },
   "source": [
    "G3904 = multi_edge_removing(unG39, ([4,5],[15,16]))\n",
    "A3904, redL3904, redA3904  = kron_reduction(n39, ngnr39, G3904)\n",
    "model3904 = PowerNetworkSolver(theta0,omega0,redA3904, ngnr39, D,M,K,OMEGA)\n",
    "rates3904 = model3904.Simulation(KK, check_times, sigma, thres, t, nn, normaldisturbances)"
   ]
  },
  {
   "cell_type": "raw",
   "metadata": {
    "jupyter": {
     "outputs_hidden": true
    },
    "scrolled": true
   },
   "source": [
    "df3904 = pd.DataFrame({'Node': node_list,'RoCoF': rates3904['vcheck_omega'] , 'AFV': rates3904['vcheck_theta'] ,'AV': rates3904['vcheck_any']})\n",
    "# print(df3901.to_latex(index=False))"
   ]
  },
  {
   "cell_type": "markdown",
   "metadata": {
    "jupyter": {
     "outputs_hidden": true
    }
   },
   "source": [
    "## 2.5 Removing [4, 5],[15, 16],[4, 14]"
   ]
  },
  {
   "cell_type": "code",
   "execution_count": 35,
   "metadata": {
    "jupyter": {
     "outputs_hidden": true
    },
    "scrolled": true
   },
   "outputs": [
    {
     "name": "stdout",
     "output_type": "stream",
     "text": [
      "[4, 5]\n",
      "[15, 16]\n",
      "[4, 14]\n"
     ]
    }
   ],
   "source": [
    "G3905 = multi_edge_removing(unG39, ([4,5],[15,16],[4,14]))\n",
    "A3905, redL3905, redA3905  = kron_reduction(n39, ngnr39, G3905)\n",
    "model3905 = PowerNetworkSolver(theta0,omega0,redA3905, ngnr39, D,M,K,OMEGA)\n",
    "rates3905 = model3905.Simulation(KK, check_times, sigma, thres, t, nn, normaldisturbances)"
   ]
  },
  {
   "cell_type": "code",
   "execution_count": 36,
   "metadata": {
    "jupyter": {
     "outputs_hidden": true
    },
    "scrolled": true
   },
   "outputs": [],
   "source": [
    "df3905 = pd.DataFrame({'Node': node_list,'RoCoF': rates3905['vcheck_omega'] , 'AFV': rates3905['vcheck_theta'] ,'AV': rates3905['vcheck_any']})"
   ]
  },
  {
   "cell_type": "code",
   "execution_count": 37,
   "metadata": {
    "jupyter": {
     "outputs_hidden": true
    },
    "scrolled": true
   },
   "outputs": [],
   "source": [
    "df39_merged02 = [df39,df3905]\n",
    "df39merged02 = reduce(lambda  left,right: pd.merge(left,right,on=['Node'],\n",
    "                                            how='outer'), df39_merged02)\n",
    "df39merged02 = df39merged02.append(df39merged02.mean(axis = 0), ignore_index=True)\n",
    "# print(df39merged02.to_latex(index=False))\n",
    "df39merged02.to_excel('tuple_cor_cov.xlsx')"
   ]
  },
  {
   "cell_type": "markdown",
   "metadata": {
    "jupyter": {
     "outputs_hidden": true
    }
   },
   "source": [
    "## 2.6 Removing [4, 5]"
   ]
  },
  {
   "cell_type": "raw",
   "metadata": {
    "jupyter": {
     "outputs_hidden": true
    },
    "scrolled": true
   },
   "source": [
    "G3906 = edge_removing(unG39,[4,5])\n",
    "A3906, redL3906, redA3906  = kron_reduction(n39, ngnr39, G3906)\n",
    "model3906 = PowerNetworkSolver(theta0,omega0,redA3906, ngnr39, D,M,K,OMEGA)\n",
    "rates3906 = model3906.Simulation(KK, check_times, sigma, thres, t, nn, normaldisturbances)"
   ]
  },
  {
   "cell_type": "raw",
   "metadata": {
    "jupyter": {
     "outputs_hidden": true
    },
    "scrolled": true
   },
   "source": [
    "df3906 = pd.DataFrame({'Node': node_list,'RoCoF': rates3906['vcheck_omega'] , 'AFV': rates3906['vcheck_theta'] ,'AV': rates3906['vcheck_any']})"
   ]
  },
  {
   "cell_type": "markdown",
   "metadata": {
    "jupyter": {
     "outputs_hidden": true
    }
   },
   "source": [
    "## 2.7 Removing [4, 14]"
   ]
  },
  {
   "cell_type": "raw",
   "metadata": {
    "jupyter": {
     "outputs_hidden": true
    },
    "scrolled": true
   },
   "source": [
    "G3907 = edge_removing(unG39,[4,14])\n",
    "A3907, redL3907, redA3907  = kron_reduction(n39, ngnr39, G3907)\n",
    "model3907 = PowerNetworkSolver(theta0,omega0,redA3907, ngnr39, D,M,K,OMEGA)\n",
    "rates3907 = model3907.Simulation(KK, check_times, sigma, thres, t, nn, normaldisturbances)"
   ]
  },
  {
   "cell_type": "raw",
   "metadata": {
    "jupyter": {
     "outputs_hidden": true
    },
    "scrolled": true
   },
   "source": [
    "df3907 = pd.DataFrame({'Node': node_list,'RoCoF': rates3907['vcheck_omega'] , 'AFV': rates3907['vcheck_theta'] ,'AV': rates3907['vcheck_any']})"
   ]
  },
  {
   "cell_type": "raw",
   "metadata": {
    "jupyter": {
     "outputs_hidden": true
    },
    "scrolled": true
   },
   "source": [
    "df39_merged02 = [df3906,df3907,df3904,df3905]\n",
    "df39merged02 = reduce(lambda  left,right: pd.merge(left,right,on=['Node'],\n",
    "                                            how='outer'), df39_merged02)\n",
    "df39merged02 = df39merged02.append(df39merged02.mean(axis = 0), ignore_index=True)\n",
    "print(df39merged02.to_latex(index=False))"
   ]
  },
  {
   "cell_type": "markdown",
   "metadata": {},
   "source": [
    "## 2.8 All single-edge removals "
   ]
  },
  {
   "cell_type": "code",
   "execution_count": 39,
   "metadata": {},
   "outputs": [
    {
     "name": "stdout",
     "output_type": "stream",
     "text": [
      "The graph is not connected without edge (2.0, 30.0)\n"
     ]
    },
    {
     "ename": "KeyboardInterrupt",
     "evalue": "",
     "output_type": "error",
     "traceback": [
      "\u001b[0;31m---------------------------------------------------------------------------\u001b[0m",
      "\u001b[0;31mKeyboardInterrupt\u001b[0m                         Traceback (most recent call last)",
      "\u001b[0;32m<ipython-input-39-7245f116b70c>\u001b[0m in \u001b[0;36m<module>\u001b[0;34m\u001b[0m\n\u001b[1;32m     11\u001b[0m     \u001b[0mtemp_A39\u001b[0m\u001b[0;34m,\u001b[0m \u001b[0mtemp_redL39\u001b[0m\u001b[0;34m,\u001b[0m\u001b[0mtemp_redA39\u001b[0m \u001b[0;34m=\u001b[0m \u001b[0mkron_reduction\u001b[0m\u001b[0;34m(\u001b[0m\u001b[0mn39\u001b[0m\u001b[0;34m,\u001b[0m\u001b[0mngnr39\u001b[0m\u001b[0;34m,\u001b[0m\u001b[0mtemp_G39\u001b[0m\u001b[0;34m)\u001b[0m\u001b[0;34m\u001b[0m\u001b[0;34m\u001b[0m\u001b[0m\n\u001b[1;32m     12\u001b[0m     \u001b[0mtemp_model39\u001b[0m \u001b[0;34m=\u001b[0m \u001b[0mPowerNetworkSolver\u001b[0m\u001b[0;34m(\u001b[0m\u001b[0mtheta0\u001b[0m\u001b[0;34m,\u001b[0m\u001b[0momega0\u001b[0m\u001b[0;34m,\u001b[0m\u001b[0mtemp_redA39\u001b[0m\u001b[0;34m,\u001b[0m\u001b[0mngnr39\u001b[0m\u001b[0;34m,\u001b[0m\u001b[0mD\u001b[0m\u001b[0;34m,\u001b[0m\u001b[0mM\u001b[0m\u001b[0;34m,\u001b[0m\u001b[0mK\u001b[0m\u001b[0;34m,\u001b[0m\u001b[0mOMEGA\u001b[0m\u001b[0;34m)\u001b[0m\u001b[0;34m\u001b[0m\u001b[0;34m\u001b[0m\u001b[0m\n\u001b[0;32m---> 13\u001b[0;31m     \u001b[0mtemp_rates39\u001b[0m \u001b[0;34m=\u001b[0m \u001b[0mtemp_model39\u001b[0m\u001b[0;34m.\u001b[0m\u001b[0mSimulation\u001b[0m\u001b[0;34m(\u001b[0m\u001b[0mKK\u001b[0m\u001b[0;34m,\u001b[0m \u001b[0mcheck_times\u001b[0m\u001b[0;34m,\u001b[0m \u001b[0msigma\u001b[0m\u001b[0;34m,\u001b[0m \u001b[0mthres\u001b[0m\u001b[0;34m,\u001b[0m \u001b[0mt\u001b[0m\u001b[0;34m,\u001b[0m \u001b[0mnn\u001b[0m\u001b[0;34m,\u001b[0m \u001b[0mnormaldisturbances\u001b[0m\u001b[0;34m)\u001b[0m\u001b[0;34m\u001b[0m\u001b[0;34m\u001b[0m\u001b[0m\n\u001b[0m\u001b[1;32m     14\u001b[0m     \u001b[0mtemp_df39\u001b[0m \u001b[0;34m=\u001b[0m \u001b[0mpd\u001b[0m\u001b[0;34m.\u001b[0m\u001b[0mDataFrame\u001b[0m\u001b[0;34m(\u001b[0m\u001b[0;34m{\u001b[0m\u001b[0;34m'Node'\u001b[0m\u001b[0;34m:\u001b[0m \u001b[0mnode_list\u001b[0m\u001b[0;34m,\u001b[0m\u001b[0;34m'RoCoF'\u001b[0m\u001b[0;34m:\u001b[0m \u001b[0mtemp_rates39\u001b[0m\u001b[0;34m[\u001b[0m\u001b[0;34m'vcheck_omega'\u001b[0m\u001b[0;34m]\u001b[0m \u001b[0;34m,\u001b[0m \u001b[0;34m'AFV'\u001b[0m\u001b[0;34m:\u001b[0m \u001b[0mtemp_rates39\u001b[0m\u001b[0;34m[\u001b[0m\u001b[0;34m'vcheck_theta'\u001b[0m\u001b[0;34m]\u001b[0m \u001b[0;34m,\u001b[0m\u001b[0;34m'AV'\u001b[0m\u001b[0;34m:\u001b[0m \u001b[0mtemp_rates39\u001b[0m\u001b[0;34m[\u001b[0m\u001b[0;34m'vcheck_any'\u001b[0m\u001b[0;34m]\u001b[0m\u001b[0;34m}\u001b[0m\u001b[0;34m)\u001b[0m\u001b[0;34m\u001b[0m\u001b[0;34m\u001b[0m\u001b[0m\n\u001b[1;32m     15\u001b[0m     \u001b[0mrate_list39\u001b[0m\u001b[0;34m[\u001b[0m\u001b[0mj\u001b[0m\u001b[0;34m,\u001b[0m\u001b[0;34m:\u001b[0m\u001b[0;34m]\u001b[0m\u001b[0;34m=\u001b[0m\u001b[0mtemp_df39\u001b[0m\u001b[0;34m.\u001b[0m\u001b[0mmean\u001b[0m\u001b[0;34m(\u001b[0m\u001b[0maxis\u001b[0m \u001b[0;34m=\u001b[0m \u001b[0;36m0\u001b[0m\u001b[0;34m)\u001b[0m\u001b[0;34m\u001b[0m\u001b[0;34m\u001b[0m\u001b[0m\n",
      "\u001b[0;32m~/Documents/GitHub/PowerFailure/powerNetworkSolver.py\u001b[0m in \u001b[0;36mSimulation\u001b[0;34m(self, KK, check_times, sigma, thres, t, nn, dtb_gnr)\u001b[0m\n\u001b[1;32m     64\u001b[0m         \u001b[0;32mfor\u001b[0m \u001b[0mk\u001b[0m \u001b[0;32min\u001b[0m \u001b[0mrange\u001b[0m\u001b[0;34m(\u001b[0m\u001b[0mKK\u001b[0m\u001b[0;34m)\u001b[0m\u001b[0;34m:\u001b[0m\u001b[0;34m\u001b[0m\u001b[0;34m\u001b[0m\u001b[0m\n\u001b[1;32m     65\u001b[0m             \u001b[0msol0\u001b[0m \u001b[0;34m=\u001b[0m \u001b[0mnp\u001b[0m\u001b[0;34m.\u001b[0m\u001b[0mpad\u001b[0m\u001b[0;34m(\u001b[0m\u001b[0mdisturbances\u001b[0m\u001b[0;34m[\u001b[0m\u001b[0mk\u001b[0m\u001b[0;34m]\u001b[0m\u001b[0;34m,\u001b[0m \u001b[0;34m(\u001b[0m\u001b[0mn\u001b[0m\u001b[0;34m,\u001b[0m \u001b[0;36m0\u001b[0m\u001b[0;34m)\u001b[0m\u001b[0;34m,\u001b[0m \u001b[0;34m'constant'\u001b[0m\u001b[0;34m,\u001b[0m \u001b[0mconstant_values\u001b[0m\u001b[0;34m=\u001b[0m\u001b[0;34m(\u001b[0m\u001b[0;36m0\u001b[0m\u001b[0;34m,\u001b[0m \u001b[0;36m0\u001b[0m\u001b[0;34m)\u001b[0m\u001b[0;34m)\u001b[0m\u001b[0;34m\u001b[0m\u001b[0;34m\u001b[0m\u001b[0m\n\u001b[0;32m---> 66\u001b[0;31m             \u001b[0mvec_sol\u001b[0m \u001b[0;34m=\u001b[0m \u001b[0mself\u001b[0m\u001b[0;34m.\u001b[0m\u001b[0msolkuramoto\u001b[0m\u001b[0;34m(\u001b[0m\u001b[0msol0\u001b[0m\u001b[0;34m,\u001b[0m \u001b[0mdt\u001b[0m\u001b[0;34m)\u001b[0m  \u001b[0;31m# get numerical tracks for theta and omega\u001b[0m\u001b[0;34m\u001b[0m\u001b[0;34m\u001b[0m\u001b[0m\n\u001b[0m\u001b[1;32m     67\u001b[0m             \u001b[0msol_domega\u001b[0m \u001b[0;34m=\u001b[0m \u001b[0mself\u001b[0m\u001b[0;34m.\u001b[0m\u001b[0mgetDotOmega\u001b[0m\u001b[0;34m(\u001b[0m\u001b[0mvec_sol\u001b[0m\u001b[0;34m[\u001b[0m\u001b[0;34m:\u001b[0m\u001b[0;34m,\u001b[0m \u001b[0;34m:\u001b[0m\u001b[0mn\u001b[0m\u001b[0;34m]\u001b[0m\u001b[0;34m,\u001b[0m \u001b[0mvec_sol\u001b[0m\u001b[0;34m[\u001b[0m\u001b[0;34m:\u001b[0m\u001b[0;34m,\u001b[0m \u001b[0mn\u001b[0m\u001b[0;34m:\u001b[0m\u001b[0;34m]\u001b[0m\u001b[0;34m,\u001b[0m \u001b[0mnn\u001b[0m\u001b[0;34m)\u001b[0m  \u001b[0;31m# get numerical tracks for omega dot\u001b[0m\u001b[0;34m\u001b[0m\u001b[0;34m\u001b[0m\u001b[0m\n\u001b[1;32m     68\u001b[0m             \u001b[0momega_domega\u001b[0m \u001b[0;34m=\u001b[0m \u001b[0mnp\u001b[0m\u001b[0;34m.\u001b[0m\u001b[0mconcatenate\u001b[0m\u001b[0;34m(\u001b[0m\u001b[0;34m(\u001b[0m\u001b[0mvec_sol\u001b[0m\u001b[0;34m[\u001b[0m\u001b[0;34m:\u001b[0m\u001b[0;34m,\u001b[0m \u001b[0mn\u001b[0m\u001b[0;34m:\u001b[0m\u001b[0;34m]\u001b[0m\u001b[0;34m,\u001b[0m \u001b[0msol_domega\u001b[0m\u001b[0;34m)\u001b[0m\u001b[0;34m,\u001b[0m \u001b[0maxis\u001b[0m\u001b[0;34m=\u001b[0m\u001b[0;36m1\u001b[0m\u001b[0;34m)\u001b[0m  \u001b[0;31m# create a vector of [omega,domega]\u001b[0m\u001b[0;34m\u001b[0m\u001b[0;34m\u001b[0m\u001b[0m\n",
      "\u001b[0;32m~/Documents/GitHub/PowerFailure/powerNetworkSolver.py\u001b[0m in \u001b[0;36msolkuramoto\u001b[0;34m(self, sol0, dt)\u001b[0m\n\u001b[1;32m     33\u001b[0m \u001b[0;34m\u001b[0m\u001b[0m\n\u001b[1;32m     34\u001b[0m     \u001b[0;32mdef\u001b[0m \u001b[0msolkuramoto\u001b[0m\u001b[0;34m(\u001b[0m\u001b[0mself\u001b[0m\u001b[0;34m,\u001b[0m \u001b[0msol0\u001b[0m\u001b[0;34m,\u001b[0m \u001b[0mdt\u001b[0m\u001b[0;34m)\u001b[0m\u001b[0;34m:\u001b[0m\u001b[0;34m\u001b[0m\u001b[0;34m\u001b[0m\u001b[0m\n\u001b[0;32m---> 35\u001b[0;31m         \u001b[0;32mreturn\u001b[0m \u001b[0modeint\u001b[0m\u001b[0;34m(\u001b[0m\u001b[0mself\u001b[0m\u001b[0;34m.\u001b[0m\u001b[0mkuramoto2nd\u001b[0m\u001b[0;34m,\u001b[0m \u001b[0msol0\u001b[0m\u001b[0;34m,\u001b[0m \u001b[0mdt\u001b[0m\u001b[0;34m)\u001b[0m\u001b[0;34m\u001b[0m\u001b[0;34m\u001b[0m\u001b[0m\n\u001b[0m\u001b[1;32m     36\u001b[0m \u001b[0;34m\u001b[0m\u001b[0m\n\u001b[1;32m     37\u001b[0m     \u001b[0;32mdef\u001b[0m \u001b[0mgetDotOmega\u001b[0m\u001b[0;34m(\u001b[0m\u001b[0mself\u001b[0m\u001b[0;34m,\u001b[0m \u001b[0mtheta\u001b[0m\u001b[0;34m,\u001b[0m \u001b[0momega\u001b[0m\u001b[0;34m,\u001b[0m \u001b[0mnn\u001b[0m\u001b[0;34m)\u001b[0m\u001b[0;34m:\u001b[0m\u001b[0;34m\u001b[0m\u001b[0;34m\u001b[0m\u001b[0m\n",
      "\u001b[0;32m~/anaconda3/lib/python3.8/site-packages/scipy/integrate/odepack.py\u001b[0m in \u001b[0;36modeint\u001b[0;34m(func, y0, t, args, Dfun, col_deriv, full_output, ml, mu, rtol, atol, tcrit, h0, hmax, hmin, ixpr, mxstep, mxhnil, mxordn, mxords, printmessg, tfirst)\u001b[0m\n\u001b[1;32m    239\u001b[0m     \u001b[0mt\u001b[0m \u001b[0;34m=\u001b[0m \u001b[0mcopy\u001b[0m\u001b[0;34m(\u001b[0m\u001b[0mt\u001b[0m\u001b[0;34m)\u001b[0m\u001b[0;34m\u001b[0m\u001b[0;34m\u001b[0m\u001b[0m\n\u001b[1;32m    240\u001b[0m     \u001b[0my0\u001b[0m \u001b[0;34m=\u001b[0m \u001b[0mcopy\u001b[0m\u001b[0;34m(\u001b[0m\u001b[0my0\u001b[0m\u001b[0;34m)\u001b[0m\u001b[0;34m\u001b[0m\u001b[0;34m\u001b[0m\u001b[0m\n\u001b[0;32m--> 241\u001b[0;31m     output = _odepack.odeint(func, y0, t, args, Dfun, col_deriv, ml, mu,\n\u001b[0m\u001b[1;32m    242\u001b[0m                              \u001b[0mfull_output\u001b[0m\u001b[0;34m,\u001b[0m \u001b[0mrtol\u001b[0m\u001b[0;34m,\u001b[0m \u001b[0matol\u001b[0m\u001b[0;34m,\u001b[0m \u001b[0mtcrit\u001b[0m\u001b[0;34m,\u001b[0m \u001b[0mh0\u001b[0m\u001b[0;34m,\u001b[0m \u001b[0mhmax\u001b[0m\u001b[0;34m,\u001b[0m \u001b[0mhmin\u001b[0m\u001b[0;34m,\u001b[0m\u001b[0;34m\u001b[0m\u001b[0;34m\u001b[0m\u001b[0m\n\u001b[1;32m    243\u001b[0m                              \u001b[0mixpr\u001b[0m\u001b[0;34m,\u001b[0m \u001b[0mmxstep\u001b[0m\u001b[0;34m,\u001b[0m \u001b[0mmxhnil\u001b[0m\u001b[0;34m,\u001b[0m \u001b[0mmxordn\u001b[0m\u001b[0;34m,\u001b[0m \u001b[0mmxords\u001b[0m\u001b[0;34m,\u001b[0m\u001b[0;34m\u001b[0m\u001b[0;34m\u001b[0m\u001b[0m\n",
      "\u001b[0;32m~/Documents/GitHub/PowerFailure/powerNetworkSolver.py\u001b[0m in \u001b[0;36mkuramoto2nd\u001b[0;34m(self, X, t)\u001b[0m\n\u001b[1;32m     27\u001b[0m         \u001b[0mmatrix1\u001b[0m \u001b[0;34m=\u001b[0m \u001b[0mnp\u001b[0m\u001b[0;34m.\u001b[0m\u001b[0mrepeat\u001b[0m\u001b[0;34m(\u001b[0m\u001b[0mnp\u001b[0m\u001b[0;34m.\u001b[0m\u001b[0mreshape\u001b[0m\u001b[0;34m(\u001b[0m\u001b[0mtheta\u001b[0m\u001b[0;34m,\u001b[0m \u001b[0;34m(\u001b[0m\u001b[0;36m1\u001b[0m\u001b[0;34m,\u001b[0m \u001b[0mn\u001b[0m\u001b[0;34m)\u001b[0m\u001b[0;34m)\u001b[0m\u001b[0;34m,\u001b[0m \u001b[0mn\u001b[0m\u001b[0;34m,\u001b[0m \u001b[0maxis\u001b[0m\u001b[0;34m=\u001b[0m\u001b[0;36m0\u001b[0m\u001b[0;34m)\u001b[0m\u001b[0;34m\u001b[0m\u001b[0;34m\u001b[0m\u001b[0m\n\u001b[1;32m     28\u001b[0m         \u001b[0mmatrix2\u001b[0m \u001b[0;34m=\u001b[0m \u001b[0mmatrix1\u001b[0m \u001b[0;34m-\u001b[0m \u001b[0mnp\u001b[0m\u001b[0;34m.\u001b[0m\u001b[0mtranspose\u001b[0m\u001b[0;34m(\u001b[0m\u001b[0mmatrix1\u001b[0m\u001b[0;34m)\u001b[0m\u001b[0;34m\u001b[0m\u001b[0;34m\u001b[0m\u001b[0m\n\u001b[0;32m---> 29\u001b[0;31m         \u001b[0msinmatrix\u001b[0m \u001b[0;34m=\u001b[0m \u001b[0mnp\u001b[0m\u001b[0;34m.\u001b[0m\u001b[0msin\u001b[0m\u001b[0;34m(\u001b[0m\u001b[0mmatrix2\u001b[0m\u001b[0;34m)\u001b[0m\u001b[0;34m\u001b[0m\u001b[0;34m\u001b[0m\u001b[0m\n\u001b[0m\u001b[1;32m     30\u001b[0m         domega = np.multiply(1 / self.M, -np.reshape(self.D, (1, n)) * dtheta + OMEGA0 - self.K * np.sum(\n\u001b[1;32m     31\u001b[0m             np.multiply(sinmatrix, self.A), axis=0))\n",
      "\u001b[0;31mKeyboardInterrupt\u001b[0m: "
     ]
    }
   ],
   "source": [
    "# show edge list\n",
    "# print\n",
    "edge_list39 = list(unG39.edges)\n",
    "num_edges39 = getNumLines(getLines(subnetwork39))\n",
    "rate_list39 = np.zeros((num_edges39,4))\n",
    "# print()\n",
    "j=0\n",
    "for i in edge_list39:\n",
    "    temp_edge = np.array(i)\n",
    "    temp_G39 = edge_removing(unG39, temp_edge)\n",
    "    temp_A39, temp_redL39,temp_redA39 = kron_reduction(n39,ngnr39,temp_G39)\n",
    "    temp_model39 = PowerNetworkSolver(theta0,omega0,temp_redA39,ngnr39,D,M,K,OMEGA)\n",
    "    temp_rates39 = temp_model39.Simulation(KK, check_times, sigma, thres, t, nn, normaldisturbances)\n",
    "    temp_df39 = pd.DataFrame({'Node': node_list,'RoCoF': temp_rates39['vcheck_omega'] , 'AFV': temp_rates39['vcheck_theta'] ,'AV': temp_rates39['vcheck_any']})\n",
    "    rate_list39[j,:]=temp_df39.mean(axis = 0)\n",
    "    j+=1\n",
    "    \n",
    "    "
   ]
  },
  {
   "cell_type": "code",
   "execution_count": 55,
   "metadata": {},
   "outputs": [
    {
     "data": {
      "text/plain": [
       "tuple"
      ]
     },
     "execution_count": 55,
     "metadata": {},
     "output_type": "execute_result"
    }
   ],
   "source": [
    "type(edge_list39[0])"
   ]
  },
  {
   "cell_type": "code",
   "execution_count": null,
   "metadata": {},
   "outputs": [],
   "source": [
    "single_edge_rate39 = pd.DataFrame({'Edge List':edge_list39, 'RoCoF':rate_list39[:,1],'AFV':rate_list39[:,2],'AV':rate_list39[:,3]})"
   ]
  },
  {
   "cell_type": "code",
   "execution_count": null,
   "metadata": {},
   "outputs": [],
   "source": [
    "single_edge_rate39.head()"
   ]
  },
  {
   "cell_type": "code",
   "execution_count": null,
   "metadata": {},
   "outputs": [],
   "source": [
    "single_edge_rate39.to_excel('Single_edge_rate39.xlsx')\n",
    "# print(single_edge_rate39.to_latex(index=False))"
   ]
  },
  {
   "cell_type": "markdown",
   "metadata": {},
   "source": []
  },
  {
   "cell_type": "markdown",
   "metadata": {},
   "source": [
    "# 3. Correlated Disturbances "
   ]
  },
  {
   "cell_type": "code",
   "execution_count": 21,
   "metadata": {},
   "outputs": [],
   "source": [
    "from disturbancesGnr import normaldisturbances\n",
    "from disturbancesGnr import correlated_disturbances\n",
    "from numpy.linalg import matrix_power\n",
    "from scipy.linalg import fractional_matrix_power\n"
   ]
  },
  {
   "cell_type": "code",
   "execution_count": 46,
   "metadata": {},
   "outputs": [
    {
     "name": "stdout",
     "output_type": "stream",
     "text": [
      "[[ 32.19339596  -2.24077412  -2.53804929  -1.83375379  -0.84971196\n",
      "   -1.97837115  -1.10734538 -11.4337488   -3.17111386  -7.0405276 ]\n",
      " [ -2.24077412  24.34176732  -9.78362621  -1.46126519  -0.6771108\n",
      "   -1.57650656  -0.8824114   -1.33259746  -0.79623472  -5.59124086]\n",
      " [ -2.53804929  -9.78362621  25.7907586   -2.04017565  -0.94536227\n",
      "   -2.20107229  -1.23199695  -1.53776482  -0.98920455  -4.52350657]\n",
      " [ -1.83375379  -1.46126519  -2.04017565  32.10610533 -15.62000109\n",
      "   -4.7048095   -2.63340327  -1.32379253  -1.36949665  -1.11940767]\n",
      " [ -0.84971196  -0.6771108   -0.94536227 -15.62000109  23.25921633\n",
      "   -2.18008159  -1.22024792  -0.61340969  -0.63458774  -0.51870327]\n",
      " [ -1.97837115  -1.57650656  -2.20107229  -4.7048095   -2.18008159\n",
      "   30.63199579 -13.87777293  -1.42819225  -1.47750078  -1.20768875]\n",
      " [ -1.10734538  -0.8824114   -1.23199695  -2.63340327  -1.22024792\n",
      "  -13.87777293  23.25554375  -0.79939605  -0.82699531  -0.67597456]\n",
      " [-11.4337488   -1.33259746  -1.53776482  -1.32379253  -0.61340969\n",
      "   -1.42819225  -0.79939605  26.00674565  -3.76604372  -3.77180033]\n",
      " [ -3.17111386  -0.79623472  -0.98920455  -1.36949665  -0.63458774\n",
      "   -1.47750078  -0.82699531  -3.76604372  14.25497516  -1.22379783]\n",
      " [ -7.0405276   -5.59124086  -4.52350657  -1.11940767  -0.51870327\n",
      "   -1.20768875  -0.67597456  -3.77180033  -1.22379783  25.67264743]]\n"
     ]
    }
   ],
   "source": [
    "# np.set_printoptions(precision=3)\n",
    "# np.set_printoptions(edgeitems=3, infstr='inf',linewidth=75, nanstr='nan', precision=8,suppress=False, threshold=1000, formatter=None)\n",
    "# print(redL39)\n",
    "# rounded_redL39 = np.round(redL39,3)\n",
    "# print(np.sum(rounded_redL39,axis=0))\n",
    "np.fill_diagonal(redL39,0)\n",
    "row_sum = -np.sum(redL39,axis = 0)\n",
    "np.fill_diagonal(redL39,row_sum)\n",
    "print(redL39)"
   ]
  },
  {
   "cell_type": "code",
   "execution_count": 47,
   "metadata": {},
   "outputs": [
    {
     "name": "stdout",
     "output_type": "stream",
     "text": [
      "[[0.11683256 0.09854813 0.09841607 0.09415556 0.09264244 0.09483424\n",
      "  0.0936338  0.10713023 0.10043004 0.10337694]\n",
      " [0.09854813 0.12425345 0.10794804 0.09403561 0.09250102 0.09472051\n",
      "  0.09350166 0.09711391 0.0937572  0.10362046]\n",
      " [0.09841607 0.10794804 0.12167297 0.09496997 0.09348553 0.09564126\n",
      "  0.09446585 0.09707669 0.09406861 0.102255  ]\n",
      " [0.09415556 0.09403561 0.09496997 0.12098356 0.11508075 0.10093898\n",
      "  0.09995194 0.09345621 0.09322123 0.09320618]\n",
      " [0.09264244 0.09250102 0.09348553 0.11508075 0.13276828 0.09971048\n",
      "  0.09860383 0.09190418 0.09166727 0.09163621]\n",
      " [0.09483424 0.09472051 0.09564126 0.10093898 0.09971048 0.12000795\n",
      "  0.11218999 0.09414545 0.0939107  0.09390043]\n",
      " [0.0936338  0.09350166 0.09446585 0.09995194 0.09860383 0.11218999\n",
      "  0.12941604 0.09291132 0.09267476 0.09265082]\n",
      " [0.10713023 0.09711391 0.09707669 0.09345621 0.09190418 0.09414545\n",
      "  0.09291132 0.12231181 0.10229513 0.10165507]\n",
      " [0.10043004 0.0937572  0.09406861 0.09322123 0.09166727 0.0939107\n",
      "  0.09267476 0.10229513 0.14163667 0.0963384 ]\n",
      " [0.10337694 0.10362046 0.102255   0.09320618 0.09163621 0.09390043\n",
      "  0.09265082 0.10165507 0.0963384  0.12136047]]\n"
     ]
    }
   ],
   "source": [
    "delta = 1\n",
    "alpha = 1.5\n",
    "tau = 1.5\n",
    "L = redL39\n",
    "# L = L_test\n",
    "n = ngnr39\n",
    "test = delta*(tau**(2*alpha))*fractional_matrix_power(L+(tau**2)*np.eye(n),-alpha)\n",
    "print(test)"
   ]
  },
  {
   "cell_type": "raw",
   "metadata": {},
   "source": [
    "redA_test = np.array([[0,2.484, 2.858, 2.372, 1.031, 0.222,2.13,13.057,3.676,7.834],\n",
    "              [2.484,0,10.494,1.781,0.774,0.166,1.599,1.473,0.903,5.885],\n",
    "              [2.858,10.494,0,2.522,1.096,0.236,2.264,1.729,1.144,4.772],\n",
    "              [2.372,1.781,2.522,0,17.136,0.535,5.14,1.699,1.755,1.367],\n",
    "              [1.031,0.774, 1.096,17.136,0 ,0.232, 2.235, 0.739, 0.763, 0.594],\n",
    "              [0.222,0.166,0.236,0.535,0.232,0,1.574, 0.159, 0.164, 0.128],\n",
    "              [2.13,1.599,2.264, 5.14, 2.235, 1.574, 0, 1.526, 1.576, 1.227],\n",
    "              [13.057,1.473,1.729, 1.699,0.739, 0.159, 1.526, 0, 4.283, 4.159],\n",
    "              [3.676, 0.903, 1.144, 1.755, 0.763, 0.164, 1.576, 4.283, 0, 1.37],\n",
    "              [7.834, 5.885, 4.772, 1.367, 0.594, 0.128, 1.227, 4.159, 1.37 ,0]])\n",
    "redA_test = - redA_test\n",
    "row_sum = -np.sum(redA_test,axis = 0)\n",
    "np.fill_diagonal(redA_test,row_sum)\n",
    "# print(redL39)\n",
    "A_test= nx.to_numpy_matrix(unG39)\n",
    "# print(A_test)\n",
    "L_test = -A_test\n",
    "row_sum = -np.sum(A_test,axis = 0)\n",
    "np.fill_diagonal(L_test,row_sum)\n",
    "print(L_test)"
   ]
  },
  {
   "cell_type": "code",
   "execution_count": null,
   "metadata": {},
   "outputs": [],
   "source": []
  },
  {
   "cell_type": "code",
   "execution_count": null,
   "metadata": {},
   "outputs": [],
   "source": []
  },
  {
   "cell_type": "code",
   "execution_count": null,
   "metadata": {},
   "outputs": [],
   "source": []
  }
 ],
 "metadata": {
  "kernelspec": {
   "display_name": "Python 3",
   "language": "python",
   "name": "python3"
  },
  "language_info": {
   "codemirror_mode": {
    "name": "ipython",
    "version": 3
   },
   "file_extension": ".py",
   "mimetype": "text/x-python",
   "name": "python",
   "nbconvert_exporter": "python",
   "pygments_lexer": "ipython3",
   "version": "3.8.5"
  }
 },
 "nbformat": 4,
 "nbformat_minor": 4
}
