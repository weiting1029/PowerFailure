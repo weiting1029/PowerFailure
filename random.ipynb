{
 "cells": [
  {
   "cell_type": "code",
   "execution_count": 1,
   "metadata": {},
   "outputs": [],
   "source": [
    "import pandas as pd "
   ]
  },
  {
   "cell_type": "code",
   "execution_count": 2,
   "metadata": {},
   "outputs": [],
   "source": [
    "df = pd.read_excel('tables/violation_rates.xlsx')"
   ]
  },
  {
   "cell_type": "code",
   "execution_count": 3,
   "metadata": {},
   "outputs": [],
   "source": [
    "df_sum =df.describe()"
   ]
  },
  {
   "cell_type": "code",
   "execution_count": 4,
   "metadata": {},
   "outputs": [],
   "source": [
    "df_sum.to_excel('tables/summary_statistics.xlsx')"
   ]
  },
  {
   "cell_type": "code",
   "execution_count": 7,
   "metadata": {},
   "outputs": [
    {
     "name": "stdout",
     "output_type": "stream",
     "text": [
      "\\begin{tabular}{lrrr}\n",
      "\\toprule\n",
      "{} &   RoCoF &     AFV &      AV \\\\\n",
      "\\midrule\n",
      "count & 35.0000 & 35.0000 & 35.0000 \\\\\n",
      "mean  &  0.1462 &  0.2558 &  0.2947 \\\\\n",
      "std   &  0.0066 &  0.0036 &  0.0047 \\\\\n",
      "min   &  0.1242 &  0.2470 &  0.2781 \\\\\n",
      "25\\%   &  0.1431 &  0.2542 &  0.2939 \\\\\n",
      "50\\%   &  0.1486 &  0.2550 &  0.2951 \\\\\n",
      "75\\%   &  0.1497 &  0.2572 &  0.2958 \\\\\n",
      "max   &  0.1525 &  0.2651 &  0.3034 \\\\\n",
      "\\bottomrule\n",
      "\\end{tabular}\n",
      "\n"
     ]
    }
   ],
   "source": [
    "print(df_sum.to_latex(float_format=\"%.4f\"))"
   ]
  },
  {
   "cell_type": "code",
   "execution_count": null,
   "metadata": {},
   "outputs": [],
   "source": []
  }
 ],
 "metadata": {
  "kernelspec": {
   "display_name": "Python 3",
   "language": "python",
   "name": "python3"
  },
  "language_info": {
   "codemirror_mode": {
    "name": "ipython",
    "version": 3
   },
   "file_extension": ".py",
   "mimetype": "text/x-python",
   "name": "python",
   "nbconvert_exporter": "python",
   "pygments_lexer": "ipython3",
   "version": "3.8.5"
  }
 },
 "nbformat": 4,
 "nbformat_minor": 4
}
