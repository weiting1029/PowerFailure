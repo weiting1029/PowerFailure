{
 "cells": [
  {
   "cell_type": "code",
   "execution_count": 6,
   "metadata": {},
   "outputs": [],
   "source": [
    "import pandas as pd "
   ]
  },
  {
   "cell_type": "code",
   "execution_count": 7,
   "metadata": {},
   "outputs": [],
   "source": [
    "df = pd.read_excel('tables/violation_rates.xlsx')"
   ]
  },
  {
   "cell_type": "code",
   "execution_count": 8,
   "metadata": {},
   "outputs": [],
   "source": [
    "df_sum =df.describe()"
   ]
  },
  {
   "cell_type": "code",
   "execution_count": 9,
   "metadata": {},
   "outputs": [],
   "source": [
    "df_sum.to_excel('tables/summary_statistics.xlsx')"
   ]
  },
  {
   "cell_type": "code",
   "execution_count": 10,
   "metadata": {},
   "outputs": [
    {
     "name": "stdout",
     "output_type": "stream",
     "text": [
      "\\begin{tabular}{lrrr}\n",
      "\\toprule\n",
      "{} &   RoCoF &     AFV &      AV \\\\\n",
      "\\midrule\n",
      "count & 35.0000 & 35.0000 & 35.0000 \\\\\n",
      "mean  &  0.1462 &  0.2558 &  0.2947 \\\\\n",
      "std   &  0.0066 &  0.0036 &  0.0047 \\\\\n",
      "min   &  0.1242 &  0.2470 &  0.2781 \\\\\n",
      "25\\%   &  0.1431 &  0.2542 &  0.2939 \\\\\n",
      "50\\%   &  0.1486 &  0.2550 &  0.2951 \\\\\n",
      "75\\%   &  0.1497 &  0.2572 &  0.2958 \\\\\n",
      "max   &  0.1525 &  0.2651 &  0.3034 \\\\\n",
      "\\bottomrule\n",
      "\\end{tabular}\n",
      "\n"
     ]
    }
   ],
   "source": [
    "print(df_sum.to_latex(float_format=\"%.4f\"))"
   ]
  },
  {
   "cell_type": "code",
   "execution_count": 1,
   "metadata": {},
   "outputs": [],
   "source": [
    "from powerNetworkSolver import PowerNetworkSolver\n",
    "from powerNetwork import networkTransform, getGenerators, getBuses, getLines,getNumBuses, getNumLines\n",
    "from powerNetwork import getUndGraph, kron_reduction, edge_removing\n",
    "from disturbancesGnr import normaldisturbances\n",
    "from violationChecking import globalcheck\n",
    "import seaborn as sns; sns.set_theme()\n",
    "#importing the function for multi-edge removal\n",
    "from powerNetwork import multi_edge_removing\n",
    "import matplotlib.pyplot as plt\n",
    "import pandas as pd\n",
    "import numpy as np\n",
    "import copy\n",
    "from numpy.linalg import inv \n",
    "import networkx as nx\n",
    "from numpy.random import multivariate_normal\n",
    "from disturbancesGnr import normaldisturbances\n",
    "from scipy.integrate import odeint\n",
    "from violationChecking import violationcheck,globalcheck,globalchecksubset\n",
    "import time \n",
    "import math \n",
    "from functools import reduce\n",
    "from copy import deepcopy\n"
   ]
  },
  {
   "cell_type": "code",
   "execution_count": 2,
   "metadata": {},
   "outputs": [],
   "source": [
    "from greedy_algorithm import greedy_algorithm"
   ]
  },
  {
   "cell_type": "code",
   "execution_count": 3,
   "metadata": {
    "scrolled": true
   },
   "outputs": [],
   "source": [
    "from pypower.api import case39"
   ]
  },
  {
   "cell_type": "code",
   "execution_count": 4,
   "metadata": {
    "scrolled": true
   },
   "outputs": [
    {
     "name": "stderr",
     "output_type": "stream",
     "text": [
      "WARNING:pypsa.io:Warning: Note that when importing from PYPOWER, some PYPOWER features not supported: areas, gencosts, component status\n",
      "INFO:numexpr.utils:Note: NumExpr detected 12 cores but \"NUMEXPR_MAX_THREADS\" not set, so enforcing safe limit of 8.\n",
      "INFO:numexpr.utils:NumExpr defaulting to 8 threads.\n"
     ]
    }
   ],
   "source": [
    "network39, subnetwork39 = networkTransform(case39())\n",
    "df_lines39 = getLines(subnetwork39)\n",
    "df_buses39 = getBuses(subnetwork39)"
   ]
  },
  {
   "cell_type": "code",
   "execution_count": 5,
   "metadata": {
    "scrolled": true
   },
   "outputs": [],
   "source": [
    "n39, ngnr39, unG39 = getUndGraph(df_buses39,df_lines39, network39)\n",
    "A39, redL39, redA39  = kron_reduction(n39, ngnr39, unG39)\n",
    "node_list =  np.arange(ngnr39)+1\n",
    "\n",
    "#the previous adjacent matrix \n",
    "# redA39 = np.array([[0,2.484, 2.858, 2.372, 1.031, 0.222,2.13,13.057,3.676,7.834],\n",
    "#               [2.484,0,10.494,1.781,0.774,0.166,1.599,1.473,0.903,5.885],\n",
    "#               [2.858,10.494,0,2.522,1.096,0.236,2.264,1.729,1.144,4.772],\n",
    "#               [2.372,1.781,2.522,0,17.136,0.535,5.14,1.699,1.755,1.367],\n",
    "#               [1.031,0.774, 1.096,17.136,0 ,0.232, 2.235, 0.739, 0.763, 0.594],\n",
    "#               [0.222,0.166,0.236,0.535,0.232,0,1.574, 0.159, 0.164, 0.128],\n",
    "#               [2.13,1.599,2.264, 5.14, 2.235, 1.574, 0, 1.526, 1.576, 1.227],\n",
    "#               [13.057,1.473,1.729, 1.699,0.739, 0.159, 1.526, 0, 4.283, 4.159],\n",
    "#               [3.676, 0.903, 1.144, 1.755, 0.763, 0.164, 1.576, 4.283, 0, 1.37],\n",
    "#               [7.834, 5.885, 4.772, 1.367, 0.594, 0.128, 1.227, 4.159, 1.37 ,0]])\n",
    "\n",
    "# redA39 = np.ones((ngnr39,ngnr39))\n",
    "# np.fill_diagonal(redA39, 0)\n",
    " "
   ]
  },
  {
   "cell_type": "code",
   "execution_count": 6,
   "metadata": {
    "scrolled": true
   },
   "outputs": [],
   "source": [
    "K = 1\n",
    "M = np.array([0.2228, 0.1607, 0.1899, 0.1517, 0.1379, 0.1846, 0.1401, 0.1289, 0.183, 2.6526])\n",
    "D = np.array([0.0332,0.076,0.0862,0.0838,0.0674,0.0862,0.0743,0.0716,0.1101,0.1333])\n",
    "# Ome = np.zeros(n)\n",
    "pi = math.pi\n",
    "t =  2\n",
    "nn = 100\n",
    "dt = np.linspace(0, t, nn+1)\n",
    "\n",
    "sigma = 0.01\n",
    "theta0 = np.zeros(ngnr39)\n",
    "omega0 = np.zeros(ngnr39)\n",
    "OMEGA = np.zeros(ngnr39)\n",
    "model39 = PowerNetworkSolver(theta0,omega0,redA39, ngnr39, D,M,K,OMEGA)"
   ]
  },
  {
   "cell_type": "code",
   "execution_count": 7,
   "metadata": {},
   "outputs": [],
   "source": [
    "from numpy.random import seed"
   ]
  },
  {
   "cell_type": "code",
   "execution_count": 8,
   "metadata": {
    "scrolled": true
   },
   "outputs": [],
   "source": [
    "#generate numerical tracks \n",
    "seed(100)\n",
    "disturbances = normaldisturbances(ngnr39,1,sigma)\n",
    "sol0 = np.pad(disturbances[0], (ngnr39,0), 'constant', constant_values=(0,0))\n",
    "single_sol = model39.solkuramoto(sol0,dt)\n",
    "sol_domega = model39.getDotOmega(single_sol[:,:ngnr39],single_sol[:,ngnr39:],nn)"
   ]
  },
  {
   "cell_type": "code",
   "execution_count": 11,
   "metadata": {
    "scrolled": true
   },
   "outputs": [],
   "source": [
    "# simulation to calculate failure rates \n",
    "check_times = 100\n",
    "KK =100#repetition times  \n",
    "thres = np.array([0.2,2])#thres1 is for omega, thres2 is for omega_dot\n",
    "# rates39 = model39.Simulation(KK, check_times, sigma, thres, t, nn, normaldisturbances)"
   ]
  },
  {
   "cell_type": "code",
   "execution_count": 12,
   "metadata": {},
   "outputs": [],
   "source": [
    "un_graph = unG39\n",
    "int_theta = theta0\n",
    "int_omega = omega0\n",
    "max_itr = 5\n",
    "type_rate = 1"
   ]
  },
  {
   "cell_type": "code",
   "execution_count": 13,
   "metadata": {},
   "outputs": [
    {
     "ename": "NameError",
     "evalue": "name 'np' is not defined",
     "output_type": "error",
     "traceback": [
      "\u001b[0;31m---------------------------------------------------------------------------\u001b[0m",
      "\u001b[0;31mNameError\u001b[0m                                 Traceback (most recent call last)",
      "\u001b[0;32m<ipython-input-13-e72a4ebadd13>\u001b[0m in \u001b[0;36m<module>\u001b[0;34m\u001b[0m\n\u001b[0;32m----> 1\u001b[0;31m new_graph = greedy_algorithm(un_graph,int_theta,int_omega,D,M,K,OMEGA,KK,check_times,sigma,thres,\n\u001b[0m\u001b[1;32m      2\u001b[0m                              t,nn,normaldisturbances,max_itr,type_rate)\n",
      "\u001b[0;32m~/Documents/GitHub/PowerFailure/greedy_algorithm.py\u001b[0m in \u001b[0;36mgreedy_algorithm\u001b[0;34m(un_graph, int_theta, int_omega, D, M, K, OMEGA, KK, check_times, sigma, thres, t, nn, dtb_gnr, max_itr, type_rate)\u001b[0m\n\u001b[1;32m     17\u001b[0m         \u001b[0mnew_num_edges\u001b[0m \u001b[0;34m=\u001b[0m \u001b[0mnew_graph\u001b[0m\u001b[0;34m.\u001b[0m\u001b[0mnumber_of_edges\u001b[0m\u001b[0;34m(\u001b[0m\u001b[0;34m)\u001b[0m\u001b[0;34m\u001b[0m\u001b[0;34m\u001b[0m\u001b[0m\n\u001b[1;32m     18\u001b[0m         \u001b[0;31m# rate_list = np.zeros(num_edges,4)\u001b[0m\u001b[0;34m\u001b[0m\u001b[0;34m\u001b[0m\u001b[0;34m\u001b[0m\u001b[0m\n\u001b[0;32m---> 19\u001b[0;31m         \u001b[0mnew_edge\u001b[0m \u001b[0;34m=\u001b[0m \u001b[0mnp\u001b[0m\u001b[0;34m.\u001b[0m\u001b[0marray\u001b[0m\u001b[0;34m(\u001b[0m\u001b[0mnew_edge_list\u001b[0m\u001b[0;34m[\u001b[0m\u001b[0;36m0\u001b[0m\u001b[0;34m]\u001b[0m\u001b[0;34m)\u001b[0m\u001b[0;31m#initialize the edge\u001b[0m\u001b[0;34m\u001b[0m\u001b[0;34m\u001b[0m\u001b[0m\n\u001b[0m\u001b[1;32m     20\u001b[0m         \u001b[0mnew_rate\u001b[0m \u001b[0;34m=\u001b[0m \u001b[0;36m1\u001b[0m \u001b[0;31m#intialize the rate\u001b[0m\u001b[0;34m\u001b[0m\u001b[0;34m\u001b[0m\u001b[0m\n\u001b[1;32m     21\u001b[0m         \u001b[0;32mfor\u001b[0m \u001b[0mi\u001b[0m \u001b[0;32min\u001b[0m \u001b[0mnew_edge_list\u001b[0m\u001b[0;34m:\u001b[0m\u001b[0;34m\u001b[0m\u001b[0;34m\u001b[0m\u001b[0m\n",
      "\u001b[0;31mNameError\u001b[0m: name 'np' is not defined"
     ]
    }
   ],
   "source": [
    "new_graagreedy_algorithm(un_graph,int_theta,int_omega,D,M,K,OMEGA,KK,check_times,sigma,thres,t,nn，normaldisturbances,max_itr,type_rate)"
   ]
  },
  {
   "cell_type": "code",
   "execution_count": null,
   "metadata": {},
   "outputs": [],
   "source": []
  }
 ],
 "metadata": {
  "kernelspec": {
   "display_name": "Python 3",
   "language": "python",
   "name": "python3"
  },
  "language_info": {
   "codemirror_mode": {
    "name": "ipython",
    "version": 3
   },
   "file_extension": ".py",
   "mimetype": "text/x-python",
   "name": "python",
   "nbconvert_exporter": "python",
   "pygments_lexer": "ipython3",
   "version": "3.8.5"
  }
 },
 "nbformat": 4,
 "nbformat_minor": 4
}
