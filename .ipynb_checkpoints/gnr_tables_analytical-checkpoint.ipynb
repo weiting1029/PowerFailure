{
 "cells": [
  {
   "cell_type": "code",
   "execution_count": 28,
   "metadata": {
    "collapsed": true,
    "pycharm": {
     "name": "#%%\n"
    }
   },
   "outputs": [],
   "source": [
    "import numpy as np\n",
    "import pandas as pd"
   ]
  },
  {
   "cell_type": "code",
   "execution_count": 29,
   "metadata": {
    "pycharm": {
     "name": "#%%\n"
    }
   },
   "outputs": [],
   "source": [
    "from powerNetworkSolver import PowerNetworkSolver\n",
    "from powerNetwork import networkTransform, getGenerators, getBuses, getLines,getNumBuses, getNumLines\n",
    "from powerNetwork import getUndGraph, kron_reduction, edge_removing\n",
    "from disturbancesGnr import normaldisturbances\n",
    "from violationChecking import globalcheck\n",
    "import seaborn as sns\n",
    "sns.set_theme()\n",
    "#importing the function for multi-edge removal\n",
    "from powerNetwork import multi_edge_removing\n"
   ]
  },
  {
   "cell_type": "code",
   "execution_count": 30,
   "metadata": {
    "pycharm": {
     "name": "#%%\n"
    }
   },
   "outputs": [],
   "source": [
    "import matplotlib.pyplot as plt"
   ]
  },
  {
   "cell_type": "code",
   "execution_count": 31,
   "metadata": {
    "pycharm": {
     "name": "#%%\n"
    }
   },
   "outputs": [],
   "source": [
    "\n",
    "import numpy as np\n",
    "import copy\n",
    "from numpy.linalg import inv\n",
    "import networkx as nx\n",
    "from numpy.random import multivariate_normal\n",
    "from disturbancesGnr import normaldisturbances,correlated_disturbances\n",
    "from scipy.integrate import odeint\n",
    "from violationChecking import globalcheck\n",
    "import math\n",
    "from functools import reduce"
   ]
  },
  {
   "cell_type": "code",
   "execution_count": 32,
   "metadata": {
    "pycharm": {
     "name": "#%%\n"
    }
   },
   "outputs": [],
   "source": [
    "# 1. Test Case 39, complete network"
   ]
  },
  {
   "cell_type": "code",
   "execution_count": 33,
   "metadata": {
    "pycharm": {
     "name": "#%%\n"
    }
   },
   "outputs": [],
   "source": [
    "from pypower.api import case39"
   ]
  },
  {
   "cell_type": "code",
   "execution_count": 34,
   "metadata": {
    "pycharm": {
     "name": "#%%\n"
    }
   },
   "outputs": [
    {
     "name": "stderr",
     "output_type": "stream",
     "text": [
      "WARNING:pypsa.io:Warning: Note that when importing from PYPOWER, some PYPOWER features not supported: areas, gencosts, component status\n",
      "INFO:numexpr.utils:Note: NumExpr detected 12 cores but \"NUMEXPR_MAX_THREADS\" not set, so enforcing safe limit of 8.\n",
      "INFO:numexpr.utils:NumExpr defaulting to 8 threads.\n"
     ]
    }
   ],
   "source": [
    "network39, subnetwork39 = networkTransform(case39())\n",
    "df_lines39 = getLines(subnetwork39)\n",
    "df_buses39 = getBuses(subnetwork39)"
   ]
  },
  {
   "cell_type": "code",
   "execution_count": 35,
   "metadata": {
    "pycharm": {
     "name": "#%%\n"
    }
   },
   "outputs": [],
   "source": [
    "n39, ngnr39, unG39 = getUndGraph(df_buses39,df_lines39, network39)\n",
    "A39, redL39, redA39  = kron_reduction(n39, ngnr39, unG39)\n",
    "node_list =  np.arange(ngnr39)+1\n",
    "\n",
    "#the previous adjacent matrix\n",
    "# redA39 = np.array([[0,2.484, 2.858, 2.372, 1.031, 0.222,2.13,13.057,3.676,7.834],\n",
    "#               [2.484,0,10.494,1.781,0.774,0.166,1.599,1.473,0.903,5.885],\n",
    "#               [2.858,10.494,0,2.522,1.096,0.236,2.264,1.729,1.144,4.772],\n",
    "#               [2.372,1.781,2.522,0,17.136,0.535,5.14,1.699,1.755,1.367],\n",
    "#               [1.031,0.774, 1.096,17.136,0 ,0.232, 2.235, 0.739, 0.763, 0.594],\n",
    "#               [0.222,0.166,0.236,0.535,0.232,0,1.574, 0.159, 0.164, 0.128],\n",
    "#               [2.13,1.599,2.264, 5.14, 2.235, 1.574, 0, 1.526, 1.576, 1.227],\n",
    "#               [13.057,1.473,1.729, 1.699,0.739, 0.159, 1.526, 0, 4.283, 4.159],\n",
    "#               [3.676, 0.903, 1.144, 1.755, 0.763, 0.164, 1.576, 4.283, 0, 1.37],\n",
    "#               [7.834, 5.885, 4.772, 1.367, 0.594, 0.128, 1.227, 4.159, 1.37 ,0]])\n",
    "\n",
    "# redA39 = np.ones((ngnr39,ngnr39))\n",
    "# np.fill_diagonal(redA39, 0)\n"
   ]
  },
  {
   "cell_type": "code",
   "execution_count": 36,
   "metadata": {
    "pycharm": {
     "name": "#%%\n"
    }
   },
   "outputs": [
    {
     "name": "stdout",
     "output_type": "stream",
     "text": [
      "[[ 32.19339596  -2.24077412  -2.53804929  -1.83375379  -0.84971196\n",
      "   -1.97837115  -1.10734538 -11.4337488   -3.17111386  -7.0405276 ]\n",
      " [ -2.24077412  24.34176732  -9.78362621  -1.46126519  -0.6771108\n",
      "   -1.57650656  -0.8824114   -1.33259746  -0.79623472  -5.59124086]\n",
      " [ -2.53804929  -9.78362621  25.7907586   -2.04017565  -0.94536227\n",
      "   -2.20107229  -1.23199695  -1.53776482  -0.98920455  -4.52350657]\n",
      " [ -1.83375379  -1.46126519  -2.04017565  32.10610533 -15.62000109\n",
      "   -4.7048095   -2.63340327  -1.32379253  -1.36949665  -1.11940767]\n",
      " [ -0.84971196  -0.6771108   -0.94536227 -15.62000109  23.25921633\n",
      "   -2.18008159  -1.22024792  -0.61340969  -0.63458774  -0.51870327]\n",
      " [ -1.97837115  -1.57650656  -2.20107229  -4.7048095   -2.18008159\n",
      "   30.63199579 -13.87777293  -1.42819225  -1.47750078  -1.20768875]\n",
      " [ -1.10734538  -0.8824114   -1.23199695  -2.63340327  -1.22024792\n",
      "  -13.87777293  23.25554375  -0.79939605  -0.82699531  -0.67597456]\n",
      " [-11.4337488   -1.33259746  -1.53776482  -1.32379253  -0.61340969\n",
      "   -1.42819225  -0.79939605  26.00674565  -3.76604372  -3.77180033]\n",
      " [ -3.17111386  -0.79623472  -0.98920455  -1.36949665  -0.63458774\n",
      "   -1.47750078  -0.82699531  -3.76604372  14.25497516  -1.22379783]\n",
      " [ -7.0405276   -5.59124086  -4.52350657  -1.11940767  -0.51870327\n",
      "   -1.20768875  -0.67597456  -3.77180033  -1.22379783  25.67264743]]\n"
     ]
    }
   ],
   "source": [
    "print(redL39)"
   ]
  },
  {
   "cell_type": "raw",
   "metadata": {},
   "source": [
    "print(np.round(redA39,5))\n",
    "ax1 = sns.heatmap(redL39.astype(int), annot=True, fmt=\"d\")\n",
    "# print(redL39)\n",
    "ax2 = sns.heatmap(redA39.astype(int), annot=True, fmt=\"d\")"
   ]
  },
  {
   "cell_type": "code",
   "execution_count": 38,
   "metadata": {
    "pycharm": {
     "name": "#%%\n"
    }
   },
   "outputs": [],
   "source": [
    "K = 1\n",
    "M = np.array([0.2228, 0.1607, 0.1899, 0.1517, 0.1379, 0.1846, 0.1401, 0.1289, 0.183, 2.6526])\n",
    "D = np.array([0.0332,0.076,0.0862,0.0838,0.0674,0.0862,0.0743,0.0716,0.1101,0.1333])\n",
    "# Ome = np.zeros(n)\n",
    "pi = math.pi\n",
    "t =  2\n",
    "nn = 100\n",
    "dt = np.linspace(0, t, nn+1)\n",
    "\n",
    "sigma = 0.01\n",
    "theta0 = np.zeros(ngnr39)\n",
    "omega0 = np.zeros(ngnr39)\n",
    "OMEGA = np.zeros(ngnr39)\n",
    "model39 = PowerNetworkSolver(theta0,omega0,redA39,redL39, ngnr39, D,M,K,OMEGA)"
   ]
  },
  {
   "cell_type": "code",
   "execution_count": 39,
   "metadata": {
    "pycharm": {
     "name": "#%%\n"
    }
   },
   "outputs": [],
   "source": [
    "from numpy.random import seed"
   ]
  },
  {
   "cell_type": "code",
   "execution_count": 40,
   "metadata": {
    "pycharm": {
     "name": "#%%\n"
    }
   },
   "outputs": [],
   "source": [
    "#generate numerical tracks\n",
    "seed(100)\n",
    "disturbances = correlated_disturbances(delta=1, alpha=1.5, tau=1.5, n=ngnr39, L=redL39, k=1)\n",
    "sol0 = np.pad(disturbances[0], (ngnr39,0), 'constant', constant_values=(0,0))\n",
    "single_sol = model39.solkuramoto(sol0,dt)\n",
    "sol_domega = model39.getDotOmega(single_sol[:,:ngnr39],single_sol[:,ngnr39:],nn)"
   ]
  },
  {
   "cell_type": "code",
   "execution_count": 41,
   "metadata": {
    "pycharm": {
     "name": "#%%\n"
    }
   },
   "outputs": [
    {
     "data": {
      "text/plain": [
       "Text(0.5, 1.0, 'Phase angles')"
      ]
     },
     "execution_count": 41,
     "metadata": {},
     "output_type": "execute_result"
    },
    {
     "data": {
      "image/png": "[encoded data removed]",
      "text/plain": [
       "<Figure size 432x288 with 1 Axes>"
      ]
     },
     "metadata": {},
     "output_type": "display_data"
    }
   ],
   "source": [
    "for i in range(ngnr39):\n",
    "    theta = single_sol[:,i]\n",
    "    plt.plot(dt, theta, \"-\", label=\"Theta\"+ str(i+1))\n",
    "\n",
    "plt.xlabel(\"Time\")\n",
    "plt.ylabel(\"Theta\")\n",
    "plt.ylim(-0.1, 0.1)\n",
    "plt.legend();\n",
    "plt.title('Phase angles')"
   ]
  },
  {
   "cell_type": "code",
   "execution_count": null,
   "metadata": {
    "pycharm": {
     "name": "#%%\n"
    }
   },
   "outputs": [],
   "source": [
    "for i in range(ngnr39):\n",
    "    omega = single_sol[:,ngnr39+i]\n",
    "    plt.plot(dt, omega, \"-\", label=\"Omega\"+ str(i+1))\n",
    "\n",
    "\n",
    "plt.xlabel(\"Time\")\n",
    "\n",
    "plt.ylabel(\"Omega\")\n",
    "plt.ylim(-0.5, 0.5)\n",
    "plt.legend();\n",
    "plt.title('Natural rotation frequencies')"
   ]
  },
  {
   "cell_type": "code",
   "execution_count": null,
   "metadata": {
    "pycharm": {
     "name": "#%%\n"
    }
   },
   "outputs": [],
   "source": [
    "for i in range(ngnr39):\n",
    "    domega = sol_domega[:,i]\n",
    "    plt.plot(dt, domega, \"-\", label=\"Omega Dot\"+ str(i+1))\n",
    "\n",
    "plt.xlabel(\"Time\")\n",
    "plt.ylabel(\"Omega Dot\")\n",
    "plt.ylim(-5, 5)\n",
    "plt.legend();\n",
    "plt.title('Change Rates of Natural rotation frequencies')"
   ]
  },
  {
   "cell_type": "code",
   "execution_count": null,
   "metadata": {
    "pycharm": {
     "name": "#%%\n"
    }
   },
   "outputs": [],
   "source": [
    "# simulation to calculate failure rates\n",
    "check_times = 100\n",
    "KK =3000#repetition times\n",
    "thres = np.array([0.2,2])#thres1 is for omega, thres2 is for omega_dot\n",
    "rates39 = model39.Simulation(KK, check_times, sigma, thres, t, nn, normaldisturbances)"
   ]
  },
  {
   "cell_type": "code",
   "execution_count": null,
   "metadata": {
    "pycharm": {
     "name": "#%%\n"
    }
   },
   "outputs": [],
   "source": [
    "print(rates39['totaltime'])"
   ]
  },
  {
   "cell_type": "code",
   "execution_count": null,
   "metadata": {
    "pycharm": {
     "name": "#%%\n"
    }
   },
   "outputs": [],
   "source": [
    "df39 = pd.DataFrame({'Node': node_list,'RoCoF': rates39['vcheck_omega'] , 'AFV': rates39['vcheck_theta'] ,'AV': rates39['vcheck_any']})\n",
    "print(df39.to_latex(index=False))\n"
   ]
  }
 ],
 "metadata": {
  "kernelspec": {
   "display_name": "Python 3",
   "language": "python",
   "name": "python3"
  },
  "language_info": {
   "codemirror_mode": {
    "name": "ipython",
    "version": 3
   },
   "file_extension": ".py",
   "mimetype": "text/x-python",
   "name": "python",
   "nbconvert_exporter": "python",
   "pygments_lexer": "ipython3",
   "version": "3.8.5"
  }
 },
 "nbformat": 4,
 "nbformat_minor": 1
}
