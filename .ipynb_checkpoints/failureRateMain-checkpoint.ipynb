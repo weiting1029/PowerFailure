{
 "cells": [
  {
   "cell_type": "code",
   "execution_count": 1,
   "metadata": {},
   "outputs": [],
   "source": [
    "import import_ipynb\n",
    "import numpy as np\n",
    "import scipy as sp\n",
    "from scipy.integrate import odeint\n",
    "import math \n",
    "import matplotlib.pyplot as plt\n",
    "import math \n",
    "import time\n",
    "from numpy.random import multivariate_normal"
   ]
  },
  {
   "cell_type": "code",
   "execution_count": 2,
   "metadata": {},
   "outputs": [],
   "source": [
    "from powerNetworkSolver import PowerNetworkSolver\n",
    "from powerNetwork import networkTransform, getGenerators, getBuses, getLines,getNumBuses, getNumLines\n",
    "from powerNetwork import getUndGraph, kron_reduction, edge_removing\n",
    "from disturbancesGnr import normaldisturbances\n",
    "from violationChecking import globalcheck\n"
   ]
  },
  {
   "cell_type": "markdown",
   "metadata": {},
   "source": [
    "# 1. Test Case 39, complete network "
   ]
  },
  {
   "cell_type": "code",
   "execution_count": 3,
   "metadata": {},
   "outputs": [],
   "source": [
    "from pypower.api import case39"
   ]
  },
  {
   "cell_type": "code",
   "execution_count": 4,
   "metadata": {},
   "outputs": [
    {
     "name": "stderr",
     "output_type": "stream",
     "text": [
      "WARNING:pypsa.io:Warning: Note that when importing from PYPOWER, some PYPOWER features not supported: areas, gencosts, component status\n",
      "INFO:numexpr.utils:Note: NumExpr detected 12 cores but \"NUMEXPR_MAX_THREADS\" not set, so enforcing safe limit of 8.\n",
      "INFO:numexpr.utils:NumExpr defaulting to 8 threads.\n"
     ]
    }
   ],
   "source": [
    "network39, subnetwork39 = networkTransform(case39())\n",
    "df_lines39 = getLines(subnetwork39)\n",
    "df_buses39 = getBuses(subnetwork39)"
   ]
  },
  {
   "cell_type": "code",
   "execution_count": 10,
   "metadata": {},
   "outputs": [],
   "source": [
    "n39, ngnr39, unG39 = getUndGraph(df_buses39,df_lines39, network39)\n",
    "A39, redL39, redA39  = kron_reduction(n39, ngnr39, unG39)"
   ]
  },
  {
   "cell_type": "code",
   "execution_count": 13,
   "metadata": {},
   "outputs": [],
   "source": [
    "K = 1\n",
    "M = np.array([0.2228, 0.1607, 0.1899, 0.1517, 0.1379, 0.1846, 0.1401, 0.1289, 0.183, 2.6526])\n",
    "D = np.array([0.0332,0.076,0.0862,0.0838,0.0674,0.0862,0.0743,0.0716,0.1101,0.1333])\n",
    "# Ome = np.zeros(n)\n",
    "pi = math.pi\n",
    "\n",
    "t = 15\n",
    "nn = 100\n",
    "\n",
    "theta0 = np.zeros(ngnr39)\n",
    "omega0 = np.zeros(ngnr39)\n",
    "model39 = PowerNetworkSolver(theta0,omega0,redA, ngnr39, D,M,K)"
   ]
  },
  {
   "cell_type": "code",
   "execution_count": 8,
   "metadata": {},
   "outputs": [
    {
     "data": {
      "text/plain": [
       "matrix([[ 0.        , 24.33090024,  0.        , ...,  0.        ,\n",
       "          0.        , 40.        ],\n",
       "        [24.33090024,  0.        , 66.22516556, ...,  0.        ,\n",
       "          0.        ,  0.        ],\n",
       "        [ 0.        , 66.22516556,  0.        , ...,  0.        ,\n",
       "          0.        ,  0.        ],\n",
       "        ...,\n",
       "        [ 0.        ,  0.        ,  0.        , ...,  0.        ,\n",
       "          0.        ,  0.        ],\n",
       "        [ 0.        ,  0.        ,  0.        , ...,  0.        ,\n",
       "          0.        ,  0.        ],\n",
       "        [40.        ,  0.        ,  0.        , ...,  0.        ,\n",
       "          0.        ,  0.        ]])"
      ]
     },
     "execution_count": 8,
     "metadata": {},
     "output_type": "execute_result"
    }
   ],
   "source": [
    "KK =1000#repetition times  \n",
    "t = 5\n",
    "nn = 1000\n",
    "dt = np.linspace(0, t, nn+1)\n",
    "sigma = 0.05\n",
    "check_times = 100\n",
    "thres = np.array([0.35,0.5])\n",
    "\n",
    "model39.Simulation(KK, check_times, sigma, thres, t, nn, normaldisturbances)"
   ]
  },
  {
   "cell_type": "code",
   "execution_count": 9,
   "metadata": {},
   "outputs": [
    {
     "data": {
      "text/plain": [
       "matrix([[ 0.        ,  2.24077412,  2.53804929,  1.83375379,  0.84971196,\n",
       "          1.97837115,  1.10734538, 11.4337488 ,  3.17111386,  7.0405276 ],\n",
       "        [ 2.24077412,  0.        ,  9.78362621,  1.46126519,  0.6771108 ,\n",
       "          1.57650656,  0.8824114 ,  1.33259746,  0.79623472,  5.59124086],\n",
       "        [ 2.53804929,  9.78362621,  0.        ,  2.04017565,  0.94536227,\n",
       "          2.20107229,  1.23199695,  1.53776482,  0.98920455,  4.52350657],\n",
       "        [ 1.83375379,  1.46126519,  2.04017565,  0.        , 15.62000109,\n",
       "          4.7048095 ,  2.63340327,  1.32379253,  1.36949665,  1.11940767],\n",
       "        [ 0.84971196,  0.6771108 ,  0.94536227, 15.62000109,  0.        ,\n",
       "          2.18008159,  1.22024792,  0.61340969,  0.63458774,  0.51870327],\n",
       "        [ 1.97837115,  1.57650656,  2.20107229,  4.7048095 ,  2.18008159,\n",
       "          0.        , 13.87777293,  1.42819225,  1.47750078,  1.20768875],\n",
       "        [ 1.10734538,  0.8824114 ,  1.23199695,  2.63340327,  1.22024792,\n",
       "         13.87777293,  0.        ,  0.79939605,  0.82699531,  0.67597456],\n",
       "        [11.4337488 ,  1.33259746,  1.53776482,  1.32379253,  0.61340969,\n",
       "          1.42819225,  0.79939605,  0.        ,  3.76604372,  3.77180033],\n",
       "        [ 3.17111386,  0.79623472,  0.98920455,  1.36949665,  0.63458774,\n",
       "          1.47750078,  0.82699531,  3.76604372,  0.        ,  1.22379783],\n",
       "        [ 7.0405276 ,  5.59124086,  4.52350657,  1.11940767,  0.51870327,\n",
       "          1.20768875,  0.67597456,  3.77180033,  1.22379783,  0.        ]])"
      ]
     },
     "execution_count": 9,
     "metadata": {},
     "output_type": "execute_result"
    }
   ],
   "source": []
  },
  {
   "cell_type": "code",
   "execution_count": null,
   "metadata": {},
   "outputs": [],
   "source": []
  }
 ],
 "metadata": {
  "kernelspec": {
   "display_name": "Python 3",
   "language": "python",
   "name": "python3"
  },
  "language_info": {
   "codemirror_mode": {
    "name": "ipython",
    "version": 3
   },
   "file_extension": ".py",
   "mimetype": "text/x-python",
   "name": "python",
   "nbconvert_exporter": "python",
   "pygments_lexer": "ipython3",
   "version": "3.8.5"
  }
 },
 "nbformat": 4,
 "nbformat_minor": 4
}
